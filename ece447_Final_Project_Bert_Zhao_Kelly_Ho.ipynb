{
  "nbformat": 4,
  "nbformat_minor": 0,
  "metadata": {
    "kernelspec": {
      "display_name": "Python 3",
      "language": "python",
      "name": "python3"
    },
    "language_info": {
      "codemirror_mode": {
        "name": "ipython",
        "version": 3
      },
      "file_extension": ".py",
      "mimetype": "text/x-python",
      "name": "python",
      "nbconvert_exporter": "python",
      "pygments_lexer": "ipython3",
      "version": "3.6.1"
    },
    "latex_envs": {
      "LaTeX_envs_menu_present": true,
      "autoclose": false,
      "autocomplete": true,
      "bibliofile": "biblio.bib",
      "cite_by": "apalike",
      "current_citInitial": 1,
      "eqLabelWithNumbers": true,
      "eqNumInitial": 1,
      "hotkeys": {
        "equation": "Ctrl-E",
        "itemize": "Ctrl-I"
      },
      "labels_anchors": false,
      "latex_user_defs": false,
      "report_style_numbering": false,
      "user_envs_cfg": false
    },
    "colab": {
      "name": "ece447_Final Project_Bert Zhao_Kelly Ho.ipynb",
      "provenance": [],
      "collapsed_sections": []
    }
  },
  "cells": [
    {
      "cell_type": "markdown",
      "metadata": {
        "id": "2Y8GAy5gCKYt"
      },
      "source": [
        "# EE 447 Final Project   \n",
        "\n",
        "Name: Bert Zhao, Kelly Ho\n",
        "\n",
        "Spring 2020 (rev 1.0)\n",
        "\n",
        "\n",
        " **Due June 12th at 11:59pm**\n"
      ]
    },
    {
      "cell_type": "code",
      "metadata": {
        "id": "Z4gZ2uBvge7e",
        "outputId": "3351000f-20d0-4f96-d05d-2e04235e685d",
        "colab": {
          "base_uri": "https://localhost:8080/",
          "height": 170
        }
      },
      "source": [
        "!pip install control\n",
        "\n",
        "import numpy as np\n",
        "import scipy.integrate as spi\n",
        "import matplotlib.pyplot as plt\n",
        "import matplotlib.patches as patches\n",
        "import scipy.signal as signal\n",
        "import control as ctrl\n",
        "from sympy import *\n",
        "from control import *\n",
        "from matplotlib import animation\n",
        "%matplotlib inline\n",
        "plt.style.use('dark_background')\n",
        "\n",
        "try: \n",
        "  import google.colab #test for colab\n",
        "  import IPython\n",
        "  def setup_typeset():\n",
        "    \"\"\"MathJax initialization for the current cell.\n",
        "    \n",
        "    This installs and configures MathJax for the current output.\n",
        "    \"\"\"\n",
        "    IPython.display.display(IPython.display.HTML('''\n",
        "        <script src=\"https://www.gstatic.com/external_hosted/mathjax/latest/MathJax.js?config=TeX-AMS_HTML-full,Safe&delayStartupUntil=configured\"></script>\n",
        "        <script>\n",
        "          (() => {\n",
        "            const mathjax = window.MathJax;\n",
        "            mathjax.Hub.Config({\n",
        "            'tex2jax': {\n",
        "              'inlineMath': [['$', '$'], ['\\\\(', '\\\\)']],\n",
        "              'displayMath': [['$$', '$$'], ['\\\\[', '\\\\]']],\n",
        "              'processEscapes': true,\n",
        "              'processEnvironments': true,\n",
        "              'skipTags': ['script', 'noscript', 'style', 'textarea', 'code'],\n",
        "              'displayAlign': 'center',\n",
        "            },\n",
        "            'HTML-CSS': {\n",
        "              'styles': {'.MathJax_Display': {'margin': 0}},\n",
        "              'linebreaks': {'automatic': true},\n",
        "              // Disable to prevent OTF font loading, which aren't part of our\n",
        "              // distribution.\n",
        "              'imageFont': null,\n",
        "            },\n",
        "            'messageStyle': 'none'\n",
        "          });\n",
        "          mathjax.Hub.Configured();\n",
        "        })();\n",
        "        </script>\n",
        "        '''))\n",
        "  def custom_latex_printer(exp,**options):\n",
        "      setup_typeset()\n",
        "      return printing.latex(exp,**options)\n",
        "  init_printing(use_latex=\"mathjax\",latex_printer=custom_latex_printer)\n",
        "except:\n",
        "  init_printing(use_latex='mathjax')\n",
        "\n",
        "def find_Ts (y, t, G):\n",
        "  Ts = 0\n",
        "  avg = np.mean(y[int(round(len(y)*3/4)):len(y)]/G)\n",
        "  for i in range(len(y)):\n",
        "    check = abs(y[i]/G - avg) \n",
        "    if check > (avg*0.02):\n",
        "      Ts = t[i]\n",
        "      #print(t[i])\n",
        "      #print(check)\n",
        "  return Ts\n",
        "\n",
        "def find_OS(y):\n",
        "  avg = np.mean(y[int(round(len(y)*3/4)):len(y)])\n",
        "  peak = max(y)\n",
        "  return (peak-avg) / avg\n",
        "\n",
        "def find_avg(y):\n",
        "  return np.mean(y[int(round(len(y)*3/4)):len(y)])"
      ],
      "execution_count": null,
      "outputs": [
        {
          "output_type": "stream",
          "text": [
            "Requirement already satisfied: control in /usr/local/lib/python3.6/dist-packages (0.8.3)\n",
            "Requirement already satisfied: numpy in /usr/local/lib/python3.6/dist-packages (from control) (1.18.5)\n",
            "Requirement already satisfied: matplotlib in /usr/local/lib/python3.6/dist-packages (from control) (3.2.1)\n",
            "Requirement already satisfied: scipy in /usr/local/lib/python3.6/dist-packages (from control) (1.4.1)\n",
            "Requirement already satisfied: pyparsing!=2.0.4,!=2.1.2,!=2.1.6,>=2.0.1 in /usr/local/lib/python3.6/dist-packages (from matplotlib->control) (2.4.7)\n",
            "Requirement already satisfied: kiwisolver>=1.0.1 in /usr/local/lib/python3.6/dist-packages (from matplotlib->control) (1.2.0)\n",
            "Requirement already satisfied: cycler>=0.10 in /usr/local/lib/python3.6/dist-packages (from matplotlib->control) (0.10.0)\n",
            "Requirement already satisfied: python-dateutil>=2.1 in /usr/local/lib/python3.6/dist-packages (from matplotlib->control) (2.8.1)\n",
            "Requirement already satisfied: six in /usr/local/lib/python3.6/dist-packages (from cycler>=0.10->matplotlib->control) (1.12.0)\n"
          ],
          "name": "stdout"
        }
      ]
    },
    {
      "cell_type": "markdown",
      "metadata": {
        "collapsed": true,
        "id": "4LmiK0XKCKYu"
      },
      "source": [
        "# Overview\n",
        "\n",
        "For this project, you will design several control systems for an electric self-ballancing scooter. You will use root\n",
        "locus, full state feedback. To validate the approach, you will\n",
        "simulate the complete system with the nonlinear model. You will also determine how well your controller works in\n",
        "a discretized setting. Finally, you will assess the performance and\n",
        "robustness to disturbances and noise in your system.\n",
        "\n",
        "You should turn your project in as an executable Python notebook that runs\n",
        "in Google colab and a PDF similar with the following formatting rules:\n",
        "\n",
        "1. Your notebook should have a title, your name, the name of the course, and the date prominently displayed at the top.\n",
        "1. Each below should be contained in a new section, with a large markdown heading of the form\n",
        "```\n",
        "# Task n: Title\n",
        "```\n",
        "followed by a short paragraph restating the goal of the task. \n",
        "1. Each task should include a *textual* description, including equations, of how you accomplished the task.  Please write in proper English will full sentences and paragraphs.  The standard here is higher than the homework and should **not** be in a question/answer format.\n",
        "1. All code blocks should be included detailed comments. Extraneous cells that you used\n",
        "for testing or side calculations should be deleted. \n",
        "1. Use figures wherever you can. You must\n",
        "    - Label your axes.\n",
        "    - Title your plots.\n",
        "    - Label individual curves with legends when there are more than one curve per plot.\n",
        "    - Overlay plots to make comparisons where applicable.\n",
        "    - Use subplots to arrange related plots into a grid.\n",
        "    - Adjust axes limits where appropriate to show the correct detail.\n",
        "1. Over all your submission should read like a report with embedded code and a bit more structure as defined above.  The key thing to strive for is clarity!  And always explain what and why even if the task doesn't explicitly ask for it. \n",
        "\n",
        "## Grading\n",
        "\n",
        "The project will be graded as a whole.  However, it will be split into two assignments.  The first assignment will be part A and will be due first.  The second assignment will be part A+B and will be due during finals week.  \n",
        "\n",
        "The quality of A should be that of a final product and basic revisions will not be looked at when A+B is turned in.  The only exception is for major mistakes, which you will have to make obvious at first glance.  If there is enough time to complete the grading, fixes for major mistakes will be considered and applied to the final grading of the project.  Simply put, try and get part A right the first time as there is no guarantee revisions can be considered.  \n",
        "\n",
        "The project will be graded as a whole but part A will be worth roughly XXX points.  That is, if you turned in a perfect part A and no part B you could expect XXX points.  \n",
        "\n",
        "## optional components:\n",
        "\n",
        "Optional portions of the project are worth additional points at the instruction team's discretion.  \n"
      ]
    },
    {
      "cell_type": "markdown",
      "metadata": {
        "id": "uyGE-x8xCKYx"
      },
      "source": [
        "# The System\n",
        "\n",
        "Suppose you're building a self-balancing  scooter.  A model for such a scooter is defined by the following equations:\n",
        "\n",
        "\\begin{align}\n",
        "(M+m)\\ddot p - m\\ell\\cos(\\theta)\\ddot\\theta +c\\dot p+m\\ell\\dot\\theta^2\\sin(\\theta)&=\\tau R \\\\\n",
        "-m\\ell \\cos(\\theta)\\ddot p + (J+m\\ell^2)\\ddot\\theta+\\gamma\\dot\\theta-mg\\ell\\sin(\\theta)&= 0\n",
        "\\end{align}\n",
        "Where $p$ is the position of the scooter; $\\theta$ is the angle of the rider (with upright being $\\theta=0$);$M$ is the mass of the scooter; $m$ , $J$ , and $\\ell$ the rider's mass, moment-of-inertia, and leg length (~half of rider height); $c$ and $\\gamma$ are coefficients of friction, $R$ is the radius of the wheels, and $g$ is the acceleration due to gravity. \n",
        "\n",
        "The scooter has the following parameters:\n",
        "\n",
        "|variable|value|\n",
        "|:------:|-----|\n",
        "|$M$ | 40 kg   |\n",
        "|$R$ | 0.25 m  |\n",
        "|$g$ | 9.81 m/s$^2$ |\n",
        "|$c$ | 0.7 |\n",
        "|$\\gamma$ | 0.2 | \n",
        "\n",
        "The following are the average rider's (a child) parameters:\n",
        "\n",
        "|variable|value|\n",
        "|:------:|-----|\n",
        "|$m$   | 30 kg |\n",
        "|$\\ell$ | 0.75 m |\n",
        "|$J$ | $\\ell^2m$|\n",
        "\n",
        "\n",
        "The scooter has the following features:\n",
        "\n",
        "- It is controlled by a lever control that reports the desired velocity in m/s\n",
        "- It is fitted with a speedometer that reports in m/s\n",
        "- An off-the-shelf motor controller that controls the motor torque ($\\tau$) in newton meters."
      ]
    },
    {
      "cell_type": "markdown",
      "metadata": {
        "id": "lvBrLeUm-lbm"
      },
      "source": [
        "# PART A"
      ]
    },
    {
      "cell_type": "markdown",
      "metadata": {
        "id": "1fkFQ0YOzJkj"
      },
      "source": [
        "##Task 1: Description \n",
        "\n",
        "Describe the system.  Explain what the inputs and outputs and states are and include an illustration showing the states:\n",
        "\\begin{align}\n",
        "x_1 &= \\dot p\\\\\n",
        "x_2 &= \\theta\\\\\n",
        "x_3 &= \\dot \\theta.\n",
        "\\end{align}\n",
        "Also include a block diagram of the system.\n"
      ]
    },
    {
      "cell_type": "markdown",
      "metadata": {
        "id": "y76Ru4iLuSGV"
      },
      "source": [
        "The system is like a Segway scooter. The user inputs the desired velocity to the motor controller using the lever input. There are three states of the system. The first is $x_1 = \\dot p$ which is the linear velocity of the scooter. The second is $x_2 = \\theta$ which is the angle from the vertical of the rider on the scooter. The third is $x_3 = \\dot \\theta$ which is the angular velocity of the angle from the vertical of the rider. The output of the system is the desired velocity which is state $x_1$.\n",
        "\n",
        "The free body below illustrates the scooter based on the parameters from the net force and rotational inertia equations. All three states along with the input and output are illustrated.\n",
        "\n",
        "![alt text](https://docs.google.com/drawings/d/e/2PACX-1vTgATJTZEla7A26nwxtMZmzaf9Zkdr3bA7Tm_37SlslV6qZiVodQBYa1_1qk4_zy6Nd8l0jpD9KQjoZ/pub?w=960&h=720)\n",
        "\n",
        "The block diagrams of the system are shown below. We can see that the user inputs the desired velocity via the lever input. Internal to the system, the controller outputs the torque to the plant. The controller also receives feedback from all three states. $\\theta$ and $\\dot \\theta$ are internal conditions that are not decided by the user, but still important states for the controller to track in order to determine the proper torque output.\n",
        "\n",
        "![alt text](https://docs.google.com/drawings/d/e/2PACX-1vST2YPnSrJEjbmKxq6D4p1axQakblX6pqiy22Zi9MP-Kez-dx7rBzp8fwn2sBNyezguZbPZrwXFD-PE/pub?w=1056&h=816)\n",
        "\n",
        "![alt text](https://docs.google.com/drawings/d/e/2PACX-1vRYTFnAs5yVNAMyymivXrzv1scjhCciIBasn8V8XV-YMqE45hA7n6wPl8V5RBTTCMiP97KeZsQezCXJ/pub?w=1056&h=816)\n"
      ]
    },
    {
      "cell_type": "markdown",
      "metadata": {
        "id": "LVzi3sIPCKY1"
      },
      "source": [
        "## Task 2: Performance Specification\n",
        "\n",
        "People in vehicles generally do not like excessive acceleration (or [jerk](https://en.wikipedia.org/wiki/Jerk), but we'll ignore jerk for this project).  Suppose the maximum comfortable acceleration  is 2 m/s$^2$ and the maximum designed speed is 10 m/s.  People also do not like their velocity to oscillate.\n",
        "\n",
        "Translate the above into a performance specification.  Include at least a specification for rise time of the output $y$ and a specification for overshoot.  \n"
      ]
    },
    {
      "cell_type": "markdown",
      "metadata": {
        "id": "YgBWAIASyhE1"
      },
      "source": [
        "Performance Specification:\n",
        "---\n",
        "\n",
        "*   We model the Segway scooter as a critically damped system since we do not want the scooter's velocity to oscillate.\n",
        "\n",
        "*   The maximum speed of the scooter is designed to be 8 m/s, so the scooter's velocity will not exceed 10 m/s.\n",
        "\n",
        "*   The maximum and minimum accelerations of the scooter are designed to be 2 m/s$^2$ and 0.5 m/s$^2$ respectively.\n",
        "\n",
        "*   The minimum rise time to achieve the maximum speed of 8 m/s is 4 seconds with a maximum acceleration of 2 m/s$^2$.\n",
        "\n",
        "*   The maximum rise time to achieve the maximum speed of 8 m/s is 16 seconds with a minimum acceleration of 0.5 m/s$^2$.\n",
        "\n",
        "*   As the scooter is designed as a critically damped system and its velocity does not oscillate, we would like to have the percent overshoot to be close to 0%."
      ]
    },
    {
      "cell_type": "markdown",
      "metadata": {
        "id": "Tiat1ejDCKY2"
      },
      "source": [
        "## Task 3: Linearization & Analysis\n",
        "\n",
        "To control this system using the methods in this course, you need to\n",
        "obtain a linear model around the desired equilibrium point.\n",
        "\n",
        "Begin by rewriting the model as a first order ODE in the from\n",
        "$$\\begin{pmatrix}\n",
        "\\dot x_1 \\\\\n",
        "\\dot x_2 \\\\\n",
        "\\dot x_3\n",
        "\\end{pmatrix} = \\begin{pmatrix}\n",
        "f_1(x_1,x_2,x_3,\\tau) \\\\\n",
        "f_2(x_1,x_2,x_3,\\tau) \\\\\n",
        "f_3(x_1,x_2,x_3,\\tau)\n",
        "\\end{pmatrix}\n",
        "$$\n",
        "\n",
        "\n",
        "Pick an equilbrium point $(x_1^*,x_2^*,x_3^*,\\tau^*)$ and justify your choice of equilibrium based on the physical system's use. \n",
        "Linearize the model of your system around this point to obtain a model of the form\n",
        "\n",
        "\\begin{eqnarray*}\n",
        "\\dot { x}  & = & A { x}  + B u \\\\\n",
        "y  & = & C { x} \n",
        "\\end{eqnarray*}\n",
        "\n",
        "Determine the poles of the\n",
        "system and discuss its natural (uncontrolled) behavior. Finally,\n",
        "obtain a transfer function of the system. \n",
        "\n",
        "Note: If performing the linearization without the aid of computer algebra you may assume the rider is close to upright at all times (which is quite reasonable) and replace the sin and cos with it's [small angle approximation](https://en.wikipedia.org/wiki/Small-angle_approximation).  This effectively  does part of the linearization beforehand and does not change the result but will make manual computation easier. "
      ]
    },
    {
      "cell_type": "markdown",
      "metadata": {
        "id": "3fKcJFp1CJY0"
      },
      "source": [
        "## Linearizing functions\n",
        "\n",
        "In linearizing our model, we must first define $f_1$, $f_2$, and $f_3$. We know that the first order ODE of our system can be modeled as follows:\n",
        "\n",
        "$$\\begin{pmatrix}\n",
        "\\dot x_1 \\\\\n",
        "\\dot x_2 \\\\\n",
        "\\dot x_3\n",
        "\\end{pmatrix} = \\begin{pmatrix}\n",
        "f_1(x_1,x_2,x_3,\\tau) \\\\\n",
        "f_2(x_1,x_2,x_3,\\tau) \\\\\n",
        "f_3(x_1,x_2,x_3,\\tau)\n",
        "\\end{pmatrix} = \\begin{pmatrix}\n",
        "\\ddot p \\\\\n",
        "\\dot \\theta \\\\\n",
        "\\ddot \\theta\n",
        "\\end{pmatrix}\n",
        "$$\n",
        "\n",
        "We then solve for $\\ddot p$, $\\dot \\theta$, and $\\ddot \\theta$ using the given equations modeling the scooter.\n",
        "\n",
        "## Solving for $\\ddot p$\n",
        "\n",
        "First we rearrange both equations in terms of $\\ddot \\theta$. This gives us the following two equations:\n",
        "\n",
        "$$\\ddot \\theta = \\frac{- R \\tau + c \\dot{p} + \\ell m \\theta \\dot{\\theta}^{2} + \\ddot{p} (M + m)}{\\ell m}$$\n",
        "\n",
        "$$\\ddot \\theta = \\frac{\\ell g m \\theta + \\ell m \\ddot{p}- \\gamma \\dot{\\theta}}{J + \\ell^{2} m}$$\n",
        "\n",
        "We can then set these equations equal to each other and use the `solve` function to find $\\ddot p$.\n",
        "\n",
        "$$\\frac{- R \\tau + c \\dot{p} + \\ell m \\theta \\dot{\\theta}^{2} + \\ddot{p} (M + m)}{\\ell m} = \\frac{\\ell g m \\theta + \\ell m \\ddot{p}- \\gamma \\dot{\\theta}}{J + \\ell^{2} m}$$\n",
        "\n",
        "$$\\frac{\\ell g m \\theta + \\ell m \\ddot{p}- \\gamma \\dot{\\theta}}{J + \\ell^{2} m} - \\frac{- R \\tau + c \\dot{p} + \\ell m \\theta \\dot{\\theta}^{2} + \\ddot{p} (M + m)}{\\ell m} = 0$$\n",
        "\n",
        "$$\\ddot p =\\frac{\\left(J R \\tau - J c \\dot{p} - J \\ell m \\theta \\dot{\\theta}^{2} + R \\ell^{2} m \\tau - c \\ell^{2} m \\dot{p} - \\ell^{3} m^{2} \\theta \\dot{\\theta}^{2} + \\ell^{2} g m^{2} \\theta - \\ell \\gamma m \\dot{\\theta}\\right)}{J M + J m + M \\ell^{2} m} $$\n",
        "\n",
        "## Solving for $\\dot \\theta$\n",
        "\n",
        "We know from the given states that $f_2$ = $\\dot \\theta = x_3$\n",
        "\n",
        "## Solving for $\\ddot \\theta$\n",
        "\n",
        "First we rearrange both equations in terms of $\\ddot p$. This gives us the following two equations:\n",
        "\n",
        "$$\\ddot p = \\frac{\\left(R \\tau - c \\dot{p} - \\ell m \\theta \\dot{\\theta}^{2} + \\ell m \\ddot{\\theta}\\right)}{M + m}$$\n",
        "\n",
        "$$\\ddot p = \\frac{\\left(- \\ell g m \\theta + \\gamma \\dot{\\theta} + \\ddot{\\theta} \\left(J + \\ell^{2} m\\right)\\right)}{\\ell m}$$\n",
        "\n",
        "We can then set these equations equal to each other and use the `solve` function to find $\\ddot \\theta$.\n",
        "\n",
        "$$\\frac{\\left(R \\tau - c \\dot{p} - \\ell m \\theta \\dot{\\theta}^{2} + \\ell m \\ddot{\\theta}\\right)}{M + m} = \\frac{\\left(- \\ell g m \\theta + \\gamma \\dot{\\theta} + \\ddot{\\theta} \\left(J + \\ell^{2} m\\right)\\right)}{\\ell m}$$\n",
        "\n",
        "$$\\frac{\\left(R \\tau - c \\dot{p} - \\ell m \\theta \\dot{\\theta}^{2} + \\ell m \\ddot{\\theta}\\right)}{M + m} - \\frac{\\left(- \\ell g m \\theta + \\gamma \\dot{\\theta} + \\ddot{\\theta} \\left(J + \\ell^{2} m\\right)\\right)}{\\ell m} = 0$$\n",
        "\n",
        "$$\\ddot \\theta =\\frac{M \\ell g m \\theta - M \\gamma \\dot{\\theta} + R \\ell m \\tau - c \\ell m \\dot{p} - \\ell^{2} m^{2} \\theta \\dot{\\theta}^{2} + \\ell g m^{2} \\theta - \\gamma m \\dot{\\theta}}{J M + J m + M \\ell^{2} m} $$\n",
        "\n",
        "## ODE representation\n",
        "\n",
        "We can then plug back in $\\ddot p$, $\\dot \\theta$, and $\\ddot \\theta$ to get the ODE of the system.\n",
        "\n",
        "$$\\begin{pmatrix}\n",
        "\\dot x_1 \\\\\n",
        "\\dot x_2 \\\\\n",
        "\\dot x_3\n",
        "\\end{pmatrix} = \\begin{pmatrix}\n",
        "f_1(x_1,x_2,x_3,\\tau) \\\\\n",
        "f_2(x_1,x_2,x_3,\\tau) \\\\\n",
        "f_3(x_1,x_2,x_3,\\tau)\n",
        "\\end{pmatrix} = \\begin{pmatrix}\n",
        "\\frac{\\left(J R \\tau - J c \\dot{p} - J \\ell m \\theta \\dot{\\theta}^{2} + R \\ell^{2} m \\tau - c \\ell^{2} m \\dot{p} - \\ell^{3} m^{2} \\theta \\dot{\\theta}^{2} + \\ell^{2} g m^{2} \\theta - \\ell \\gamma m \\dot{\\theta}\\right)}{J M + J m + M \\ell^{2} m} \\\\\n",
        "\\dot \\theta \\\\\n",
        "\\frac{M \\ell g m \\theta - M \\gamma \\dot{\\theta} + R \\ell m \\tau - c \\ell m \\dot{p} - \\ell^{2} m^{2} \\theta \\dot{\\theta}^{2} + \\ell g m^{2} \\theta - \\gamma m \\dot{\\theta}}{J M + J m + M \\ell^{2} m}\n",
        "\\end{pmatrix}\n",
        "$$\n",
        "\n",
        "## Equilibrium points and steady state\n",
        "\n",
        "Once we have $\\ddot p$, $\\dot \\theta$, and $\\ddot \\theta$ solved, we can plug in equilibrium points to solve for $\\tau$. We chose our equilibrium points to be $\\dot p = 8$, $\\theta = 0$, and $\\dot \\theta = 0$. $\\dot p = 8$ because we chose the max speed to be 8m/s. $\\theta = 0$ because we are assuming the rider is always upright. $\\dot \\theta = 0$, because we don't want the lean of the rider to be changing. We can then substitute all variables and our chosen equilibrium point to solve for $\\tau$, for which we get $22.4$.\n",
        "\n",
        "## Jacobian and state space\n",
        "\n",
        "Once we have our equilibrium points, we can solve for the Jacobian and matrices $A$, $B$, and $C$ for a state space representation of our system. This gives the following for our state space matrices:\n",
        "\n",
        "\n",
        "$$A = \\begin{pmatrix}- \\frac{c \\left(J + \\ell^{2} m\\right)}{J M + J m + M \\ell^{2} m} & \\frac{\\ell^{2} g m^{2}}{J M + J m + M \\ell^{2} m} & - \\frac{\\ell \\gamma m}{J M + J m + M \\ell^{2} m}\\\\0 & 0 & 1\\\\- \\frac{c \\ell m}{J M + J m + M \\ell^{2} m} & \\frac{\\ell g m \\left(M + m\\right)}{J M + J m + M \\ell^{2} m} & - \\frac{\\gamma \\left(M + m\\right)}{J M + J m + M \\ell^{2} m}\\end{pmatrix}$$\n",
        "\n",
        "$$B = \\begin{pmatrix}\\frac{R \\left(J + \\ell^{2} m\\right)}{J M + J m + M \\ell^{2} m}\\\\0\\\\\\frac{R \\ell m}{J M + J m + M \\ell^{2} m}\\end{pmatrix}$$\n",
        "\n",
        "$$C = \\begin{pmatrix}1 & 0 & 0\\end{pmatrix}$$\n",
        "\n",
        "We can then substitute all the parameters to get a close numerical approximation of our system.\n",
        "\n",
        "$$A = \\begin{pmatrix}-0.0127 & 2.6755 & -0.00242\\\\0 & 0 & 1\\\\-0.00848 & 8.3236 & -0.007542\\end{pmatrix}$$\n",
        "\n",
        "$$B = \\begin{pmatrix}0.004545\\\\0\\\\0.00303\\end{pmatrix}$$\n",
        "\n",
        "$$C = \\begin{pmatrix}1 & 0 & 0\\end{pmatrix}$$\n",
        "\n",
        "## Transfer function\n",
        "\n",
        "We can solve for the transfer function through the following:\n",
        "\n",
        "$$T(s) = C(sI-A)^{-1}B = \\frac{0.004545 s^{2} + 2.6936 \\cdot 10^{-5} s - 0.02973}{s^{3} + 0.020269 s^{2} - 8.3236 s - 0.08324}$$\n",
        "\n",
        "## Poles and zeros\n",
        "\n",
        "We also solve for the poles and zeros. The zeros are approximatly $\\pm 2.56$ and the poles are approximatly $\\pm 2.89$ and $-0.01$.\n",
        "\n",
        "## Root locus and behavior\n",
        "\n",
        "The root locus plot is shown below. Note that without the controller, all the poles reside on the real axis. There is a positive real pole which means that the system is unstable without a controller. This makes sense because we should expect the scooter to tip over if the motor contoller is not exerting a torque to keep it upright."
      ]
    },
    {
      "cell_type": "code",
      "metadata": {
        "id": "rZn6r2Xpy_y1",
        "outputId": "e48b7b37-29ac-4acf-86d2-93b93305a683",
        "colab": {
          "base_uri": "https://localhost:8080/",
          "height": 47
        }
      },
      "source": [
        "# Goal: solve the expressions for p double dot and theta double dot from the given two equations.\n",
        "\n",
        "var('M m ell p pdot pddot theta thetadot thetaddot c tau R J gamma g')\n",
        "\n",
        "# Rearrange the given two equations in terms of p double dot.\n",
        "pL = (tau * R + m*ell*thetaddot - c*pdot - m*ell*thetadot**2*theta) / (M + m)\n",
        "pR = ((J + m*ell**2)*thetaddot + gamma*thetadot - m*g*ell*theta) / (m*ell)\n",
        "\n",
        "# Rearrange the given two equations in terms of theta double dot.\n",
        "tL = ((M + m)*pddot + c*pdot + m*ell*thetadot**2*theta-tau*R)/(m*ell)\n",
        "tR = (m*ell*pddot - gamma*thetadot + m*g*ell*theta) / (J + m*ell**2)\n",
        "\n",
        "# Set the two equations in terms of p double dot equal to each other and use the \n",
        "# solve function to find the theta double dot. \n",
        "Tddot = solve(pL - pR, thetaddot)\n",
        "\n",
        "# Set the two equations in terms of theta double dot equal to each other and use \n",
        "# the solve function to find the p double dot. \n",
        "Pddot = solve(tL - tR, pddot)\n",
        "\n",
        "Pddot, Tddot"
      ],
      "execution_count": null,
      "outputs": [
        {
          "output_type": "display_data",
          "data": {
            "text/html": [
              "\n",
              "        <script src=\"https://www.gstatic.com/external_hosted/mathjax/latest/MathJax.js?config=TeX-AMS_HTML-full,Safe&delayStartupUntil=configured\"></script>\n",
              "        <script>\n",
              "          (() => {\n",
              "            const mathjax = window.MathJax;\n",
              "            mathjax.Hub.Config({\n",
              "            'tex2jax': {\n",
              "              'inlineMath': [['$', '$'], ['\\(', '\\)']],\n",
              "              'displayMath': [['$$', '$$'], ['\\[', '\\]']],\n",
              "              'processEscapes': true,\n",
              "              'processEnvironments': true,\n",
              "              'skipTags': ['script', 'noscript', 'style', 'textarea', 'code'],\n",
              "              'displayAlign': 'center',\n",
              "            },\n",
              "            'HTML-CSS': {\n",
              "              'styles': {'.MathJax_Display': {'margin': 0}},\n",
              "              'linebreaks': {'automatic': true},\n",
              "              // Disable to prevent OTF font loading, which aren't part of our\n",
              "              // distribution.\n",
              "              'imageFont': null,\n",
              "            },\n",
              "            'messageStyle': 'none'\n",
              "          });\n",
              "          mathjax.Hub.Configured();\n",
              "        })();\n",
              "        </script>\n",
              "        "
            ],
            "text/plain": [
              "<IPython.core.display.HTML object>"
            ]
          },
          "metadata": {
            "tags": []
          }
        },
        {
          "output_type": "execute_result",
          "data": {
            "text/latex": "$$\\left ( \\left [ \\frac{1}{J M + J m + M \\ell^{2} m} \\left(J R \\tau - J c \\dot{p} - J \\ell m \\theta \\dot{\\theta}^{2} + R \\ell^{2} m \\tau - c \\ell^{2} m \\dot{p} - \\ell^{3} m^{2} \\theta \\dot{\\theta}^{2} + \\ell^{2} g m^{2} \\theta - \\ell \\gamma m \\dot{\\theta}\\right)\\right ], \\quad \\left [ \\frac{1}{J M + J m + M \\ell^{2} m} \\left(M \\ell g m \\theta - M \\gamma \\dot{\\theta} + R \\ell m \\tau - c \\ell m \\dot{p} - \\ell^{2} m^{2} \\theta \\dot{\\theta}^{2} + \\ell g m^{2} \\theta - \\gamma m \\dot{\\theta}\\right)\\right ]\\right )$$",
            "text/plain": [
              "⎛⎡                             2        2            2           3  2     2   \n",
              "⎜⎢J⋅R⋅τ - J⋅c⋅ṗ - J⋅ell⋅m⋅θ⋅θ̇  + R⋅ell ⋅m⋅τ - c⋅ell ⋅m⋅ṗ - ell ⋅m ⋅θ⋅θ̇  + \n",
              "⎜⎢────────────────────────────────────────────────────────────────────────────\n",
              "⎜⎢                                                         2                  \n",
              "⎝⎣                                        J⋅M + J⋅m + M⋅ell ⋅m                \n",
              "\n",
              "   2    2               ⎤  ⎡                                                  \n",
              "ell ⋅g⋅m ⋅θ - ell⋅γ⋅m⋅θ̇⎥  ⎢M⋅ell⋅g⋅m⋅θ - M⋅γ⋅θ̇ + R⋅ell⋅m⋅τ - c⋅ell⋅m⋅ṗ - el\n",
              "────────────────────────⎥, ⎢──────────────────────────────────────────────────\n",
              "                        ⎥  ⎢                                                 2\n",
              "                        ⎦  ⎣                                J⋅M + J⋅m + M⋅ell \n",
              "\n",
              " 2  2     2          2           ⎤⎞\n",
              "l ⋅m ⋅θ⋅θ̇  + ell⋅g⋅m ⋅θ - γ⋅m⋅θ̇⎥⎟\n",
              "─────────────────────────────────⎥⎟\n",
              "                                 ⎥⎟\n",
              "⋅m                               ⎦⎠"
            ]
          },
          "metadata": {
            "tags": []
          },
          "execution_count": 537
        }
      ]
    },
    {
      "cell_type": "code",
      "metadata": {
        "id": "WfdJ1Aym1SJq",
        "outputId": "95c5551e-97c1-434e-802a-4dea3332ba95",
        "colab": {
          "base_uri": "https://localhost:8080/",
          "height": 67
        }
      },
      "source": [
        "# Goal: substitute the values of the given parameters in the equations for p double dot and theta double dot.\n",
        "\n",
        "P_ddot = Pddot[0].subs(M, 40).subs(m, 30).subs(ell, 0.75).subs(c, 0.7).subs(R, 0.25).subs(J, (0.75**2)*30).subs(gamma, 0.2).subs(g, 9.81)\n",
        "T_ddot = Tddot[0].subs(M, 40).subs(m, 30).subs(ell, 0.75).subs(c, 0.7).subs(R, 0.25).subs(J, (0.75**2)*30).subs(gamma, 0.2).subs(g, 9.81)\n",
        "P_ddot, T_ddot"
      ],
      "execution_count": null,
      "outputs": [
        {
          "output_type": "display_data",
          "data": {
            "text/html": [
              "\n",
              "        <script src=\"https://www.gstatic.com/external_hosted/mathjax/latest/MathJax.js?config=TeX-AMS_HTML-full,Safe&delayStartupUntil=configured\"></script>\n",
              "        <script>\n",
              "          (() => {\n",
              "            const mathjax = window.MathJax;\n",
              "            mathjax.Hub.Config({\n",
              "            'tex2jax': {\n",
              "              'inlineMath': [['$', '$'], ['\\(', '\\)']],\n",
              "              'displayMath': [['$$', '$$'], ['\\[', '\\]']],\n",
              "              'processEscapes': true,\n",
              "              'processEnvironments': true,\n",
              "              'skipTags': ['script', 'noscript', 'style', 'textarea', 'code'],\n",
              "              'displayAlign': 'center',\n",
              "            },\n",
              "            'HTML-CSS': {\n",
              "              'styles': {'.MathJax_Display': {'margin': 0}},\n",
              "              'linebreaks': {'automatic': true},\n",
              "              // Disable to prevent OTF font loading, which aren't part of our\n",
              "              // distribution.\n",
              "              'imageFont': null,\n",
              "            },\n",
              "            'messageStyle': 'none'\n",
              "          });\n",
              "          mathjax.Hub.Configured();\n",
              "        })();\n",
              "        </script>\n",
              "        "
            ],
            "text/plain": [
              "<IPython.core.display.HTML object>"
            ]
          },
          "metadata": {
            "tags": []
          }
        },
        {
          "output_type": "execute_result",
          "data": {
            "text/latex": "$$\\left ( - 0.0127272727272727 \\dot{p} + 0.00454545454545455 \\tau - 0.409090909090909 \\theta \\dot{\\theta}^{2} + 2.67545454545455 \\theta - 0.00242424242424242 \\dot{\\theta}, \\quad - 0.00848484848484848 \\dot{p} + 0.00303030303030303 \\tau - 0.272727272727273 \\theta \\dot{\\theta}^{2} + 8.32363636363636 \\theta - 0.00754208754208754 \\dot{\\theta}\\right )$$",
            "text/plain": [
              "⎛                                                                       2     \n",
              "⎝-0.0127272727272727⋅ṗ + 0.00454545454545455⋅τ - 0.409090909090909⋅θ⋅θ̇  + 2.\n",
              "\n",
              "                                                                              \n",
              "67545454545455⋅θ - 0.00242424242424242⋅θ̇, -0.00848484848484848⋅ṗ + 0.0030303\n",
              "\n",
              "                                     2                                        \n",
              "0303030303⋅τ - 0.272727272727273⋅θ⋅θ̇  + 8.32363636363636⋅θ - 0.00754208754208\n",
              "\n",
              "      ⎞\n",
              "754⋅θ̇⎠"
            ]
          },
          "metadata": {
            "tags": []
          },
          "execution_count": 538
        }
      ]
    },
    {
      "cell_type": "code",
      "metadata": {
        "id": "B-CgZxR12dG9",
        "outputId": "ae3adc49-97ba-4b16-d4c0-1e011e2cd68a",
        "colab": {
          "base_uri": "https://localhost:8080/",
          "height": 38
        }
      },
      "source": [
        "# Goal: plug in the equilibrium points we choose for theta and theta dot in the equations for p double dot and theta double dot.\n",
        "\n",
        "# The equilibrium point for theta is 0 since we assume the rider is close to upright at all times.\n",
        "\n",
        "# The equilibrium point for theta dot is 0 since we assume the rider is close to upright at all times\n",
        "# and thus the rider's anguler veolicy should be 0 at steady state.\n",
        "\n",
        "P_ddoteq = P_ddot.subs(thetadot, 0).subs(theta, 0)\n",
        "T_ddoteq = T_ddot.subs(thetadot, 0).subs(theta, 0)\n",
        "P_ddoteq, T_ddoteq"
      ],
      "execution_count": null,
      "outputs": [
        {
          "output_type": "display_data",
          "data": {
            "text/html": [
              "\n",
              "        <script src=\"https://www.gstatic.com/external_hosted/mathjax/latest/MathJax.js?config=TeX-AMS_HTML-full,Safe&delayStartupUntil=configured\"></script>\n",
              "        <script>\n",
              "          (() => {\n",
              "            const mathjax = window.MathJax;\n",
              "            mathjax.Hub.Config({\n",
              "            'tex2jax': {\n",
              "              'inlineMath': [['$', '$'], ['\\(', '\\)']],\n",
              "              'displayMath': [['$$', '$$'], ['\\[', '\\]']],\n",
              "              'processEscapes': true,\n",
              "              'processEnvironments': true,\n",
              "              'skipTags': ['script', 'noscript', 'style', 'textarea', 'code'],\n",
              "              'displayAlign': 'center',\n",
              "            },\n",
              "            'HTML-CSS': {\n",
              "              'styles': {'.MathJax_Display': {'margin': 0}},\n",
              "              'linebreaks': {'automatic': true},\n",
              "              // Disable to prevent OTF font loading, which aren't part of our\n",
              "              // distribution.\n",
              "              'imageFont': null,\n",
              "            },\n",
              "            'messageStyle': 'none'\n",
              "          });\n",
              "          mathjax.Hub.Configured();\n",
              "        })();\n",
              "        </script>\n",
              "        "
            ],
            "text/plain": [
              "<IPython.core.display.HTML object>"
            ]
          },
          "metadata": {
            "tags": []
          }
        },
        {
          "output_type": "execute_result",
          "data": {
            "text/latex": "$$\\left ( - 0.0127272727272727 \\dot{p} + 0.00454545454545455 \\tau, \\quad - 0.00848484848484848 \\dot{p} + 0.00303030303030303 \\tau\\right )$$",
            "text/plain": [
              "(-0.0127272727272727⋅ṗ + 0.00454545454545455⋅τ, -0.00848484848484848⋅ṗ + 0.0\n",
              "0303030303030303⋅τ)"
            ]
          },
          "metadata": {
            "tags": []
          },
          "execution_count": 539
        }
      ]
    },
    {
      "cell_type": "code",
      "metadata": {
        "id": "VIR-vI1U5mXY",
        "outputId": "f746c16d-86a5-450c-a4bf-fd26e6a70676",
        "colab": {
          "base_uri": "https://localhost:8080/",
          "height": 37
        }
      },
      "source": [
        "# Goal: plug in the equilibrium we choose for p dot in the equations for p double dot and theta doulbe dot.\n",
        "# Then, find the corresponding equilibrium point for tau.\n",
        "\n",
        "# The equilibrium point for p dot is 8 m/s since the maximum speed of the scooter is designed to be 8 m/s.\n",
        "\n",
        "P_ddoteq = P_ddoteq.subs(pdot, 8)\n",
        "T_ddoteq = T_ddoteq.subs(pdot, 8)\n",
        "\n",
        "Tau1 = solve(P_ddoteq, tau)[0]\n",
        "Tau2 = solve(T_ddoteq, tau)[0]\n",
        "Tau1, Tau2"
      ],
      "execution_count": null,
      "outputs": [
        {
          "output_type": "display_data",
          "data": {
            "text/html": [
              "\n",
              "        <script src=\"https://www.gstatic.com/external_hosted/mathjax/latest/MathJax.js?config=TeX-AMS_HTML-full,Safe&delayStartupUntil=configured\"></script>\n",
              "        <script>\n",
              "          (() => {\n",
              "            const mathjax = window.MathJax;\n",
              "            mathjax.Hub.Config({\n",
              "            'tex2jax': {\n",
              "              'inlineMath': [['$', '$'], ['\\(', '\\)']],\n",
              "              'displayMath': [['$$', '$$'], ['\\[', '\\]']],\n",
              "              'processEscapes': true,\n",
              "              'processEnvironments': true,\n",
              "              'skipTags': ['script', 'noscript', 'style', 'textarea', 'code'],\n",
              "              'displayAlign': 'center',\n",
              "            },\n",
              "            'HTML-CSS': {\n",
              "              'styles': {'.MathJax_Display': {'margin': 0}},\n",
              "              'linebreaks': {'automatic': true},\n",
              "              // Disable to prevent OTF font loading, which aren't part of our\n",
              "              // distribution.\n",
              "              'imageFont': null,\n",
              "            },\n",
              "            'messageStyle': 'none'\n",
              "          });\n",
              "          mathjax.Hub.Configured();\n",
              "        })();\n",
              "        </script>\n",
              "        "
            ],
            "text/plain": [
              "<IPython.core.display.HTML object>"
            ]
          },
          "metadata": {
            "tags": []
          }
        },
        {
          "output_type": "execute_result",
          "data": {
            "text/latex": "$$\\left ( 22.4, \\quad 22.4\\right )$$",
            "text/plain": [
              "(22.4, 22.4)"
            ]
          },
          "metadata": {
            "tags": []
          },
          "execution_count": 540
        }
      ]
    },
    {
      "cell_type": "code",
      "metadata": {
        "id": "86fGFjSz5zQ1",
        "outputId": "d6128dce-dc50-4a72-f27a-3c0ef7058e3e",
        "colab": {
          "base_uri": "https://localhost:8080/",
          "height": 90
        }
      },
      "source": [
        "# Goal: find the jacobian of the system and plug in the equilibrium points to linearize the system.\n",
        "# Then, the A, B, and C matrices.\n",
        "\n",
        "# Equilibrium points for the system\n",
        "steady_state = [(pdot,8), (theta,0), (thetadot,0), (tau,22.4)]\n",
        "\n",
        "# Find the Jocabian of the system and plug in the equilibrium points to obtain\n",
        "# the A, B, and C matrices.\n",
        "xdot = Matrix([Pddot[0], thetadot, Tddot[0]])\n",
        "A = xdot.jacobian([pdot, theta, thetadot]).subs(steady_state)\n",
        "B = xdot.jacobian([tau]).subs(steady_state)\n",
        "C = Matrix([[1,0,0]])\n",
        "A.simplify() \n",
        "B.simplify()\n",
        "A, B, C"
      ],
      "execution_count": null,
      "outputs": [
        {
          "output_type": "display_data",
          "data": {
            "text/html": [
              "\n",
              "        <script src=\"https://www.gstatic.com/external_hosted/mathjax/latest/MathJax.js?config=TeX-AMS_HTML-full,Safe&delayStartupUntil=configured\"></script>\n",
              "        <script>\n",
              "          (() => {\n",
              "            const mathjax = window.MathJax;\n",
              "            mathjax.Hub.Config({\n",
              "            'tex2jax': {\n",
              "              'inlineMath': [['$', '$'], ['\\(', '\\)']],\n",
              "              'displayMath': [['$$', '$$'], ['\\[', '\\]']],\n",
              "              'processEscapes': true,\n",
              "              'processEnvironments': true,\n",
              "              'skipTags': ['script', 'noscript', 'style', 'textarea', 'code'],\n",
              "              'displayAlign': 'center',\n",
              "            },\n",
              "            'HTML-CSS': {\n",
              "              'styles': {'.MathJax_Display': {'margin': 0}},\n",
              "              'linebreaks': {'automatic': true},\n",
              "              // Disable to prevent OTF font loading, which aren't part of our\n",
              "              // distribution.\n",
              "              'imageFont': null,\n",
              "            },\n",
              "            'messageStyle': 'none'\n",
              "          });\n",
              "          mathjax.Hub.Configured();\n",
              "        })();\n",
              "        </script>\n",
              "        "
            ],
            "text/plain": [
              "<IPython.core.display.HTML object>"
            ]
          },
          "metadata": {
            "tags": []
          }
        },
        {
          "output_type": "execute_result",
          "data": {
            "text/latex": "$$\\left ( \\left[\\begin{matrix}- \\frac{c \\left(J + \\ell^{2} m\\right)}{J M + J m + M \\ell^{2} m} & \\frac{\\ell^{2} g m^{2}}{J M + J m + M \\ell^{2} m} & - \\frac{\\ell \\gamma m}{J M + J m + M \\ell^{2} m}\\\\0 & 0 & 1\\\\- \\frac{c \\ell m}{J M + J m + M \\ell^{2} m} & \\frac{\\ell g m \\left(M + m\\right)}{J M + J m + M \\ell^{2} m} & - \\frac{\\gamma \\left(M + m\\right)}{J M + J m + M \\ell^{2} m}\\end{matrix}\\right], \\quad \\left[\\begin{matrix}\\frac{R \\left(J + \\ell^{2} m\\right)}{J M + J m + M \\ell^{2} m}\\\\0\\\\\\frac{R \\ell m}{J M + J m + M \\ell^{2} m}\\end{matrix}\\right], \\quad \\left[\\begin{matrix}1 & 0 & 0\\end{matrix}\\right]\\right )$$",
            "text/plain": [
              "⎛⎡     ⎛       2  ⎞             2    2                            ⎤  ⎡     ⎛  \n",
              "⎜⎢  -c⋅⎝J + ell ⋅m⎠          ell ⋅g⋅m              -ell⋅γ⋅m       ⎥  ⎢   R⋅⎝J \n",
              "⎜⎢────────────────────  ────────────────────  ────────────────────⎥  ⎢────────\n",
              "⎜⎢                 2                     2                     2  ⎥  ⎢        \n",
              "⎜⎢J⋅M + J⋅m + M⋅ell ⋅m  J⋅M + J⋅m + M⋅ell ⋅m  J⋅M + J⋅m + M⋅ell ⋅m⎥  ⎢J⋅M + J⋅\n",
              "⎜⎢                                                                ⎥  ⎢        \n",
              "⎜⎢         0                     0                     1          ⎥, ⎢        \n",
              "⎜⎢                                                                ⎥  ⎢        \n",
              "⎜⎢     -c⋅ell⋅m           ell⋅g⋅m⋅(M + m)         -γ⋅(M + m)      ⎥  ⎢      R⋅\n",
              "⎜⎢────────────────────  ────────────────────  ────────────────────⎥  ⎢────────\n",
              "⎜⎢                 2                     2                     2  ⎥  ⎢        \n",
              "⎝⎣J⋅M + J⋅m + M⋅ell ⋅m  J⋅M + J⋅m + M⋅ell ⋅m  J⋅M + J⋅m + M⋅ell ⋅m⎦  ⎣J⋅M + J⋅\n",
              "\n",
              "     2  ⎞   ⎤           ⎞\n",
              "+ ell ⋅m⎠   ⎥           ⎟\n",
              "────────────⎥           ⎟\n",
              "         2  ⎥           ⎟\n",
              "m + M⋅ell ⋅m⎥           ⎟\n",
              "            ⎥           ⎟\n",
              " 0          ⎥, [1  0  0]⎟\n",
              "            ⎥           ⎟\n",
              "ell⋅m       ⎥           ⎟\n",
              "────────────⎥           ⎟\n",
              "         2  ⎥           ⎟\n",
              "m + M⋅ell ⋅m⎦           ⎠"
            ]
          },
          "metadata": {
            "tags": []
          },
          "execution_count": 541
        }
      ]
    },
    {
      "cell_type": "code",
      "metadata": {
        "id": "22R68rge6LP0",
        "outputId": "99174273-d11b-4184-a74e-cc1a7c9a6c44",
        "colab": {
          "base_uri": "https://localhost:8080/",
          "height": 78
        }
      },
      "source": [
        "# Goal: substitute the values of the given parameters in the equations for the A, B, and C matrices.\n",
        "\n",
        "Aeq = A.subs(M, 40).subs(m, 30).subs(ell, 0.75).subs(c, 0.7).subs(R, 0.25).subs(J, (0.75**2)*30).subs(gamma, 0.2).subs(g, 9.81)\n",
        "Beq = B.subs(M, 40).subs(m, 30).subs(ell, 0.75).subs(c, 0.7).subs(R, 0.25).subs(J, (0.75**2)*30).subs(gamma, 0.2).subs(g, 9.81)\n",
        "Aeq, Beq, C"
      ],
      "execution_count": null,
      "outputs": [
        {
          "output_type": "display_data",
          "data": {
            "text/html": [
              "\n",
              "        <script src=\"https://www.gstatic.com/external_hosted/mathjax/latest/MathJax.js?config=TeX-AMS_HTML-full,Safe&delayStartupUntil=configured\"></script>\n",
              "        <script>\n",
              "          (() => {\n",
              "            const mathjax = window.MathJax;\n",
              "            mathjax.Hub.Config({\n",
              "            'tex2jax': {\n",
              "              'inlineMath': [['$', '$'], ['\\(', '\\)']],\n",
              "              'displayMath': [['$$', '$$'], ['\\[', '\\]']],\n",
              "              'processEscapes': true,\n",
              "              'processEnvironments': true,\n",
              "              'skipTags': ['script', 'noscript', 'style', 'textarea', 'code'],\n",
              "              'displayAlign': 'center',\n",
              "            },\n",
              "            'HTML-CSS': {\n",
              "              'styles': {'.MathJax_Display': {'margin': 0}},\n",
              "              'linebreaks': {'automatic': true},\n",
              "              // Disable to prevent OTF font loading, which aren't part of our\n",
              "              // distribution.\n",
              "              'imageFont': null,\n",
              "            },\n",
              "            'messageStyle': 'none'\n",
              "          });\n",
              "          mathjax.Hub.Configured();\n",
              "        })();\n",
              "        </script>\n",
              "        "
            ],
            "text/plain": [
              "<IPython.core.display.HTML object>"
            ]
          },
          "metadata": {
            "tags": []
          }
        },
        {
          "output_type": "execute_result",
          "data": {
            "text/latex": "$$\\left ( \\left[\\begin{matrix}-0.0127272727272727 & 2.67545454545455 & -0.00242424242424242\\\\0 & 0 & 1\\\\-0.00848484848484848 & 8.32363636363636 & -0.00754208754208754\\end{matrix}\\right], \\quad \\left[\\begin{matrix}0.00454545454545455\\\\0\\\\0.00303030303030303\\end{matrix}\\right], \\quad \\left[\\begin{matrix}1 & 0 & 0\\end{matrix}\\right]\\right )$$",
            "text/plain": [
              "⎛⎡-0.0127272727272727   2.67545454545455  -0.00242424242424242⎤  ⎡0.0045454545\n",
              "⎜⎢                                                            ⎥  ⎢            \n",
              "⎜⎢         0                   0                   1          ⎥, ⎢         0  \n",
              "⎜⎢                                                            ⎥  ⎢            \n",
              "⎝⎣-0.00848484848484848  8.32363636363636  -0.00754208754208754⎦  ⎣0.0030303030\n",
              "\n",
              "4545455⎤           ⎞\n",
              "       ⎥           ⎟\n",
              "       ⎥, [1  0  0]⎟\n",
              "       ⎥           ⎟\n",
              "3030303⎦           ⎠"
            ]
          },
          "metadata": {
            "tags": []
          },
          "execution_count": 542
        }
      ]
    },
    {
      "cell_type": "code",
      "metadata": {
        "id": "C-Qabwtu6CJN",
        "outputId": "0d3e5861-1960-4929-bb90-95fd02978f0d",
        "colab": {
          "base_uri": "https://localhost:8080/",
          "height": 47
        }
      },
      "source": [
        "# Goal: find the transfer function of the system from C(sI-A)^-1B.\n",
        "\n",
        "var(\"s\")\n",
        "Phi = (s*eye(3)-Aeq).inv()\n",
        "G = C*Phi*Beq\n",
        "G.simplify()\n",
        "G"
      ],
      "execution_count": null,
      "outputs": [
        {
          "output_type": "display_data",
          "data": {
            "text/html": [
              "\n",
              "        <script src=\"https://www.gstatic.com/external_hosted/mathjax/latest/MathJax.js?config=TeX-AMS_HTML-full,Safe&delayStartupUntil=configured\"></script>\n",
              "        <script>\n",
              "          (() => {\n",
              "            const mathjax = window.MathJax;\n",
              "            mathjax.Hub.Config({\n",
              "            'tex2jax': {\n",
              "              'inlineMath': [['$', '$'], ['\\(', '\\)']],\n",
              "              'displayMath': [['$$', '$$'], ['\\[', '\\]']],\n",
              "              'processEscapes': true,\n",
              "              'processEnvironments': true,\n",
              "              'skipTags': ['script', 'noscript', 'style', 'textarea', 'code'],\n",
              "              'displayAlign': 'center',\n",
              "            },\n",
              "            'HTML-CSS': {\n",
              "              'styles': {'.MathJax_Display': {'margin': 0}},\n",
              "              'linebreaks': {'automatic': true},\n",
              "              // Disable to prevent OTF font loading, which aren't part of our\n",
              "              // distribution.\n",
              "              'imageFont': null,\n",
              "            },\n",
              "            'messageStyle': 'none'\n",
              "          });\n",
              "          mathjax.Hub.Configured();\n",
              "        })();\n",
              "        </script>\n",
              "        "
            ],
            "text/plain": [
              "<IPython.core.display.HTML object>"
            ]
          },
          "metadata": {
            "tags": []
          }
        },
        {
          "output_type": "execute_result",
          "data": {
            "text/latex": "$$\\left[\\begin{matrix}\\frac{1.0 \\left(0.00454545454545455 s^{2} + 2.69360269362905 \\cdot 10^{-5} s - 0.0297272727272727\\right)}{1.0 s^{3} + 0.0202693602693603 s^{2} - 8.32356094276094 s - 0.0832363636363636}\\end{matrix}\\right]$$",
            "text/plain": [
              "⎡    ⎛                     2                                             ⎞⎤\n",
              "⎢1.0⋅⎝0.00454545454545455⋅s  + 2.69360269362905e-5⋅s - 0.0297272727272727⎠⎥\n",
              "⎢─────────────────────────────────────────────────────────────────────────⎥\n",
              "⎢      3                       2                                          ⎥\n",
              "⎣ 1.0⋅s  + 0.0202693602693603⋅s  - 8.32356094276094⋅s - 0.0832363636363636⎦"
            ]
          },
          "metadata": {
            "tags": []
          },
          "execution_count": 543
        }
      ]
    },
    {
      "cell_type": "code",
      "metadata": {
        "id": "yYp8ZYwAhmkW",
        "outputId": "688d7a20-df70-4552-b3a8-e6132940b77e",
        "colab": {
          "base_uri": "https://localhost:8080/",
          "height": 38
        }
      },
      "source": [
        "# Goal: obtain the zeros and poles of the system from the transfer function by using the solve function.\n",
        "\n",
        "G0 = (0.00454545454545455*s**2+0.0000269360269362905*s-0.0297272727272727) / (s**3+0.0202693602693603*s**2-8.32356094276094*s-0.0832363636363636)\n",
        "num,den = fraction(G0)\n",
        "zeros = solve(num,s)\n",
        "poles = solve(den,s)\n",
        "zeros, poles"
      ],
      "execution_count": null,
      "outputs": [
        {
          "output_type": "display_data",
          "data": {
            "text/html": [
              "\n",
              "        <script src=\"https://www.gstatic.com/external_hosted/mathjax/latest/MathJax.js?config=TeX-AMS_HTML-full,Safe&delayStartupUntil=configured\"></script>\n",
              "        <script>\n",
              "          (() => {\n",
              "            const mathjax = window.MathJax;\n",
              "            mathjax.Hub.Config({\n",
              "            'tex2jax': {\n",
              "              'inlineMath': [['$', '$'], ['\\(', '\\)']],\n",
              "              'displayMath': [['$$', '$$'], ['\\[', '\\]']],\n",
              "              'processEscapes': true,\n",
              "              'processEnvironments': true,\n",
              "              'skipTags': ['script', 'noscript', 'style', 'textarea', 'code'],\n",
              "              'displayAlign': 'center',\n",
              "            },\n",
              "            'HTML-CSS': {\n",
              "              'styles': {'.MathJax_Display': {'margin': 0}},\n",
              "              'linebreaks': {'automatic': true},\n",
              "              // Disable to prevent OTF font loading, which aren't part of our\n",
              "              // distribution.\n",
              "              'imageFont': null,\n",
              "            },\n",
              "            'messageStyle': 'none'\n",
              "          });\n",
              "          mathjax.Hub.Configured();\n",
              "        })();\n",
              "        </script>\n",
              "        "
            ],
            "text/plain": [
              "<IPython.core.display.HTML object>"
            ]
          },
          "metadata": {
            "tags": []
          }
        },
        {
          "output_type": "execute_result",
          "data": {
            "text/latex": "$$\\left ( \\left [ -2.56030704993086, \\quad 2.55438112400488\\right ], \\quad \\left [ -2.8902152849001 + 1.0 \\cdot 10^{-22} i, \\quad -0.00999996723471822 - 5.0 \\cdot 10^{-23} i, \\quad 2.87994589186546 - 8.0 \\cdot 10^{-22} i\\right ]\\right )$$",
            "text/plain": [
              "([-2.56030704993086, 2.55438112400488], [-2.8902152849001 + 0.e-22⋅ⅈ, -0.00999\n",
              "996723471822 - 0.e-22⋅ⅈ, 2.87994589186546 - 0.e-21⋅ⅈ])"
            ]
          },
          "metadata": {
            "tags": []
          },
          "execution_count": 544
        }
      ]
    },
    {
      "cell_type": "markdown",
      "metadata": {
        "id": "yYgKnRT8H1Of"
      },
      "source": [
        "# Part B"
      ]
    },
    {
      "cell_type": "markdown",
      "metadata": {
        "id": "gI21CO7FCKY3"
      },
      "source": [
        "## Task 4: Root Locus Design\n",
        "\n",
        "a) Plot the root locus of the system. Design a compensator\n",
        "using root locus methods that achieves your performance\n",
        "specification. Plot the root locus of the controlled system as\n",
        "well.\n",
        "\n",
        "b) What is the gain margin?  That is, for you given controller $KG_c(s)$ what is the approximate maximum (or supremum) value that $\\tilde K>1$ can take and keep $$T(s) = \\frac{\\tilde K KG_cG}{1+\\tilde K KG_cG}$$\n",
        "stable.  Put yet another way, by what factor can you increase the gain on your controller and maintain stability. \n",
        "\n",
        "c) Plot the impulse and/or the step response of the system using the\n",
        "linear model *and* the nonlinear model (optional). Discuss the differences between the two responses."
      ]
    },
    {
      "cell_type": "markdown",
      "metadata": {
        "id": "th6eUI9JNLUC"
      },
      "source": [
        "## Root Locus Plots\n",
        "\n",
        "The root locus plot for the plant is shown below. Note that without the controller, there is a positive real pole. This means that the system is unstable without a controller. This makes sense because we should expect the scooter to tip over if the motor controller is not exerting a torque to keep it upright.\n",
        "\n",
        "The root locus plot for the plant and controller is shown below. With the controller, all the poles are moved to the left side of the imaginary axis. The controller provides stability to the system and we place five poles at $-0.045, -0.04, -0.035, -0.03, -0.025$ to achieve stability. We choose our poles to be closer to the imaginary axis to achieve our performance specification of 0% percent overshoot while sacrificing our performance specification of the minimum and maximum rise times. Because these poles are close to the imaginary axis, our controlled system is slow with a long settling time, but accurate with its steady-state value and manageable overshoot.\n",
        "\n",
        "## Designing the Controller\n",
        "\n",
        "When designing a controller for our plant, their transfer functions need to fit the following pattern.\n",
        "\n",
        "Plant:\n",
        "$$G_p(s)=\\frac{b_{n-1}s^{n-1}+b_{n-2}s^{n-2}+\\cdots+b_1s+b_0}{s^n+a_{n-1}s^{n-1}+a_{n-2}s^{n-2}+\\cdots+a_1s+a_0}$$ \n",
        "\n",
        "Controller:\n",
        "$$\n",
        "G_c(s)=\\frac{d_rs^r + d_{r-1}s^{r-1}+d_{r-2}s^{r-2}+\\cdots+d_1s+d_0}{s^r+c_{r-1}s^{r-1}+c_{r-2}s^{r-2}+\\cdots+c_1s+c_0}\n",
        "$$\n",
        "\n",
        "Where $r=n-1$.\n",
        "\n",
        "Since our plant is a third-order system, $n=3$ and $r = n - 1 = 2$. This means the transfer function of our controller looks like the following:\n",
        "\n",
        "$$\n",
        "G_c(s)=\\frac{d_2s^2+d_1s+d_0}{s^2+c_1s+c_0}\n",
        "$$\n",
        "\n",
        "This means we need to pick 5 poles for the final transfer function, which are $-0.045, -0.04, -0.035, -0.03, -0.025$.\n",
        "\n",
        "Since we want the system transfer function to take these poles at $K=1$, we need to perform coefficient matching with the denominator of the following equation.\n",
        "\n",
        "$$T(s) = \\frac{G_cG}{1+G_cG} = \\frac{\\text{Zeros}}{(s+0.045)(s+0.04)(s+0.035)(s+0.03)(s+0.025)}$$\n",
        "\n",
        "We can expand out $T(s)$ to get:\n",
        "\n",
        "$$T(s) = \\frac{(d_2s^2+d_1s+d_0)(0.004545 s^{2} + 2.6936 \\cdot 10^{-5} s - 0.02973)}{(s^2+c_1s+c_0)(s^{3} + 0.020269 s^{2} - 8.3236 s - 0.08324)+(d_2s^2+d_1s+d_0)(0.004545 s^{2} + 2.6936 \\cdot 10^{-5} s - 0.02973)}$$\n",
        "\n",
        "For coefficient matching, we are specifically interested in solving for $d_2, d_1, d_0, c_1, c_0$ by solving the following equation.\n",
        "\n",
        "$$(s^2+c_1s+c_0)(s^{3} + 0.020269 s^{2} - 8.3236 s - 0.08324)+(d_2s^2+d_1s+d_0)(0.004545 s^{2} + 2.6936 \\cdot 10^{-5} s - 0.02973) - (s+0.045)(s+0.04)(s+0.035)(s+0.03)(s+0.025) = 0$$\n",
        "\n",
        "Using sympy, we get the approximate values:\n",
        "\n",
        "$$c_0 = −30.887, c_1=−1.811, d_0 = 86.483, d_1 = 8653.409, d_2 = 504.024$$\n",
        "\n",
        "This gives the following controller transfer function:\n",
        "\n",
        "$$\n",
        "G_c(s)=\\frac{504.024s^2+8653.409s+86.483}{s^2−1.811s−30.887}\n",
        "$$\n",
        "\n",
        "This gives us the following transfer function:\n",
        "\n",
        "$$ T(s) = \\frac{0.769 s^{4} + 38.913 s^{3} - 4.410 s^{2} - 254.456 s - 2.54}{s^{5} + 0.175 s^{4} + 0.0121 s^{3} + 0.00042 s^{2} + 7.046 \\cdot 10^{-6} s + 4.725 \\cdot 10^{-8}}$$\n",
        "\n",
        "The poles and zeros of this transfer function are as follows:\n",
        "\n",
        "$$ \\text{Zeros} = -50.587, -2.560, -0.010, 2.554$$\n",
        "$$ \\text{Poles} = -0.045, -0.04, -0.035, -0.03, -0.025$$\n",
        "\n",
        "## Gain Margin\n",
        "\n",
        "We can also check how the poles change as $K$ changes. The following list of $K$ values allows the system to be stable. Note that the system is very sensitive to changes in $K$. The approximate maximum value that $K>1$ can take and keep $T(s)$ stable is 1.0000000163625622 for our system.\n",
        "\n",
        "* K= 0.9999999999986545 gives poles:  [-0.0431471  -0.02470298 -0.0431559  -0.03199701 -0.03199701]\n",
        "* K= 0.9999999999992152 gives poles:  [-0.04145458 -0.02481718 -0.04440831 -0.03218091 -0.03213902]\n",
        "* K= 0.999999999999569 gives poles:  [-0.04081133 -0.02489575 -0.04471364 -0.03388427 -0.03069501]\n",
        "* K= 0.9999999999999227 gives poles:  [-0.04015424 -0.02498054 -0.04495329 -0.03480459 -0.03010735]\n",
        "* K= 1.0000000000002767 gives poles:  [-0.03937764 -0.02507288 -0.04515455 -0.0357446  -0.02965032]\n",
        "* K= 1.0000000000006304 gives poles:  [-0.03762086 -0.02517456 -0.04532982 -0.03762086 -0.0292539 ]\n",
        "* K= 1.0000000000026708 gives poles:  [-0.03781626 -0.02666026 -0.04607432 -0.03781626 -0.02663291]\n",
        "* K= 1.0000000000665765 gives poles:  [-0.03864549 -0.02310603 -0.05149696 -0.03864549 -0.02310603]\n",
        "* K= 1.0000000001304823 gives poles:  [-0.03887753 -0.02184903 -0.05354689 -0.03887753 -0.02184903]\n",
        "* K= 1.0000000001943883 gives poles:  [-0.03902177 -0.02100149 -0.05495348 -0.03902177 -0.02100149]\n",
        "* K= 1.000000000258294 gives poles:  [-0.03912697 -0.02034688 -0.0560523  -0.03912697 -0.02034688]\n",
        "* K= 1.0000000005139174 gives poles:  [-0.03938664 -0.01857512 -0.05907648 -0.03938664 -0.01857512]\n",
        "* K= 1.0000000007695407 gives poles:  [-0.03954011 -0.01740121 -0.06111737 -0.03954011 -0.01740121]\n",
        "* K= 1.000000001025164 gives poles:  [-0.03964854 -0.01650151 -0.0626999  -0.03964854 -0.01650151]\n",
        "* K= 1.0000000020476572 gives poles:  [-0.03990432 -0.01408449 -0.06702238 -0.03990432 -0.01408449]\n",
        "* K= 1.0000000030701504 gives poles:  [-0.04004786 -0.01249084 -0.06992262 -0.04004786 -0.01249084]\n",
        "* K= 1.0000000040926436 gives poles:  [-0.04014596 -0.01127113 -0.07216583 -0.04014596 -0.01127113]\n",
        "* K= 1.0000000051151368 gives poles:  [-0.04021958 -0.01027051 -0.07401983 -0.04021958 -0.01027051]\n",
        "* K= 1.00000000613763 gives poles:  [-0.04027798 -0.0094156  -0.07561284 -0.04027798 -0.0094156 ]\n",
        "* K= 1.0000000071601232 gives poles:  [-0.04032606 -0.0086654  -0.07701709 -0.04032606 -0.0086654 ]\n",
        "* K= 1.0000000081826164 gives poles:  [-0.04036671 -0.00799446 -0.07827767 -0.04036671 -0.00799446]\n",
        "* K= 1.0000000122725894 gives poles:  [-0.04048421 -0.00583021 -0.08237117 -0.04048421 -0.00583021]\n",
        "* K= 1.0000000163625622 gives poles:  [-0.04056196 -0.00417052 -0.08553507 -0.04056196 -0.00417052]\n",
        "\n",
        "## Linear Simulation\n",
        "\n",
        "Once we have the transfer function of the system, we can use the control toolbox to find the impulse and step response. To get a performant response, we need to divide the input by a gain of $-6750000$. The peak response to a step input is $9.227$ and the steady state value is $7.981$. This gives us a percent overshoot of $15.61\\%$. The settling time is approximately $325.9$ seconds. The peak response to an impulse input is $0.109$.\n",
        "\n",
        "## Nonlinear Simulation\n",
        "\n",
        "To perform a nonlinear simulation of our system, we need to represent our controller in state space so that it can be used with the nonlinear plant functions $f_1, f_2,$ and $f_3$.\n",
        "\n",
        "The transfer function of the plant is:\n",
        "\n",
        "$$\n",
        "G_c(s)=\\frac{504.024s^2+8653.409s+86.483}{s^2−1.811s−30.887}\n",
        "$$\n",
        "\n",
        "We can use the function `tf2ss` to get the following state space representation of the controller\n",
        "\n",
        "$$\n",
        "\\begin{pmatrix}\n",
        "\\dot x_4 \\\\\n",
        "\\dot x_5\n",
        "\\end{pmatrix} = \n",
        "\\begin{pmatrix}\n",
        "0.614 &  30.564 \\\\\n",
        "1 & 0\n",
        "\\end{pmatrix} \\begin{pmatrix}\n",
        "x_4 \\\\\n",
        "x_5\n",
        "\\end{pmatrix} + \n",
        "\\begin{pmatrix}\n",
        "1 \\\\\n",
        "0\n",
        "\\end{pmatrix} e\n",
        "$$\n",
        "\n",
        "$$\n",
        "\\tau = u = \n",
        "\\begin{pmatrix}\n",
        "8663.684 & 5256.315\n",
        "\\end{pmatrix} \\begin{pmatrix}\n",
        "x_4 \\\\\n",
        "x_5\n",
        "\\end{pmatrix} + \n",
        "\\begin{pmatrix}\n",
        "169.174\n",
        "\\end{pmatrix} e\n",
        "$$\n",
        "\n",
        "$$e = r - x_1$$\n",
        "\n",
        "Then we can combine these equations with the nonlinear plant equations to get a system of equations for the system.\n",
        "\n",
        "$$\n",
        "\\dot x_1 = \\frac{-23.625 \\dot{p} + 8.4375 \\tau - 759.375 \\dot{\\theta}^{2} \\sin{\\theta} - 4.5 \\dot{\\theta} \\cos{(\\theta)} + 2483.15625 \\sin{(2 \\theta)}}{506.25 \\sin{(\\theta)} + 1856.25} \n",
        "$$\n",
        "\n",
        "$$ \\dot x_2 = \\dot{\\theta} $$\n",
        "\n",
        "$$ \\dot x_3 = \\frac{- 15.75 \\dot{p} \\cos{\\left (\\theta \\right )} + 5.625 \\tau \\cos{\\left (\\theta \\right )} - 253.125 \\dot{\\theta}^{2} \\sin{\\left (2 \\theta \\right )} - 14.0 \\dot{\\theta} + 15450.75 \\sin{\\left (\\theta \\right )}}{506.25 \\sin{(\\theta)} + 1856.25}$$\n",
        "\n",
        "$$\\dot x_4 = 0.614x_4 +30.564x_5 + r - x_1$$\n",
        "\n",
        "$$\\dot x_5 = x_4$$\n",
        "\n",
        "$$\\tau = u = 8663.684x_4 + 5256.315x_5 + 169.174r - 169.174x_1$$\n",
        "\n",
        "$$ y = x_1$$\n",
        "\n",
        "We can then make use of `odeint` to plot the nonlinear response of step and impulse. The plots for both are shown below. To get a performant response, we need to divide the input by a gain of $-15100000$. Generally, the responses of the nonlinear simulation are similar to the linear simulation. One key factor to note is that the nonlinear responses show slight instability with time. For example, the nonlinear step response will bounce around the steady state even long after the settling time."
      ]
    },
    {
      "cell_type": "code",
      "metadata": {
        "id": "pb3tbwnTntLq",
        "outputId": "64b6229e-6d8d-421a-9de6-a12ca84b70e1",
        "colab": {
          "base_uri": "https://localhost:8080/",
          "height": 280
        }
      },
      "source": [
        "# Part (a)\n",
        "# Goal: plot the root locus of the plant.\n",
        "\n",
        "Gplant = tf([0.00454545454545455,2.69360269362905*10**-5,-0.0297272727272727],[1,0.0202693602693603,-8.32356094276094,-0.0832363636363636])\n",
        "r,k=root_locus(Gplant)"
      ],
      "execution_count": null,
      "outputs": [
        {
          "output_type": "display_data",
          "data": {
            "image/png": "[encoded data removed]",
            "text/plain": [
              "<Figure size 432x288 with 1 Axes>"
            ]
          },
          "metadata": {
            "tags": []
          }
        }
      ]
    },
    {
      "cell_type": "code",
      "metadata": {
        "id": "T6frLL5eyz1C",
        "outputId": "3e908799-9a3e-439e-bf48-929fafc67280",
        "colab": {
          "base_uri": "https://localhost:8080/",
          "height": 101
        }
      },
      "source": [
        "# Goal: Using the pole assignment to set up the transfer function of our controller.\n",
        "\n",
        "var('d2 d1 d0 c0 c1')\n",
        "Gc = (d2*s**2+d1*s+d0)/(s**2+c1*s+c0)\n",
        "T =  (G0*Gc/(1+G0*Gc)).simplify()\n",
        "n,d = fraction(T)\n",
        "d = collect(d.expand(),s)\n",
        "d"
      ],
      "execution_count": null,
      "outputs": [
        {
          "output_type": "display_data",
          "data": {
            "text/html": [
              "\n",
              "        <script src=\"https://www.gstatic.com/external_hosted/mathjax/latest/MathJax.js?config=TeX-AMS_HTML-full,Safe&delayStartupUntil=configured\"></script>\n",
              "        <script>\n",
              "          (() => {\n",
              "            const mathjax = window.MathJax;\n",
              "            mathjax.Hub.Config({\n",
              "            'tex2jax': {\n",
              "              'inlineMath': [['$', '$'], ['\\(', '\\)']],\n",
              "              'displayMath': [['$$', '$$'], ['\\[', '\\]']],\n",
              "              'processEscapes': true,\n",
              "              'processEnvironments': true,\n",
              "              'skipTags': ['script', 'noscript', 'style', 'textarea', 'code'],\n",
              "              'displayAlign': 'center',\n",
              "            },\n",
              "            'HTML-CSS': {\n",
              "              'styles': {'.MathJax_Display': {'margin': 0}},\n",
              "              'linebreaks': {'automatic': true},\n",
              "              // Disable to prevent OTF font loading, which aren't part of our\n",
              "              // distribution.\n",
              "              'imageFont': null,\n",
              "            },\n",
              "            'messageStyle': 'none'\n",
              "          });\n",
              "          mathjax.Hub.Configured();\n",
              "        })();\n",
              "        </script>\n",
              "        "
            ],
            "text/plain": [
              "<IPython.core.display.HTML object>"
            ]
          },
          "metadata": {
            "tags": []
          }
        },
        {
          "output_type": "execute_result",
          "data": {
            "text/latex": "$$- 0.0832363636363636 c_{0} - 0.0297272727272727 d_{0} + s^{5} + s^{4} \\left(c_{1} + 0.00454545454545455 d_{2} + 0.0202693602693603\\right) + s^{3} \\left(c_{0} + 0.0202693602693603 c_{1} + 0.00454545454545455 d_{1} + 2.69360269362905 \\cdot 10^{-5} d_{2} - 8.32356094276094\\right) + s^{2} \\left(0.0202693602693603 c_{0} - 8.32356094276094 c_{1} + 0.00454545454545455 d_{0} + 2.69360269362905 \\cdot 10^{-5} d_{1} - 0.0297272727272727 d_{2} - 0.0832363636363636\\right) + s \\left(- 8.32356094276094 c_{0} - 0.0832363636363636 c_{1} + 2.69360269362905 \\cdot 10^{-5} d_{0} - 0.0297272727272727 d_{1}\\right)$$",
            "text/plain": [
              "                                                  5    4                      \n",
              "-0.0832363636363636⋅c₀ - 0.0297272727272727⋅d₀ + s  + s ⋅(c₁ + 0.0045454545454\n",
              "\n",
              "                                 3                                            \n",
              "5455⋅d₂ + 0.0202693602693603) + s ⋅(c₀ + 0.0202693602693603⋅c₁ + 0.00454545454\n",
              "\n",
              "                                                          2                   \n",
              "545455⋅d₁ + 2.69360269362905e-5⋅d₂ - 8.32356094276094) + s ⋅(0.020269360269360\n",
              "\n",
              "                                                                              \n",
              "3⋅c₀ - 8.32356094276094⋅c₁ + 0.00454545454545455⋅d₀ + 2.69360269362905e-5⋅d₁ -\n",
              "\n",
              "                                                                              \n",
              " 0.0297272727272727⋅d₂ - 0.0832363636363636) + s⋅(-8.32356094276094⋅c₀ - 0.083\n",
              "\n",
              "                                                                  \n",
              "2363636363636⋅c₁ + 2.69360269362905e-5⋅d₀ - 0.0297272727272727⋅d₁)"
            ]
          },
          "metadata": {
            "tags": []
          },
          "execution_count": 546
        }
      ]
    },
    {
      "cell_type": "code",
      "metadata": {
        "id": "1wJAhiEJNvk_",
        "outputId": "35f1eb9d-dc34-4d5f-e720-c83701b1f620",
        "colab": {
          "base_uri": "https://localhost:8080/",
          "height": 38
        }
      },
      "source": [
        "# Goal: Sovle for the coefficients of the transfer function of our controller with the desired poles.\n",
        "\n",
        "charpoly = (s+0.045)*(s+0.04)*(s+0.035)*(s+0.03)*(s+0.025)\n",
        "soln = solve(d-charpoly,[c0,c1,d0,d1,d2])\n",
        "soln"
      ],
      "execution_count": null,
      "outputs": [
        {
          "output_type": "display_data",
          "data": {
            "text/html": [
              "\n",
              "        <script src=\"https://www.gstatic.com/external_hosted/mathjax/latest/MathJax.js?config=TeX-AMS_HTML-full,Safe&delayStartupUntil=configured\"></script>\n",
              "        <script>\n",
              "          (() => {\n",
              "            const mathjax = window.MathJax;\n",
              "            mathjax.Hub.Config({\n",
              "            'tex2jax': {\n",
              "              'inlineMath': [['$', '$'], ['\\(', '\\)']],\n",
              "              'displayMath': [['$$', '$$'], ['\\[', '\\]']],\n",
              "              'processEscapes': true,\n",
              "              'processEnvironments': true,\n",
              "              'skipTags': ['script', 'noscript', 'style', 'textarea', 'code'],\n",
              "              'displayAlign': 'center',\n",
              "            },\n",
              "            'HTML-CSS': {\n",
              "              'styles': {'.MathJax_Display': {'margin': 0}},\n",
              "              'linebreaks': {'automatic': true},\n",
              "              // Disable to prevent OTF font loading, which aren't part of our\n",
              "              // distribution.\n",
              "              'imageFont': null,\n",
              "            },\n",
              "            'messageStyle': 'none'\n",
              "          });\n",
              "          mathjax.Hub.Configured();\n",
              "        })();\n",
              "        </script>\n",
              "        "
            ],
            "text/plain": [
              "<IPython.core.display.HTML object>"
            ]
          },
          "metadata": {
            "tags": []
          }
        },
        {
          "output_type": "execute_result",
          "data": {
            "text/latex": "$$\\left \\{ c_{0} : -30.5644636647653, \\quad c_{1} : -0.614245374459803, \\quad d_{0} : 85.5804966718933, \\quad d_{1} : 8559.76947615152, \\quad d_{2} : 169.174723121897\\right \\}$$",
            "text/plain": [
              "{c₀: -30.5644636647653, c₁: -0.614245374459803, d₀: 85.5804966718933, d₁: 8559\n",
              ".76947615152, d₂: 169.174723121897}"
            ]
          },
          "metadata": {
            "tags": []
          },
          "execution_count": 547
        }
      ]
    },
    {
      "cell_type": "code",
      "metadata": {
        "id": "v62Oo-LeX5mn",
        "outputId": "ee05d1c0-a1b3-4854-bdba-8d7d8fae2b6a",
        "colab": {
          "base_uri": "https://localhost:8080/",
          "height": 41
        }
      },
      "source": [
        "# Goal: Plug in the coefficients to the transfer function of our controller.\n",
        "\n",
        "Gcon = Gc.subs(soln)\n",
        "Gcon"
      ],
      "execution_count": null,
      "outputs": [
        {
          "output_type": "display_data",
          "data": {
            "text/html": [
              "\n",
              "        <script src=\"https://www.gstatic.com/external_hosted/mathjax/latest/MathJax.js?config=TeX-AMS_HTML-full,Safe&delayStartupUntil=configured\"></script>\n",
              "        <script>\n",
              "          (() => {\n",
              "            const mathjax = window.MathJax;\n",
              "            mathjax.Hub.Config({\n",
              "            'tex2jax': {\n",
              "              'inlineMath': [['$', '$'], ['\\(', '\\)']],\n",
              "              'displayMath': [['$$', '$$'], ['\\[', '\\]']],\n",
              "              'processEscapes': true,\n",
              "              'processEnvironments': true,\n",
              "              'skipTags': ['script', 'noscript', 'style', 'textarea', 'code'],\n",
              "              'displayAlign': 'center',\n",
              "            },\n",
              "            'HTML-CSS': {\n",
              "              'styles': {'.MathJax_Display': {'margin': 0}},\n",
              "              'linebreaks': {'automatic': true},\n",
              "              // Disable to prevent OTF font loading, which aren't part of our\n",
              "              // distribution.\n",
              "              'imageFont': null,\n",
              "            },\n",
              "            'messageStyle': 'none'\n",
              "          });\n",
              "          mathjax.Hub.Configured();\n",
              "        })();\n",
              "        </script>\n",
              "        "
            ],
            "text/plain": [
              "<IPython.core.display.HTML object>"
            ]
          },
          "metadata": {
            "tags": []
          }
        },
        {
          "output_type": "execute_result",
          "data": {
            "text/latex": "$$\\frac{169.174723121897 s^{2} + 8559.76947615152 s + 85.5804966718933}{s^{2} - 0.614245374459803 s - 30.5644636647653}$$",
            "text/plain": [
              "                  2                                        \n",
              "169.174723121897⋅s  + 8559.76947615152⋅s + 85.5804966718933\n",
              "───────────────────────────────────────────────────────────\n",
              "         2                                                 \n",
              "        s  - 0.614245374459803⋅s - 30.5644636647653        "
            ]
          },
          "metadata": {
            "tags": []
          },
          "execution_count": 548
        }
      ]
    },
    {
      "cell_type": "code",
      "metadata": {
        "id": "QAuYCscnZNO3",
        "outputId": "e9ff70ea-20f1-40bb-abff-d5c5675e9acf",
        "colab": {
          "base_uri": "https://localhost:8080/",
          "height": 46
        }
      },
      "source": [
        "# Goal: Plug in the coefficients to the transfer function of our closed loop system.\n",
        "\n",
        "T = T.subs(soln).simplify()\n",
        "T"
      ],
      "execution_count": null,
      "outputs": [
        {
          "output_type": "display_data",
          "data": {
            "text/html": [
              "\n",
              "        <script src=\"https://www.gstatic.com/external_hosted/mathjax/latest/MathJax.js?config=TeX-AMS_HTML-full,Safe&delayStartupUntil=configured\"></script>\n",
              "        <script>\n",
              "          (() => {\n",
              "            const mathjax = window.MathJax;\n",
              "            mathjax.Hub.Config({\n",
              "            'tex2jax': {\n",
              "              'inlineMath': [['$', '$'], ['\\(', '\\)']],\n",
              "              'displayMath': [['$$', '$$'], ['\\[', '\\]']],\n",
              "              'processEscapes': true,\n",
              "              'processEnvironments': true,\n",
              "              'skipTags': ['script', 'noscript', 'style', 'textarea', 'code'],\n",
              "              'displayAlign': 'center',\n",
              "            },\n",
              "            'HTML-CSS': {\n",
              "              'styles': {'.MathJax_Display': {'margin': 0}},\n",
              "              'linebreaks': {'automatic': true},\n",
              "              // Disable to prevent OTF font loading, which aren't part of our\n",
              "              // distribution.\n",
              "              'imageFont': null,\n",
              "            },\n",
              "            'messageStyle': 'none'\n",
              "          });\n",
              "          mathjax.Hub.Configured();\n",
              "        })();\n",
              "        </script>\n",
              "        "
            ],
            "text/plain": [
              "<IPython.core.display.HTML object>"
            ]
          },
          "metadata": {
            "tags": []
          }
        },
        {
          "output_type": "execute_result",
          "data": {
            "text/latex": "$$\\frac{1.0 \\left(0.768976014190444 s^{4} + 38.912599968315 s^{3} - 4.40953469402792 s^{2} - 254.456296501577 s - 2.54407476470083\\right)}{1.0 s^{5} + 0.175000000000001 s^{4} + 0.0121250000000401 s^{3} + 0.000415624999999586 s^{2} + 7.04625000480519 \\cdot 10^{-6} s + 4.72500003567689 \\cdot 10^{-8}}$$",
            "text/plain": [
              "            ⎛                   4                    3                     2  \n",
              "        1.0⋅⎝0.768976014190444⋅s  + 38.912599968315⋅s  - 4.40953469402792⋅s  -\n",
              "──────────────────────────────────────────────────────────────────────────────\n",
              "     5                      4                       3                         \n",
              "1.0⋅s  + 0.175000000000001⋅s  + 0.0121250000000401⋅s  + 0.000415624999999586⋅s\n",
              "\n",
              "                                      ⎞        \n",
              " 254.456296501577⋅s - 2.54407476470083⎠        \n",
              "───────────────────────────────────────────────\n",
              "2                                              \n",
              "  + 7.04625000480519e-6⋅s + 4.72500003567689e-8"
            ]
          },
          "metadata": {
            "tags": []
          },
          "execution_count": 549
        }
      ]
    },
    {
      "cell_type": "code",
      "metadata": {
        "id": "oqAs_pQrgEgx",
        "outputId": "c4d42249-3b04-4178-e6ab-a6ff4b0d6bfa",
        "colab": {
          "base_uri": "https://localhost:8080/",
          "height": 58
        }
      },
      "source": [
        "# Goal: Find the zeros and poles of the transfer function of our closed loop system.\n",
        "\n",
        "num1,den1 = fraction(T)\n",
        "zeros1 = solve(num1,s)\n",
        "poles1 = solve(den1,s)\n",
        "zeros1, poles1"
      ],
      "execution_count": null,
      "outputs": [
        {
          "output_type": "display_data",
          "data": {
            "text/html": [
              "\n",
              "        <script src=\"https://www.gstatic.com/external_hosted/mathjax/latest/MathJax.js?config=TeX-AMS_HTML-full,Safe&delayStartupUntil=configured\"></script>\n",
              "        <script>\n",
              "          (() => {\n",
              "            const mathjax = window.MathJax;\n",
              "            mathjax.Hub.Config({\n",
              "            'tex2jax': {\n",
              "              'inlineMath': [['$', '$'], ['\\(', '\\)']],\n",
              "              'displayMath': [['$$', '$$'], ['\\[', '\\]']],\n",
              "              'processEscapes': true,\n",
              "              'processEnvironments': true,\n",
              "              'skipTags': ['script', 'noscript', 'style', 'textarea', 'code'],\n",
              "              'displayAlign': 'center',\n",
              "            },\n",
              "            'HTML-CSS': {\n",
              "              'styles': {'.MathJax_Display': {'margin': 0}},\n",
              "              'linebreaks': {'automatic': true},\n",
              "              // Disable to prevent OTF font loading, which aren't part of our\n",
              "              // distribution.\n",
              "              'imageFont': null,\n",
              "            },\n",
              "            'messageStyle': 'none'\n",
              "          });\n",
              "          mathjax.Hub.Configured();\n",
              "        })();\n",
              "        </script>\n",
              "        "
            ],
            "text/plain": [
              "<IPython.core.display.HTML object>"
            ]
          },
          "metadata": {
            "tags": []
          }
        },
        {
          "output_type": "execute_result",
          "data": {
            "text/latex": "$$\\left ( \\left [ -50.58721289174 - 3.04744201263019 \\cdot 10^{-30} i, \\quad -2.56030704993086 - 1.14572445039606 \\cdot 10^{-29} i, \\quad -0.00999996720375752 + 8.60036598881911 \\cdot 10^{-29} i, \\quad 2.55438112400487 - 7.14989733716003 \\cdot 10^{-29} i\\right ], \\quad \\left [ -0.0450000090694885, \\quad -0.0399999569776338, \\quad -0.0350000745441765, \\quad -0.0299999436916809, \\quad -0.0250000157170203\\right ]\\right )$$",
            "text/plain": [
              "([-50.58721289174 - 3.04744201263019e-30⋅ⅈ, -2.56030704993086 - 1.145724450396\n",
              "06e-29⋅ⅈ, -0.00999996720375752 + 8.60036598881911e-29⋅ⅈ, 2.55438112400487 - 7.\n",
              "14989733716003e-29⋅ⅈ], [-0.0450000090694885, -0.0399999569776338, -0.035000074\n",
              "5441765, -0.0299999436916809, -0.0250000157170203])"
            ]
          },
          "metadata": {
            "tags": []
          },
          "execution_count": 550
        }
      ]
    },
    {
      "cell_type": "code",
      "metadata": {
        "id": "WwSrtp92XcxP",
        "outputId": "ad0802f9-c77a-4345-9167-065951f6b3b8",
        "colab": {
          "base_uri": "https://localhost:8080/",
          "height": 317
        }
      },
      "source": [
        "# Goal: Plot the root locus of the controller and mark the desired poles we picked with red xs.\n",
        "# Find the corresponding K value that gives the closet desired poles.\n",
        "\n",
        "Gcontrol = tf([169.174723121897,8559.76947615152,85.5804966718933],[1,-0.614245374459803,-30.5644636647653])\n",
        "roots,klist = root_locus(Gplant*Gcontrol,xlim=(-0.1,0),ylim=(-0.1,0.1))\n",
        "\n",
        "diff = np.zeros(len(klist))\n",
        "for i in range(0, len(klist)):\n",
        "  diff[i] = abs(klist[i]-1)\n",
        "k = diff.argmin()\n",
        "print(k, klist[k],roots[k])\n",
        "polesK1 = plt.plot(np.real(roots[k]), np.imag(roots[k]),'xr',label=\"K=1\")"
      ],
      "execution_count": null,
      "outputs": [
        {
          "output_type": "stream",
          "text": [
            "771 0.9999999999999227 [-0.04015424+0.j -0.02498054+0.j -0.04495329+0.j -0.03480459+0.j\n",
            " -0.03010735+0.j]\n"
          ],
          "name": "stdout"
        },
        {
          "output_type": "display_data",
          "data": {
            "image/png": "[encoded data removed]",
            "text/plain": [
              "<Figure size 432x288 with 1 Axes>"
            ]
          },
          "metadata": {
            "tags": []
          }
        }
      ]
    },
    {
      "cell_type": "code",
      "metadata": {
        "id": "TFSI4xFCGj7K",
        "outputId": "c90d7c3d-dcf3-4eb2-8e03-c34802a355ab",
        "colab": {
          "base_uri": "https://localhost:8080/",
          "height": 408
        }
      },
      "source": [
        "# Part (b)\n",
        "# Goal: Find gain margin of K values that maintain the stability of our system.\n",
        "\n",
        "for ii in range(len(roots)):\n",
        "  poles = roots[ii, :]\n",
        "  isNegative = True\n",
        "  for i in range(len(poles)):\n",
        "    pole = poles[i]\n",
        "    if np.real(pole) > 0:\n",
        "      isNegative = False\n",
        "  if isNegative == True:\n",
        "    print(\"K=\", klist[ii], \"gives poles: \", np.real(poles))"
      ],
      "execution_count": null,
      "outputs": [
        {
          "output_type": "stream",
          "text": [
            "K= 0.9999999999986545 gives poles:  [-0.0431471  -0.02470298 -0.0431559  -0.03199701 -0.03199701]\n",
            "K= 0.9999999999992152 gives poles:  [-0.04145458 -0.02481718 -0.04440831 -0.03218091 -0.03213902]\n",
            "K= 0.999999999999569 gives poles:  [-0.04081133 -0.02489575 -0.04471364 -0.03388427 -0.03069501]\n",
            "K= 0.9999999999999227 gives poles:  [-0.04015424 -0.02498054 -0.04495329 -0.03480459 -0.03010735]\n",
            "K= 1.0000000000002767 gives poles:  [-0.03937764 -0.02507288 -0.04515455 -0.0357446  -0.02965032]\n",
            "K= 1.0000000000006304 gives poles:  [-0.03762086 -0.02517456 -0.04532982 -0.03762086 -0.0292539 ]\n",
            "K= 1.0000000000026708 gives poles:  [-0.03781626 -0.02666026 -0.04607432 -0.03781626 -0.02663291]\n",
            "K= 1.0000000000665765 gives poles:  [-0.03864549 -0.02310603 -0.05149696 -0.03864549 -0.02310603]\n",
            "K= 1.0000000001304823 gives poles:  [-0.03887753 -0.02184903 -0.05354689 -0.03887753 -0.02184903]\n",
            "K= 1.0000000001943883 gives poles:  [-0.03902177 -0.02100149 -0.05495348 -0.03902177 -0.02100149]\n",
            "K= 1.000000000258294 gives poles:  [-0.03912697 -0.02034688 -0.0560523  -0.03912697 -0.02034688]\n",
            "K= 1.0000000005139174 gives poles:  [-0.03938664 -0.01857512 -0.05907648 -0.03938664 -0.01857512]\n",
            "K= 1.0000000007695407 gives poles:  [-0.03954011 -0.01740121 -0.06111737 -0.03954011 -0.01740121]\n",
            "K= 1.000000001025164 gives poles:  [-0.03964854 -0.01650151 -0.0626999  -0.03964854 -0.01650151]\n",
            "K= 1.0000000020476572 gives poles:  [-0.03990432 -0.01408449 -0.06702238 -0.03990432 -0.01408449]\n",
            "K= 1.0000000030701504 gives poles:  [-0.04004786 -0.01249084 -0.06992262 -0.04004786 -0.01249084]\n",
            "K= 1.0000000040926436 gives poles:  [-0.04014596 -0.01127113 -0.07216583 -0.04014596 -0.01127113]\n",
            "K= 1.0000000051151368 gives poles:  [-0.04021958 -0.01027051 -0.07401983 -0.04021958 -0.01027051]\n",
            "K= 1.00000000613763 gives poles:  [-0.04027798 -0.0094156  -0.07561284 -0.04027798 -0.0094156 ]\n",
            "K= 1.0000000071601232 gives poles:  [-0.04032606 -0.0086654  -0.07701709 -0.04032606 -0.0086654 ]\n",
            "K= 1.0000000081826164 gives poles:  [-0.04036671 -0.00799446 -0.07827767 -0.04036671 -0.00799446]\n",
            "K= 1.0000000122725894 gives poles:  [-0.04048421 -0.00583021 -0.08237117 -0.04048421 -0.00583021]\n",
            "K= 1.0000000163625622 gives poles:  [-0.04056196 -0.00417052 -0.08553507 -0.04056196 -0.00417052]\n"
          ],
          "name": "stdout"
        }
      ]
    },
    {
      "cell_type": "code",
      "metadata": {
        "id": "sYTjtECrfIJk",
        "outputId": "63289aa4-77df-4a82-d782-513c73da8637",
        "colab": {
          "base_uri": "https://localhost:8080/",
          "height": 58
        }
      },
      "source": [
        "# Goal: Find the numerator and denominator of the transfer function of our closed loop system.\n",
        "\n",
        "numT, denT = fraction(T)\n",
        "numT, denT"
      ],
      "execution_count": null,
      "outputs": [
        {
          "output_type": "display_data",
          "data": {
            "text/html": [
              "\n",
              "        <script src=\"https://www.gstatic.com/external_hosted/mathjax/latest/MathJax.js?config=TeX-AMS_HTML-full,Safe&delayStartupUntil=configured\"></script>\n",
              "        <script>\n",
              "          (() => {\n",
              "            const mathjax = window.MathJax;\n",
              "            mathjax.Hub.Config({\n",
              "            'tex2jax': {\n",
              "              'inlineMath': [['$', '$'], ['\\(', '\\)']],\n",
              "              'displayMath': [['$$', '$$'], ['\\[', '\\]']],\n",
              "              'processEscapes': true,\n",
              "              'processEnvironments': true,\n",
              "              'skipTags': ['script', 'noscript', 'style', 'textarea', 'code'],\n",
              "              'displayAlign': 'center',\n",
              "            },\n",
              "            'HTML-CSS': {\n",
              "              'styles': {'.MathJax_Display': {'margin': 0}},\n",
              "              'linebreaks': {'automatic': true},\n",
              "              // Disable to prevent OTF font loading, which aren't part of our\n",
              "              // distribution.\n",
              "              'imageFont': null,\n",
              "            },\n",
              "            'messageStyle': 'none'\n",
              "          });\n",
              "          mathjax.Hub.Configured();\n",
              "        })();\n",
              "        </script>\n",
              "        "
            ],
            "text/plain": [
              "<IPython.core.display.HTML object>"
            ]
          },
          "metadata": {
            "tags": []
          }
        },
        {
          "output_type": "execute_result",
          "data": {
            "text/latex": "$$\\left ( 0.768976014190444 s^{4} + 38.912599968315 s^{3} - 4.40953469402792 s^{2} - 254.456296501577 s - 2.54407476470083, \\quad 1.0 s^{5} + 0.175000000000001 s^{4} + 0.0121250000000401 s^{3} + 0.000415624999999586 s^{2} + 7.04625000480519 \\cdot 10^{-6} s + 4.72500003567689 \\cdot 10^{-8}\\right )$$",
            "text/plain": [
              "⎛                   4                    3                     2              \n",
              "⎝0.768976014190444⋅s  + 38.912599968315⋅s  - 4.40953469402792⋅s  - 254.4562965\n",
              "\n",
              "                                 5                      4                     \n",
              "01577⋅s - 2.54407476470083, 1.0⋅s  + 0.175000000000001⋅s  + 0.0121250000000401\n",
              "\n",
              "  3                         2                                              ⎞\n",
              "⋅s  + 0.000415624999999586⋅s  + 7.04625000480519e-6⋅s + 4.72500003567689e-8⎠"
            ]
          },
          "metadata": {
            "tags": []
          },
          "execution_count": 553
        }
      ]
    },
    {
      "cell_type": "code",
      "metadata": {
        "id": "u0ymmRNyU_0l",
        "outputId": "c949d59a-4ce4-48af-a4da-4e54808b93c6",
        "colab": {
          "base_uri": "https://localhost:8080/",
          "height": 317
        }
      },
      "source": [
        "# Part (c)\n",
        "# Goal: Plot the step response and impulse response of the linear model of our system. \n",
        "# To get a performant response, we divide the input by a gain of −6750000.\n",
        "\n",
        "k_y = -6750000\n",
        "system = ctrl.TransferFunction([0.768976014190444,38.912599968315,-4.40953469402792,-254.456296501577,-2.54407476470083],[1,0.175000000000001,0.0121250000000401,0.000415624999999586,7.04625000480519*10**-6,4.72500003567689*10**-8])\n",
        "ti,yi = impulse_response(system,np.linspace(0,800,1000))\n",
        "ts,ys = step_response(system,np.linspace(0,800,1000))\n",
        "plt.plot(ti,yi/k_y,label='Impluse Response')\n",
        "plt.plot(ts,ys/k_y,label='Step Response')\n",
        "plt.title(\"Linear Model\")\n",
        "plt.xlabel(\"$t$\")\n",
        "plt.ylabel(\"$y$\")\n",
        "plt.legend()\n",
        "Vss = np.mean(ys[500:999]/k_y)\n",
        "Vmaxi = max(yi/k_y)\n",
        "Vmaxs = max(ys/k_y)\n",
        "Vss, Vmaxs, Vmaxi"
      ],
      "execution_count": null,
      "outputs": [
        {
          "output_type": "display_data",
          "data": {
            "text/html": [
              "\n",
              "        <script src=\"https://www.gstatic.com/external_hosted/mathjax/latest/MathJax.js?config=TeX-AMS_HTML-full,Safe&delayStartupUntil=configured\"></script>\n",
              "        <script>\n",
              "          (() => {\n",
              "            const mathjax = window.MathJax;\n",
              "            mathjax.Hub.Config({\n",
              "            'tex2jax': {\n",
              "              'inlineMath': [['$', '$'], ['\\(', '\\)']],\n",
              "              'displayMath': [['$$', '$$'], ['\\[', '\\]']],\n",
              "              'processEscapes': true,\n",
              "              'processEnvironments': true,\n",
              "              'skipTags': ['script', 'noscript', 'style', 'textarea', 'code'],\n",
              "              'displayAlign': 'center',\n",
              "            },\n",
              "            'HTML-CSS': {\n",
              "              'styles': {'.MathJax_Display': {'margin': 0}},\n",
              "              'linebreaks': {'automatic': true},\n",
              "              // Disable to prevent OTF font loading, which aren't part of our\n",
              "              // distribution.\n",
              "              'imageFont': null,\n",
              "            },\n",
              "            'messageStyle': 'none'\n",
              "          });\n",
              "          mathjax.Hub.Configured();\n",
              "        })();\n",
              "        </script>\n",
              "        "
            ],
            "text/plain": [
              "<IPython.core.display.HTML object>"
            ]
          },
          "metadata": {
            "tags": []
          }
        },
        {
          "output_type": "execute_result",
          "data": {
            "text/latex": "$$\\left ( 7.980722487195042, \\quad 9.22657610254333, \\quad 0.1089786458286267\\right )$$",
            "text/plain": [
              "(7.980722487195042, 9.22657610254333, 0.1089786458286267)"
            ]
          },
          "metadata": {
            "tags": []
          },
          "execution_count": 554
        },
        {
          "output_type": "display_data",
          "data": {
            "image/png": "[encoded data removed]",
            "text/plain": [
              "<Figure size 432x288 with 1 Axes>"
            ]
          },
          "metadata": {
            "tags": []
          }
        }
      ]
    },
    {
      "cell_type": "code",
      "metadata": {
        "id": "B33H8CP0Bl5l",
        "outputId": "a1d8d2ec-5352-4ac1-abec-01a477740c3c",
        "colab": {
          "base_uri": "https://localhost:8080/",
          "height": 136
        }
      },
      "source": [
        "print(\"Step response \\n Settling time = \", find_Ts(ys/k_y, ts, 1), \"\\n Overshoot = \", find_OS(ys/k_y), \"\\n Settling response = \", find_avg(ys/k_y), \"\\n Max response =\", max(ys/k_y))\n",
        "print(\"Impulse response \\n Max response =\", max(yi/k_y))"
      ],
      "execution_count": null,
      "outputs": [
        {
          "output_type": "stream",
          "text": [
            "Step response \n",
            " Settling time =  325.9259259259259 \n",
            " Overshoot =  0.1566772327863295 \n",
            " Settling response =  7.9767940796391 \n",
            " Max response = 9.22657610254333\n",
            "Impulse response \n",
            " Max response = 0.1089786458286267\n"
          ],
          "name": "stdout"
        }
      ]
    },
    {
      "cell_type": "code",
      "metadata": {
        "id": "tE9FJ_Xj7mBU",
        "outputId": "c88f9267-e6a5-4250-e739-10250413afa1",
        "colab": {
          "base_uri": "https://localhost:8080/",
          "height": 170
        }
      },
      "source": [
        "# Goal: Find the state space representation of the transfer function of our closed loop system to plot the non linear model.\n",
        "\n",
        "Controller = tf2ss(Gcontrol)\n",
        "Controller"
      ],
      "execution_count": null,
      "outputs": [
        {
          "output_type": "execute_result",
          "data": {
            "text/plain": [
              "A = [[ 0.61424537 30.56446366]\n",
              " [ 1.          0.        ]]\n",
              "\n",
              "B = [[1.]\n",
              " [0.]]\n",
              "\n",
              "C = [[8663.6842673  5256.31517453]]\n",
              "\n",
              "D = [[169.17472312]]"
            ]
          },
          "metadata": {
            "tags": []
          },
          "execution_count": 556
        }
      ]
    },
    {
      "cell_type": "code",
      "metadata": {
        "id": "e7ZMwJ6LCh-f",
        "outputId": "3182e815-5bc2-4edf-f5da-af1937eb25ba",
        "colab": {
          "base_uri": "https://localhost:8080/",
          "height": 314
        }
      },
      "source": [
        "# Goal: Plot the nonlinear step response. To get a performant response, we divide the input by a gain of −15100000.\n",
        "\n",
        "def rfn(t):\n",
        "  if t >= 0:\n",
        "    return (1 / -15100000)\n",
        "  else:\n",
        "    return 0\n",
        "\n",
        "def ffn(x,t):\n",
        "  r = rfn(t)\n",
        "\n",
        "  # extract x1,x2,x3,x4,x5 from input\n",
        "  x1 = x[0]\n",
        "  x2 = x[1]\n",
        "  x3 = x[2]\n",
        "  x4 = x[3]\n",
        "  x5 = x[4]\n",
        "\n",
        "  # compute f(x,t)\n",
        "  Tau = 8663.6842673 * x4 + 5256.31517453 * x5 + 169.17472312 * r - 169.17472312 * x1\n",
        "  x1dot = (-23.625 * x1 + 8.4375 * Tau - 759.375 * x3**2 * np.sin(x2) - 4.5 * x3 * np.cos(x2) + 2483.15625 * np.sin(2*x2)) / (506.25 * np.sin(x2)**2 + 1856.25)\n",
        "  x2dot = x3\n",
        "  x3dot = (-15.75 * x1 * np.cos(x2) + 5.625 * Tau * np.cos(x2) - 253.125 * x3**2 * np.sin(2*x2) - 14 * x3 + 15450.75 * np.sin(x2)) / (506.25 * np.sin(x2)**2 + 1856.25)\n",
        "  x4dot = 0.61424537 * x4 + 30.56446366 * x5 + r - x1\n",
        "  x5dot = x4\n",
        "\n",
        "  # return derivatives.\n",
        "  return [x1dot,x2dot,x3dot,x4dot,x5dot]\n",
        "\n",
        "t = np.linspace(0,2000,10000)\n",
        "x_of_t = spi.odeint(ffn,(0,0,0,0,0),t)\n",
        "plt.figure()\n",
        "plt.plot(t,x_of_t[:,0])\n",
        "plt.title(\"Nonlinear Step Response\")\n",
        "plt.xlabel(\"$t$\")\n",
        "plt.ylabel(\"$y$\")\n",
        "plt.legend([\"y=x1\",\"x2\",\"x3\", \"x4\", \"x5\"])\n",
        "print(max(x_of_t[:,0]), np.mean(x_of_t[5000:9999, 0]))"
      ],
      "execution_count": null,
      "outputs": [
        {
          "output_type": "stream",
          "text": [
            "8.025367965904223 7.950088267007105\n"
          ],
          "name": "stdout"
        },
        {
          "output_type": "display_data",
          "data": {
            "image/png": "[encoded data removed]",
            "text/plain": [
              "<Figure size 432x288 with 1 Axes>"
            ]
          },
          "metadata": {
            "tags": []
          }
        }
      ]
    },
    {
      "cell_type": "code",
      "metadata": {
        "id": "dkkGMwSGAxRP",
        "outputId": "5b04542c-b1ed-43a7-8d88-5c7e06ab7f62",
        "colab": {
          "base_uri": "https://localhost:8080/",
          "height": 85
        }
      },
      "source": [
        "print(\" Settling time = \", find_Ts(x_of_t[:,0], t, 1), \"\\n Overshoot = \", find_OS(x_of_t[:,0]), \"\\n Settling response = \", find_avg(x_of_t[:,0]), \"\\n Max response =\", max(x_of_t[:,0]))"
      ],
      "execution_count": null,
      "outputs": [
        {
          "output_type": "stream",
          "text": [
            " Settling time =  963.096309630963 \n",
            " Overshoot =  0.00602324935648317 \n",
            " Settling response =  7.977318586859461 \n",
            " Max response = 8.025367965904223\n"
          ],
          "name": "stdout"
        }
      ]
    },
    {
      "cell_type": "code",
      "metadata": {
        "id": "Zx9OSkkLCijZ",
        "outputId": "833b8fbd-ad64-4937-8f02-68aa481f7b2e",
        "colab": {
          "base_uri": "https://localhost:8080/",
          "height": 314
        }
      },
      "source": [
        "# Goal: Plot the nonlinear impulse response. To get a performant response, we divide the input by a gain of −15100000.\n",
        "\n",
        "def aim(t):\n",
        "    dt = 0.1\n",
        "    if (t >= 0 and t < dt):\n",
        "      return 1/(dt * -15100000)\n",
        "    else:\n",
        "      return 0\n",
        "\n",
        "def ffn(x,t):\n",
        "  r = aim(t)\n",
        "\n",
        "  # extract x1,x2,x3,x4,x5 from input\n",
        "  x1 = x[0]\n",
        "  x2 = x[1]\n",
        "  x3 = x[2]\n",
        "  x4 = x[3]\n",
        "  x5 = x[4]\n",
        "\n",
        "  # compute f(x,t)\n",
        "  Tau = 8663.6842673 * x4 + 5256.31517453 * x5 + 169.17472312 * r - 169.17472312 * x1\n",
        "  x1dot = (-23.625 * x1 + 8.4375 * Tau - 759.375 * x3**2 * np.sin(x2) - 4.5 * x3 * np.cos(x2) + 2483.15625 * np.sin(2*x2)) / (506.25 * np.sin(x2)**2 + 1856.25)\n",
        "  x2dot = x3\n",
        "  x3dot = (-15.75 * x1 * np.cos(x2) + 5.625 * Tau * np.cos(x2) - 253.125 * x3**2 * np.sin(2*x2) - 14 * x3 + 15450.75 * np.sin(x2)) / (506.25 * np.sin(x2)**2 + 1856.25)\n",
        "  x4dot = 0.61424537 * x4 + 30.56446366 * x5 + r - x1\n",
        "  x5dot = x4\n",
        "\n",
        "  # return derivatives.\n",
        "  return [x1dot,x2dot,x3dot,x4dot,x5dot]\n",
        "\n",
        "t = np.linspace(0,2000,10000)\n",
        "x_of_t = spi.odeint(ffn,(0,0,0,0,0),t)\n",
        "plt.figure()\n",
        "plt.plot(t,x_of_t[:,0])\n",
        "plt.title(\"Nonlinear Impulse Response\")\n",
        "plt.xlabel(\"$t$\")\n",
        "plt.ylabel(\"$y$\")\n",
        "plt.legend([\"y=x1\",\"x2\",\"x3\", \"x4\", \"x5\"])\n",
        "print(max(x_of_t[:,0]))"
      ],
      "execution_count": null,
      "outputs": [
        {
          "output_type": "stream",
          "text": [
            "0.047574664343315275\n"
          ],
          "name": "stdout"
        },
        {
          "output_type": "display_data",
          "data": {
            "image/png": "[encoded data removed]",
            "text/plain": [
              "<Figure size 432x288 with 1 Axes>"
            ]
          },
          "metadata": {
            "tags": []
          }
        }
      ]
    },
    {
      "cell_type": "code",
      "metadata": {
        "id": "ETjw5kiWAviX",
        "outputId": "c764a6de-5ab1-4f6b-e8df-423a799856b1",
        "colab": {
          "base_uri": "https://localhost:8080/",
          "height": 34
        }
      },
      "source": [
        "print(\" Max response =\", max(x_of_t[:,0]))"
      ],
      "execution_count": null,
      "outputs": [
        {
          "output_type": "stream",
          "text": [
            " Max response = 0.047574664343315275\n"
          ],
          "name": "stdout"
        }
      ]
    },
    {
      "cell_type": "markdown",
      "metadata": {
        "id": "T0nedlWuCKY8"
      },
      "source": [
        "## Task 5:  Disturbances and Noise\n",
        "\n",
        "a) Occasionally, the scooter may encounter a hill, wind or other exogenous force. Determine a model of this kind of disturbance, and\n",
        "discuss its effect on the root locus controlled system.\n",
        "\n",
        "b) Over time the scooter's tires may wear or go flat. Discuss the sensitivity of the system to changes in the tire's radius $R$ for your Root locus designed system. Note that for some analysis sensitivity $S^f_R$ for some $f$ may be informative (such as in the sensitivity notes) and sometimes just examining how other metrics change with $R$ is informative (such as in the mag lev example). Pick what you feel is justified.\n",
        "\n",
        "optional: repeat the above after designing the fullstate feedback + observer controller (after task 7).  Label this Task 7.5."
      ]
    },
    {
      "cell_type": "markdown",
      "metadata": {
        "id": "cUey4tBTEun4"
      },
      "source": [
        "## Disturbances and Noise\n",
        "\n",
        "The block diagram with disturbace and noise is shown as below.\n",
        "<img width=57.5% src=\"https://github.com/christakahashi/ECE447/blob/master/images/blocks-with-dist-and-noise.png?raw=1\">\n",
        "\n",
        "In our system, we assume noise is zero ($N(s) = 0$). The possible disturbances are a gust of wind and climbing on a hill. We modeled a gust of wind as an impulse input and climbing on a hill as a step input. Thus, we plot the step response and impulse response of the system with a gust of wind as $D(s) = 1$ and with a hill as $D(s) = 1/s$. \n",
        "\n",
        "From the block diagram, the transfer function of the system with the disturbance is $T(s) = \\frac{Y(s)}{R(s)} = \\frac{(R(s)Gc(s)+D(s))G(s)}{(1+Gc(s)G(s))R(s)}$ \n",
        "\n",
        "### Linear Model\n",
        "A gust of wind does not affect the velocity of the scooter a lot. For step response with a gust of wind, the steady-state velocity of the scooter is $7.98 m/s$ and the percent overshoot is $15.5$% which is similar to the percent overshoot without the disturbance. For impulse response with a gust of wind, the maximum velocity of the scooter is $0.098 m/s$. As a result, we can see the disturbance of a gust of wind does not affect our system's performance that much.\n",
        "\n",
        "From our plots of step response and impulse response, climbing on a hill decreases the velocity of the scooter in general which is consistent with reality. For step response with a hill, the steady-state velocity of the scooter is $5.13 m/s$ and the percent overshoot is $46.2$%. For impulse response with a hill, the maximum velocity of the scooter is $0.041 m/s$. As a result, we can see that the disturbance of climbing on a hill affects our system performance by decreasing the velocity of the scooter. \n",
        "\n",
        "### Nonlinear Model\n",
        "For the nonlinear model, it can only handle very small disturbances since we need to divide the disturbance by a gain of $-15100000$ to get a performant response. \n",
        "\n",
        "For step response with a gust of wind, the steady-state velocity of the scooter is $7.96 m/s$. For impulse response with a gust of wind, the maximum velocity of the scooter is $0.043 m/s$. Similar to the linear model, we can see that the disturbance of a gust of wind does not affect our system's performance that much.\n",
        "\n",
        "For step response with a hill, the steady-state velocity of the scooter is $5.11 m/s$. For impulse response with a hill, the maximum velocity of the scooter is $0.017 m/s$. Similar to the linear model, we can see that the disturbance of climbing on a hill affects our system performance by decreasing the velocity of the scooter. \n",
        "\n",
        "## Sensitivity\n",
        "We analyzed the sensitivity of the plant and the transfer function to changes in the tire's radius $R$ for our root locus designed system. \n",
        "\n",
        "The sensitivity of the plant to changes in the tire's radius $R$ is 1 which means changes in the plant and changes in $R$ are proportional. This is consistent with our model since if the tire gets flat, the velocity of the scooter will be affected directly.\n",
        "\n",
        "The sensitivity of the transfer function to changes in the tire's radius $R$ is plotted below. Both plots show how the sensitivity changes with varying frequency and radius. We can see that the sensitivity eventually becomes close to zero with higher frequency in the first plot and the sensitivity is higher with a larger radius value at low frequencies in both plots. Although it seems counterintuitive that the sensitivity is higher with a larger radius, we can interpret it as the sensitivity is higher with a larger change in radius instead. The reason for the inconsistency is that the two equations given for the model may not be correct.\n",
        "\n"
      ]
    },
    {
      "cell_type": "code",
      "metadata": {
        "id": "BX3ri2bR4N-Y",
        "outputId": "a527e9e2-a41c-4a9e-99aa-4a65ae46644c",
        "colab": {
          "base_uri": "https://localhost:8080/",
          "height": 58
        }
      },
      "source": [
        "# Part (a)\n",
        "# Goal: Find the transfer functions for step input step disturbance, step input impulse disturbance, \n",
        "# impulse input step disturbance, and impulse input impulse disturbance.\n",
        "# Find the coefficients of numerator and denominator of each transfer function.\n",
        "\n",
        "Ds = 1/s\n",
        "Di = 1\n",
        "Rs = 1/s\n",
        "Ri = 1\n",
        "Tdss = (((Rs*Gcon+Ds)*G0) / ((1+Gcon*G0)*Rs)).simplify().cancel()\n",
        "Tdsi = (((Rs*Gcon+Di)*G0) / ((1+Gcon*G0)*Rs)).simplify().cancel()\n",
        "Tdis = (((Ri*Gcon+Ds)*G0) / ((1+Gcon*G0)*Ri)).simplify().cancel()\n",
        "Tdii = (((Ri*Gcon+Di)*G0) / ((1+Gcon*G0)*Ri)).simplify().cancel()\n",
        "\n",
        "numTdss, denTdss = fraction(Tdss)\n",
        "numTdsi, denTdsi = fraction(Tdsi)\n",
        "numTdis, denTdis = fraction(Tdis)\n",
        "numTdii, denTdii = fraction(Tdii)\n",
        "numSS = Poly(numTdss,s).all_coeffs()\n",
        "denSS = Poly(denTdss,s).all_coeffs()\n",
        "numSI = Poly(numTdsi,s).all_coeffs()\n",
        "denSI = Poly(denTdsi,s).all_coeffs()\n",
        "numIS = Poly(numTdis,s).all_coeffs()\n",
        "denIS = Poly(denTdis,s).all_coeffs()\n",
        "numII = Poly(numTdii,s).all_coeffs()\n",
        "denII = Poly(denTdii,s).all_coeffs()\n",
        "numSS, denSS"
      ],
      "execution_count": null,
      "outputs": [
        {
          "output_type": "display_data",
          "data": {
            "text/html": [
              "\n",
              "        <script src=\"https://www.gstatic.com/external_hosted/mathjax/latest/MathJax.js?config=TeX-AMS_HTML-full,Safe&delayStartupUntil=configured\"></script>\n",
              "        <script>\n",
              "          (() => {\n",
              "            const mathjax = window.MathJax;\n",
              "            mathjax.Hub.Config({\n",
              "            'tex2jax': {\n",
              "              'inlineMath': [['$', '$'], ['\\(', '\\)']],\n",
              "              'displayMath': [['$$', '$$'], ['\\[', '\\]']],\n",
              "              'processEscapes': true,\n",
              "              'processEnvironments': true,\n",
              "              'skipTags': ['script', 'noscript', 'style', 'textarea', 'code'],\n",
              "              'displayAlign': 'center',\n",
              "            },\n",
              "            'HTML-CSS': {\n",
              "              'styles': {'.MathJax_Display': {'margin': 0}},\n",
              "              'linebreaks': {'automatic': true},\n",
              "              // Disable to prevent OTF font loading, which aren't part of our\n",
              "              // distribution.\n",
              "              'imageFont': null,\n",
              "            },\n",
              "            'messageStyle': 'none'\n",
              "          });\n",
              "          mathjax.Hub.Configured();\n",
              "        })();\n",
              "        </script>\n",
              "        "
            ],
            "text/plain": [
              "<IPython.core.display.HTML object>"
            ]
          },
          "metadata": {
            "tags": []
          }
        },
        {
          "output_type": "execute_result",
          "data": {
            "text/latex": "$$\\left ( \\left [ 0.773521468735898, \\quad 38.9098348799126, \\quad -4.57820789237953, \\quad -254.438859947025, \\quad -1.63547661757553\\right ], \\quad \\left [ 1.0, \\quad 0.175000000000001, \\quad 0.0121250000000401, \\quad 0.000415624999999586, \\quad 7.04625000480519 \\cdot 10^{-6}, \\quad 4.72500003567689 \\cdot 10^{-8}\\right ]\\right )$$",
            "text/plain": [
              "([0.773521468735898, 38.9098348799126, -4.57820789237953, -254.438859947025, -\n",
              "1.63547661757553], [1.0, 0.175000000000001, 0.0121250000000401, 0.000415624999\n",
              "999586, 7.04625000480519e-6, 4.72500003567689e-8])"
            ]
          },
          "metadata": {
            "tags": []
          },
          "execution_count": 625
        }
      ]
    },
    {
      "cell_type": "code",
      "metadata": {
        "id": "haUKfYz1A2FH",
        "outputId": "9bda164e-526c-4de4-d023-777dda4ccac8",
        "colab": {
          "base_uri": "https://localhost:8080/",
          "height": 58
        }
      },
      "source": [
        "# Goal: Find the coefficients of numerator and denominator of each transfer function.\n",
        "\n",
        "numSI, denSI"
      ],
      "execution_count": null,
      "outputs": [
        {
          "output_type": "display_data",
          "data": {
            "text/html": [
              "\n",
              "        <script src=\"https://www.gstatic.com/external_hosted/mathjax/latest/MathJax.js?config=TeX-AMS_HTML-full,Safe&delayStartupUntil=configured\"></script>\n",
              "        <script>\n",
              "          (() => {\n",
              "            const mathjax = window.MathJax;\n",
              "            mathjax.Hub.Config({\n",
              "            'tex2jax': {\n",
              "              'inlineMath': [['$', '$'], ['\\(', '\\)']],\n",
              "              'displayMath': [['$$', '$$'], ['\\[', '\\]']],\n",
              "              'processEscapes': true,\n",
              "              'processEnvironments': true,\n",
              "              'skipTags': ['script', 'noscript', 'style', 'textarea', 'code'],\n",
              "              'displayAlign': 'center',\n",
              "            },\n",
              "            'HTML-CSS': {\n",
              "              'styles': {'.MathJax_Display': {'margin': 0}},\n",
              "              'linebreaks': {'automatic': true},\n",
              "              // Disable to prevent OTF font loading, which aren't part of our\n",
              "              // distribution.\n",
              "              'imageFont': null,\n",
              "            },\n",
              "            'messageStyle': 'none'\n",
              "          });\n",
              "          mathjax.Hub.Configured();\n",
              "        })();\n",
              "        </script>\n",
              "        "
            ],
            "text/plain": [
              "<IPython.core.display.HTML object>"
            ]
          },
          "metadata": {
            "tags": []
          }
        },
        {
          "output_type": "execute_result",
          "data": {
            "text/latex": "$$\\left ( \\left [ 0.00454545454545455, \\quad 0.766210925788017, \\quad 38.7439267699634, \\quad -4.39209813947646, \\quad -253.547698354452, \\quad -2.54407476470083\\right ], \\quad \\left [ 1.0, \\quad 0.175000000000001, \\quad 0.0121250000000401, \\quad 0.000415624999999586, \\quad 7.04625000480519 \\cdot 10^{-6}, \\quad 4.72500003567689 \\cdot 10^{-8}\\right ]\\right )$$",
            "text/plain": [
              "([0.00454545454545455, 0.766210925788017, 38.7439267699634, -4.39209813947646,\n",
              " -253.547698354452, -2.54407476470083], [1.0, 0.175000000000001, 0.01212500000\n",
              "00401, 0.000415624999999586, 7.04625000480519e-6, 4.72500003567689e-8])"
            ]
          },
          "metadata": {
            "tags": []
          },
          "execution_count": 563
        }
      ]
    },
    {
      "cell_type": "code",
      "metadata": {
        "id": "loaAfzCPA6aM",
        "outputId": "75f6af4c-9c2b-48c9-de3f-2d19a6f4bddd",
        "colab": {
          "base_uri": "https://localhost:8080/",
          "height": 58
        }
      },
      "source": [
        "# Goal: Find the coefficients of numerator and denominator of each transfer function.\n",
        "\n",
        "numIS, denIS"
      ],
      "execution_count": null,
      "outputs": [
        {
          "output_type": "display_data",
          "data": {
            "text/html": [
              "\n",
              "        <script src=\"https://www.gstatic.com/external_hosted/mathjax/latest/MathJax.js?config=TeX-AMS_HTML-full,Safe&delayStartupUntil=configured\"></script>\n",
              "        <script>\n",
              "          (() => {\n",
              "            const mathjax = window.MathJax;\n",
              "            mathjax.Hub.Config({\n",
              "            'tex2jax': {\n",
              "              'inlineMath': [['$', '$'], ['\\(', '\\)']],\n",
              "              'displayMath': [['$$', '$$'], ['\\[', '\\]']],\n",
              "              'processEscapes': true,\n",
              "              'processEnvironments': true,\n",
              "              'skipTags': ['script', 'noscript', 'style', 'textarea', 'code'],\n",
              "              'displayAlign': 'center',\n",
              "            },\n",
              "            'HTML-CSS': {\n",
              "              'styles': {'.MathJax_Display': {'margin': 0}},\n",
              "              'linebreaks': {'automatic': true},\n",
              "              // Disable to prevent OTF font loading, which aren't part of our\n",
              "              // distribution.\n",
              "              'imageFont': null,\n",
              "            },\n",
              "            'messageStyle': 'none'\n",
              "          });\n",
              "          mathjax.Hub.Configured();\n",
              "        })();\n",
              "        </script>\n",
              "        "
            ],
            "text/plain": [
              "<IPython.core.display.HTML object>"
            ]
          },
          "metadata": {
            "tags": []
          }
        },
        {
          "output_type": "execute_result",
          "data": {
            "text/latex": "$$\\left ( \\left [ 0.768976014190444, \\quad 38.9171454228605, \\quad -4.41229978243035, \\quad -254.624969699928, \\quad -2.52663821014936, \\quad 0.908598147125295\\right ], \\quad \\left [ 1.0, \\quad 0.175000000000001, \\quad 0.0121250000000401, \\quad 0.000415624999999586, \\quad 7.04625000480519 \\cdot 10^{-6}, \\quad 4.72500003567689 \\cdot 10^{-8}, \\quad 0.0\\right ]\\right )$$",
            "text/plain": [
              "([0.768976014190444, 38.9171454228605, -4.41229978243035, -254.624969699928, -\n",
              "2.52663821014936, 0.908598147125295], [1.0, 0.175000000000001, 0.0121250000000\n",
              "401, 0.000415624999999586, 7.04625000480519e-6, 4.72500003567689e-8, 0.0])"
            ]
          },
          "metadata": {
            "tags": []
          },
          "execution_count": 564
        }
      ]
    },
    {
      "cell_type": "code",
      "metadata": {
        "id": "J_LoCyhYA9Ta",
        "outputId": "606713bf-184d-4f81-b37a-0786be32bac2",
        "colab": {
          "base_uri": "https://localhost:8080/",
          "height": 58
        }
      },
      "source": [
        "# Goal: Find the coefficients of numerator and denominator of each transfer function.\n",
        "\n",
        "numII, denII"
      ],
      "execution_count": null,
      "outputs": [
        {
          "output_type": "display_data",
          "data": {
            "text/html": [
              "\n",
              "        <script src=\"https://www.gstatic.com/external_hosted/mathjax/latest/MathJax.js?config=TeX-AMS_HTML-full,Safe&delayStartupUntil=configured\"></script>\n",
              "        <script>\n",
              "          (() => {\n",
              "            const mathjax = window.MathJax;\n",
              "            mathjax.Hub.Config({\n",
              "            'tex2jax': {\n",
              "              'inlineMath': [['$', '$'], ['\\(', '\\)']],\n",
              "              'displayMath': [['$$', '$$'], ['\\[', '\\]']],\n",
              "              'processEscapes': true,\n",
              "              'processEnvironments': true,\n",
              "              'skipTags': ['script', 'noscript', 'style', 'textarea', 'code'],\n",
              "              'displayAlign': 'center',\n",
              "            },\n",
              "            'HTML-CSS': {\n",
              "              'styles': {'.MathJax_Display': {'margin': 0}},\n",
              "              'linebreaks': {'automatic': true},\n",
              "              // Disable to prevent OTF font loading, which aren't part of our\n",
              "              // distribution.\n",
              "              'imageFont': null,\n",
              "            },\n",
              "            'messageStyle': 'none'\n",
              "          });\n",
              "          mathjax.Hub.Configured();\n",
              "        })();\n",
              "        </script>\n",
              "        "
            ],
            "text/plain": [
              "<IPython.core.display.HTML object>"
            ]
          },
          "metadata": {
            "tags": []
          }
        },
        {
          "output_type": "execute_result",
          "data": {
            "text/latex": "$$\\left ( \\left [ 0.773521468735898, \\quad 38.9098348799126, \\quad -4.57820789237953, \\quad -254.438859947025, \\quad -1.63547661757553\\right ], \\quad \\left [ 1.0, \\quad 0.175000000000001, \\quad 0.0121250000000401, \\quad 0.000415624999999586, \\quad 7.04625000480519 \\cdot 10^{-6}, \\quad 4.72500003567689 \\cdot 10^{-8}\\right ]\\right )$$",
            "text/plain": [
              "([0.773521468735898, 38.9098348799126, -4.57820789237953, -254.438859947025, -\n",
              "1.63547661757553], [1.0, 0.175000000000001, 0.0121250000000401, 0.000415624999\n",
              "999586, 7.04625000480519e-6, 4.72500003567689e-8])"
            ]
          },
          "metadata": {
            "tags": []
          },
          "execution_count": 565
        }
      ]
    },
    {
      "cell_type": "code",
      "metadata": {
        "id": "H9EU_7a8wrD6",
        "outputId": "3f3e85b2-af09-4c20-d6fb-99a52bf38ac4",
        "colab": {
          "base_uri": "https://localhost:8080/",
          "height": 314
        }
      },
      "source": [
        "# Goal: Plot the step response and impulse response of the system with the step disturbance and the impulse disturbance respectively.\n",
        "# Find the maximum and steady-state velocities of each response and find the percent overshoot of the step responses. \n",
        "\n",
        "tDss = ctrl.TransferFunction([0.773521468735898,38.9098348799126,-4.57820789237953,-254.438859947025,-1.63547661757553],[1,0.175000000000001,0.0121250000000401,0.000415624999999586,7.04625000480519*10**-6,4.72500003567689*10**-8])\n",
        "tDsi = ctrl.TransferFunction([0.00454545454545455,0.766210925788017,38.7439267699634,-4.39209813947646,-253.547698354452,-2.54407476470083],[1,0.175000000000001,0.0121250000000401,0.000415624999999586,7.04625000480519*10**-6,4.72500003567689*10**-8])\n",
        "tDis = ctrl.TransferFunction([0.768976014190444,38.9171454228605,-4.41229978243035,-254.624969699928,-2.52663821014936,0.908598147125295],[1,0.175000000000001,0.0121250000000401,0.000415624999999586,7.04625000480519*10**-6,4.72500003567689*10**-8,0])\n",
        "tDii = ctrl.TransferFunction([0.773521468735898,38.9098348799126,-4.57820789237953,-254.438859947025,-1.63547661757553],[1,0.175000000000001,0.0121250000000401,0.000415624999999586,7.04625000480519*10**-6,4.72500003567689*10**-8])\n",
        "\n",
        "tdss,ydss = step_response(tDss,np.linspace(0,800,1000))\n",
        "tdsi,ydsi = step_response(tDsi,np.linspace(0,800,1000))\n",
        "tdis,ydis = impulse_response(tDis,np.linspace(0,800,1000))\n",
        "tdii,ydii = impulse_response(tDii,np.linspace(0,800,1000))\n",
        "\n",
        "plt.plot(tdss,ydss/k_y,label='Step Response Hill')\n",
        "plt.plot(tdsi,ydsi/k_y,label='Step Response Wind')\n",
        "plt.plot(tdis,ydis/k_y,label='Impulse Response Hill')\n",
        "plt.plot(tdii,ydii/k_y,label='Impulse Response Wind')\n",
        "plt.title(\"Disturbances\")\n",
        "plt.xlabel(\"$t$\")\n",
        "plt.ylabel(\"$y$\")\n",
        "plt.legend()"
      ],
      "execution_count": null,
      "outputs": [
        {
          "output_type": "execute_result",
          "data": {
            "text/plain": [
              "<matplotlib.legend.Legend at 0x7f8a828286a0>"
            ]
          },
          "metadata": {
            "tags": []
          },
          "execution_count": 566
        },
        {
          "output_type": "display_data",
          "data": {
            "image/png": "[encoded data removed]",
            "text/plain": [
              "<Figure size 432x288 with 1 Axes>"
            ]
          },
          "metadata": {
            "tags": []
          }
        }
      ]
    },
    {
      "cell_type": "code",
      "metadata": {
        "id": "GuJXKd5GCfja",
        "outputId": "6807bebb-6a5b-44c0-e30f-00fbaf696480",
        "colab": {
          "base_uri": "https://localhost:8080/",
          "height": 289
        }
      },
      "source": [
        "print(\"Step Response Hill\\n Settling time = \", find_Ts(ydss/k_y, tdss, 1), \"\\n Overshoot = \", find_OS(ydss/k_y), \"\\n Settling response = \", find_avg(ydss/k_y), \"\\n Max response =\", max(ydss/k_y))\n",
        "print(\"Step Response Wind\\n Settling time = \", find_Ts(ydsi/k_y, tdsi, 1), \"\\n Overshoot = \", find_OS(ydsi/k_y), \"\\n Settling response = \", find_avg(ydsi/k_y), \"\\n Max response =\", max(ydsi/k_y))\n",
        "print(\"Impulse Response Hill\\n Settling response = \", find_avg(ydis/k_y), \"\\n Max response =\", max(ydis/k_y))\n",
        "print(\"Impulse Response Wind\\n Settling response = \", find_avg(ydii/k_y), \"\\n Max response =\", max(ydii/k_y))"
      ],
      "execution_count": null,
      "outputs": [
        {
          "output_type": "stream",
          "text": [
            "Step Response Hill\n",
            " Settling time =  361.1611611611612 \n",
            " Overshoot =  0.4620159705827137 \n",
            " Settling response =  5.127984715864094 \n",
            " Max response = 7.497195551497365\n",
            "Step Response Wind\n",
            " Settling time =  325.1251251251251 \n",
            " Overshoot =  0.15494875227877966 \n",
            " Settling response =  7.976793622471981 \n",
            " Max response = 9.212787841459342\n",
            "Impulse Response Hill\n",
            " Settling response =  -2.848811173152345 \n",
            " Max response = 0.040816757440559986\n",
            "Impulse Response Wind\n",
            " Settling response =  -2.2665444058435252e-06 \n",
            " Max response = 0.09833390708068089\n"
          ],
          "name": "stdout"
        }
      ]
    },
    {
      "cell_type": "code",
      "metadata": {
        "id": "kZ9TbaFSQKzK",
        "outputId": "df5a79f4-4449-4d39-ea31-1631210c2101",
        "colab": {
          "base_uri": "https://localhost:8080/",
          "height": 314
        }
      },
      "source": [
        "# Goal: Plot the nonlinear step response with the step disturbance and find the maximum and steady-state velocities of the response.\n",
        "\n",
        "var('dis')\n",
        "def ffn(x,t):\n",
        "  r = rfn(t)\n",
        "  dis = rfn(t)\n",
        "\n",
        "  # extract x1,x2,x3,x4,x5 from input\n",
        "  x1 = x[0]\n",
        "  x2 = x[1]\n",
        "  x3 = x[2]\n",
        "  x4 = x[3]\n",
        "  x5 = x[4]\n",
        "\n",
        "  # compute f(x,t)\n",
        "  Tau = 8663.6842673 * x4 + 5256.31517453 * x5 + 169.17472312 * r - 169.17472312 * x1 + dis\n",
        "  x1dot = (-23.625 * x1 + 8.4375 * Tau - 759.375 * x3**2 * np.sin(x2) - 4.5 * x3 * np.cos(x2) + 2483.15625 * np.sin(2*x2)) / (506.25 * np.sin(x2)**2 + 1856.25)\n",
        "  x2dot = x3\n",
        "  x3dot = (-15.75 * x1 * np.cos(x2) + 5.625 * Tau * np.cos(x2) - 253.125 * x3**2 * np.sin(2*x2) - 14 * x3 + 15450.75 * np.sin(x2)) / (506.25 * np.sin(x2)**2 + 1856.25)\n",
        "  x4dot = 0.61424537 * x4 + 30.56446366 * x5 + r - x1\n",
        "  x5dot = x4\n",
        "\n",
        "  # return derivatives.\n",
        "  return [x1dot,x2dot,x3dot,x4dot,x5dot]\n",
        "\n",
        "t = np.linspace(0,2000,10000)\n",
        "x_of_t = spi.odeint(ffn,(0,0,0,0,0),t)\n",
        "plt.figure()\n",
        "plt.plot(t,x_of_t[:,0])\n",
        "plt.title(\"Nonlinear Step Response with a Hill Disturbance\")\n",
        "plt.xlabel(\"$t$\")\n",
        "plt.ylabel(\"$y$\")\n",
        "plt.legend([\"y=x1\",\"x2\",\"x3\", \"x4\", \"x5\"])"
      ],
      "execution_count": null,
      "outputs": [
        {
          "output_type": "execute_result",
          "data": {
            "text/plain": [
              "<matplotlib.legend.Legend at 0x7f8a827a6828>"
            ]
          },
          "metadata": {
            "tags": []
          },
          "execution_count": 568
        },
        {
          "output_type": "display_data",
          "data": {
            "image/png": "[encoded data removed]",
            "text/plain": [
              "<Figure size 432x288 with 1 Axes>"
            ]
          },
          "metadata": {
            "tags": []
          }
        }
      ]
    },
    {
      "cell_type": "code",
      "metadata": {
        "id": "7MYmG7yLAiyb",
        "outputId": "59746aa9-a087-4116-e51d-45cf0e5253fe",
        "colab": {
          "base_uri": "https://localhost:8080/",
          "height": 85
        }
      },
      "source": [
        "print(\" Settling time = \", find_Ts(x_of_t[:,0], t, 1), \"\\n Overshoot = \", find_OS(x_of_t[:,0]), \"\\n Settling response = \", find_avg(x_of_t[:,0]), \"\\n Max response =\", max(x_of_t[:,0]))"
      ],
      "execution_count": null,
      "outputs": [
        {
          "output_type": "stream",
          "text": [
            " Settling time =  812.2812281228122 \n",
            " Overshoot =  0.0036267114955877296 \n",
            " Settling response =  5.109480539833 \n",
            " Max response = 5.128011151643294\n"
          ],
          "name": "stdout"
        }
      ]
    },
    {
      "cell_type": "code",
      "metadata": {
        "id": "-eKAaWlzRhgH",
        "outputId": "5045f1a5-c14d-47bc-a11f-1378d9274ee7",
        "colab": {
          "base_uri": "https://localhost:8080/",
          "height": 314
        }
      },
      "source": [
        "# Goal: Plot the nonlinear step response with the impulse disturbance and find the maximum and steady-state velocities of the response.\n",
        "\n",
        "def ffn(x,t):\n",
        "  r = rfn(t)\n",
        "  dis = aim(t)\n",
        "\n",
        "  # extract x1,x2,x3,x4,x5 from input\n",
        "  x1 = x[0]\n",
        "  x2 = x[1]\n",
        "  x3 = x[2]\n",
        "  x4 = x[3]\n",
        "  x5 = x[4]\n",
        "\n",
        "  # compute f(x,t)\n",
        "  Tau = 8663.6842673 * x4 + 5256.31517453 * x5 + 169.17472312 * r - 169.17472312 * x1  + dis\n",
        "  x1dot = (-23.625 * x1 + 8.4375 * Tau - 759.375 * x3**2 * np.sin(x2) - 4.5 * x3 * np.cos(x2) + 2483.15625 * np.sin(2*x2)) / (506.25 * np.sin(x2)**2 + 1856.25)\n",
        "  x2dot = x3\n",
        "  x3dot = (-15.75 * x1 * np.cos(x2) + 5.625 * Tau * np.cos(x2) - 253.125 * x3**2 * np.sin(2*x2) - 14 * x3 + 15450.75 * np.sin(x2)) / (506.25 * np.sin(x2)**2 + 1856.25)\n",
        "  x4dot = 0.61424537 * x4 + 30.56446366 * x5 + r - x1\n",
        "  x5dot = x4\n",
        "\n",
        "  # return derivatives.\n",
        "  return [x1dot,x2dot,x3dot,x4dot,x5dot]\n",
        "\n",
        "t = np.linspace(0,2000,10000)\n",
        "x_of_t = spi.odeint(ffn,(0,0,0,0,0),t)\n",
        "plt.figure()\n",
        "plt.plot(t,x_of_t[:,0])\n",
        "plt.title(\"Nonlinear Step Response with a Wind Disturbance\")\n",
        "plt.xlabel(\"$t$\")\n",
        "plt.ylabel(\"$y$\")\n",
        "plt.legend([\"y=x1\",\"x2\",\"x3\", \"x4\", \"x5\"])"
      ],
      "execution_count": null,
      "outputs": [
        {
          "output_type": "execute_result",
          "data": {
            "text/plain": [
              "<matplotlib.legend.Legend at 0x7f8a8275e358>"
            ]
          },
          "metadata": {
            "tags": []
          },
          "execution_count": 570
        },
        {
          "output_type": "display_data",
          "data": {
            "image/png": "[encoded data removed]",
            "text/plain": [
              "<Figure size 432x288 with 1 Axes>"
            ]
          },
          "metadata": {
            "tags": []
          }
        }
      ]
    },
    {
      "cell_type": "code",
      "metadata": {
        "id": "djrMw6N_AhkM",
        "outputId": "07792e84-a0b0-4f72-e0ce-1b84d506014f",
        "colab": {
          "base_uri": "https://localhost:8080/",
          "height": 85
        }
      },
      "source": [
        "print(\" Settling time = \", find_Ts(x_of_t[:,0], t, 1), \"\\n Overshoot = \", find_OS(x_of_t[:,0]), \"\\n Settling response = \", find_avg(x_of_t[:,0]), \"\\n Max response =\", max(x_of_t[:,0]))"
      ],
      "execution_count": null,
      "outputs": [
        {
          "output_type": "stream",
          "text": [
            " Settling time =  945.6945694569456 \n",
            " Overshoot =  0.0018299553392818711 \n",
            " Settling response =  7.9649764643048835 \n",
            " Max response = 7.979552015512993\n"
          ],
          "name": "stdout"
        }
      ]
    },
    {
      "cell_type": "code",
      "metadata": {
        "id": "3mdbz-NIQSJg",
        "outputId": "54617984-0b77-47ea-bd5f-63bf25d19735",
        "colab": {
          "base_uri": "https://localhost:8080/",
          "height": 314
        }
      },
      "source": [
        "# Goal: Plot the nonlinear impulse response with the step disturbance and find the maximum and steady-state velocities of the response.\n",
        "\n",
        "def ffn(x,t):\n",
        "  r = aim(t)\n",
        "  dis = rfn(t)\n",
        "\n",
        "  # extract x1,x2,x3,x4,x5 from input\n",
        "  x1 = x[0]\n",
        "  x2 = x[1]\n",
        "  x3 = x[2]\n",
        "  x4 = x[3]\n",
        "  x5 = x[4]\n",
        "\n",
        "  # compute f(x,t)\n",
        "  Tau = 8663.6842673 * x4 + 5256.31517453 * x5 + 169.17472312 * r - 169.17472312 * x1 + dis\n",
        "  x1dot = (-23.625 * x1 + 8.4375 * Tau - 759.375 * x3**2 * np.sin(x2) - 4.5 * x3 * np.cos(x2) + 2483.15625 * np.sin(2*x2)) / (506.25 * np.sin(x2)**2 + 1856.25)\n",
        "  x2dot = x3\n",
        "  x3dot = (-15.75 * x1 * np.cos(x2) + 5.625 * Tau * np.cos(x2) - 253.125 * x3**2 * np.sin(2*x2) - 14 * x3 + 15450.75 * np.sin(x2)) / (506.25 * np.sin(x2)**2 + 1856.25)\n",
        "  x4dot = 0.61424537 * x4 + 30.56446366 * x5 + r - x1\n",
        "  x5dot = x4\n",
        "\n",
        "  # return derivatives.\n",
        "  return [x1dot,x2dot,x3dot,x4dot,x5dot]\n",
        "\n",
        "t = np.linspace(0,2000,10000)\n",
        "x_of_t = spi.odeint(ffn,(0,0,0,0,0),t)\n",
        "plt.figure()\n",
        "plt.plot(t,x_of_t[:,0])\n",
        "plt.title(\"Nonlinear Impulse Response with a Hill Disturbance\")\n",
        "plt.xlabel(\"$t$\")\n",
        "plt.ylabel(\"$y$\")\n",
        "plt.legend([\"y=x1\",\"x2\",\"x3\", \"x4\", \"x5\"])"
      ],
      "execution_count": null,
      "outputs": [
        {
          "output_type": "execute_result",
          "data": {
            "text/plain": [
              "<matplotlib.legend.Legend at 0x7f8a826f7048>"
            ]
          },
          "metadata": {
            "tags": []
          },
          "execution_count": 572
        },
        {
          "output_type": "display_data",
          "data": {
            "image/png": "[encoded data removed]",
            "text/plain": [
              "<Figure size 432x288 with 1 Axes>"
            ]
          },
          "metadata": {
            "tags": []
          }
        }
      ]
    },
    {
      "cell_type": "code",
      "metadata": {
        "id": "oHkuY03hAZuA",
        "outputId": "66c80a8d-9879-4ef4-ca45-918f727e4c58",
        "colab": {
          "base_uri": "https://localhost:8080/",
          "height": 51
        }
      },
      "source": [
        "print(\" Settling response = \", find_avg(x_of_t[:,0]), \"\\n Max response =\", max(x_of_t[:,0]))"
      ],
      "execution_count": null,
      "outputs": [
        {
          "output_type": "stream",
          "text": [
            " Settling response =  -2.858164414584102 \n",
            " Max response = 0.01727240984724698\n"
          ],
          "name": "stdout"
        }
      ]
    },
    {
      "cell_type": "code",
      "metadata": {
        "id": "VRoHzhmJRwOB",
        "outputId": "f6f14c9d-b56b-45bf-f1eb-9fbe6fc3b7e0",
        "colab": {
          "base_uri": "https://localhost:8080/",
          "height": 314
        }
      },
      "source": [
        "# Goal: Plot the nonlinear impulse response with the impulse disturbance and find the maximum and steady-state velocities of the response.\n",
        "\n",
        "def ffn(x,t):\n",
        "  r = aim(t)\n",
        "  dis = aim(t)\n",
        "\n",
        "  # extract x1,x2,x3,x4,x5 from input\n",
        "  x1 = x[0]\n",
        "  x2 = x[1]\n",
        "  x3 = x[2]\n",
        "  x4 = x[3]\n",
        "  x5 = x[4]\n",
        "\n",
        "  # compute f(x,t)\n",
        "  Tau = 8663.6842673 * x4 + 5256.31517453 * x5 + 169.17472312 * r - 169.17472312 * x1 + dis\n",
        "  x1dot = (-23.625 * x1 + 8.4375 * Tau - 759.375 * x3**2 * np.sin(x2) - 4.5 * x3 * np.cos(x2) + 2483.15625 * np.sin(2*x2)) / (506.25 * np.sin(x2)**2 + 1856.25)\n",
        "  x2dot = x3\n",
        "  x3dot = (-15.75 * x1 * np.cos(x2) + 5.625 * Tau * np.cos(x2) - 253.125 * x3**2 * np.sin(2*x2) - 14 * x3 + 15450.75 * np.sin(x2)) / (506.25 * np.sin(x2)**2 + 1856.25)\n",
        "  x4dot = 0.61424537 * x4 + 30.56446366 * x5 + r - x1\n",
        "  x5dot = x4\n",
        "\n",
        "  # return derivatives.\n",
        "  return [x1dot,x2dot,x3dot,x4dot,x5dot]\n",
        "\n",
        "t = np.linspace(0,2000,10000)\n",
        "x_of_t = spi.odeint(ffn,(0,0,0,0,0),t)\n",
        "plt.figure()\n",
        "plt.plot(t,x_of_t[:,0])\n",
        "plt.title(\"Nonlinear Impulse Response with a Wind Disturbance\")\n",
        "plt.xlabel(\"$t$\")\n",
        "plt.ylabel(\"$y$\")\n",
        "plt.legend([\"y=x1\",\"x2\",\"x3\", \"x4\", \"x5\"])"
      ],
      "execution_count": null,
      "outputs": [
        {
          "output_type": "execute_result",
          "data": {
            "text/plain": [
              "<matplotlib.legend.Legend at 0x7f8a82641668>"
            ]
          },
          "metadata": {
            "tags": []
          },
          "execution_count": 574
        },
        {
          "output_type": "display_data",
          "data": {
            "image/png": "[encoded data removed]",
            "text/plain": [
              "<Figure size 432x288 with 1 Axes>"
            ]
          },
          "metadata": {
            "tags": []
          }
        }
      ]
    },
    {
      "cell_type": "code",
      "metadata": {
        "id": "FSCGjGgbAUnr",
        "outputId": "96f0d5e0-7368-4ea2-afa0-de2a16a6f4fe",
        "colab": {
          "base_uri": "https://localhost:8080/",
          "height": 34
        }
      },
      "source": [
        "print(\" Max response =\", max(x_of_t[:,0]))"
      ],
      "execution_count": null,
      "outputs": [
        {
          "output_type": "stream",
          "text": [
            " Max response = 0.0428566735789348\n"
          ],
          "name": "stdout"
        }
      ]
    },
    {
      "cell_type": "code",
      "metadata": {
        "id": "unDkr26DRwfD",
        "outputId": "47acc9ae-c85c-43d1-89b8-1191892ffe8b",
        "colab": {
          "base_uri": "https://localhost:8080/",
          "height": 46
        }
      },
      "source": [
        "# Part (b)\n",
        "# Goal: Find the transfer function of the plant in terms of the radius R.\n",
        "\n",
        "PhiGP = (s*eye(3)-A).inv()\n",
        "GP = C*PhiGP*B\n",
        "GP.simplify()\n",
        "GP = (GP.subs(M, 40).subs(m, 30).subs(ell, 0.75).subs(c, 0.7).subs(J, (0.75**2)*30).subs(gamma, 0.2).subs(g, 9.81))[0]\n",
        "GP"
      ],
      "execution_count": null,
      "outputs": [
        {
          "output_type": "display_data",
          "data": {
            "text/html": [
              "\n",
              "        <script src=\"https://www.gstatic.com/external_hosted/mathjax/latest/MathJax.js?config=TeX-AMS_HTML-full,Safe&delayStartupUntil=configured\"></script>\n",
              "        <script>\n",
              "          (() => {\n",
              "            const mathjax = window.MathJax;\n",
              "            mathjax.Hub.Config({\n",
              "            'tex2jax': {\n",
              "              'inlineMath': [['$', '$'], ['\\(', '\\)']],\n",
              "              'displayMath': [['$$', '$$'], ['\\[', '\\]']],\n",
              "              'processEscapes': true,\n",
              "              'processEnvironments': true,\n",
              "              'skipTags': ['script', 'noscript', 'style', 'textarea', 'code'],\n",
              "              'displayAlign': 'center',\n",
              "            },\n",
              "            'HTML-CSS': {\n",
              "              'styles': {'.MathJax_Display': {'margin': 0}},\n",
              "              'linebreaks': {'automatic': true},\n",
              "              // Disable to prevent OTF font loading, which aren't part of our\n",
              "              // distribution.\n",
              "              'imageFont': null,\n",
              "            },\n",
              "            'messageStyle': 'none'\n",
              "          });\n",
              "          mathjax.Hub.Configured();\n",
              "        })();\n",
              "        </script>\n",
              "        "
            ],
            "text/plain": [
              "<IPython.core.display.HTML object>"
            ]
          },
          "metadata": {
            "tags": []
          }
        },
        {
          "output_type": "execute_result",
          "data": {
            "text/latex": "$$\\frac{R \\left(33.75 s^{2} + 0.2 s - 220.725\\right)}{1856.25 s^{3} + 37.625 s^{2} - 15450.61 s - 154.5075}$$",
            "text/plain": [
              "          ⎛       2                  ⎞        \n",
              "        R⋅⎝33.75⋅s  + 0.2⋅s - 220.725⎠        \n",
              "──────────────────────────────────────────────\n",
              "         3           2                        \n",
              "1856.25⋅s  + 37.625⋅s  - 15450.61⋅s - 154.5075"
            ]
          },
          "metadata": {
            "tags": []
          },
          "execution_count": 576
        }
      ]
    },
    {
      "cell_type": "code",
      "metadata": {
        "id": "tGXzOXvczZXn",
        "outputId": "4d88220e-58b3-452d-d92c-5baf890d91e5",
        "colab": {
          "base_uri": "https://localhost:8080/",
          "height": 37
        }
      },
      "source": [
        "# Goal: Find the sensitivity of the plant to changes in the tire's radius R.\n",
        "\n",
        "SGR = ((GP.diff(R))*R / GP).simplify()\n",
        "SGR"
      ],
      "execution_count": null,
      "outputs": [
        {
          "output_type": "display_data",
          "data": {
            "text/html": [
              "\n",
              "        <script src=\"https://www.gstatic.com/external_hosted/mathjax/latest/MathJax.js?config=TeX-AMS_HTML-full,Safe&delayStartupUntil=configured\"></script>\n",
              "        <script>\n",
              "          (() => {\n",
              "            const mathjax = window.MathJax;\n",
              "            mathjax.Hub.Config({\n",
              "            'tex2jax': {\n",
              "              'inlineMath': [['$', '$'], ['\\(', '\\)']],\n",
              "              'displayMath': [['$$', '$$'], ['\\[', '\\]']],\n",
              "              'processEscapes': true,\n",
              "              'processEnvironments': true,\n",
              "              'skipTags': ['script', 'noscript', 'style', 'textarea', 'code'],\n",
              "              'displayAlign': 'center',\n",
              "            },\n",
              "            'HTML-CSS': {\n",
              "              'styles': {'.MathJax_Display': {'margin': 0}},\n",
              "              'linebreaks': {'automatic': true},\n",
              "              // Disable to prevent OTF font loading, which aren't part of our\n",
              "              // distribution.\n",
              "              'imageFont': null,\n",
              "            },\n",
              "            'messageStyle': 'none'\n",
              "          });\n",
              "          mathjax.Hub.Configured();\n",
              "        })();\n",
              "        </script>\n",
              "        "
            ],
            "text/plain": [
              "<IPython.core.display.HTML object>"
            ]
          },
          "metadata": {
            "tags": []
          }
        },
        {
          "output_type": "execute_result",
          "data": {
            "text/latex": "$$1$$",
            "text/plain": [
              "1"
            ]
          },
          "metadata": {
            "tags": []
          },
          "execution_count": 577
        }
      ]
    },
    {
      "cell_type": "code",
      "metadata": {
        "id": "aOktpJTSp4cf",
        "outputId": "083dd1c2-315d-46bf-ff94-756b6b3a4af1",
        "colab": {
          "base_uri": "https://localhost:8080/",
          "height": 56
        }
      },
      "source": [
        "# Goal: Find the transfer function of our closed loop system in terms of R. \n",
        "\n",
        "GcS = Gc.subs(soln)\n",
        "TS = ((GP*GcS) / (1+GP*GcS)).simplify()\n",
        "GcS,TS"
      ],
      "execution_count": null,
      "outputs": [
        {
          "output_type": "display_data",
          "data": {
            "text/html": [
              "\n",
              "        <script src=\"https://www.gstatic.com/external_hosted/mathjax/latest/MathJax.js?config=TeX-AMS_HTML-full,Safe&delayStartupUntil=configured\"></script>\n",
              "        <script>\n",
              "          (() => {\n",
              "            const mathjax = window.MathJax;\n",
              "            mathjax.Hub.Config({\n",
              "            'tex2jax': {\n",
              "              'inlineMath': [['$', '$'], ['\\(', '\\)']],\n",
              "              'displayMath': [['$$', '$$'], ['\\[', '\\]']],\n",
              "              'processEscapes': true,\n",
              "              'processEnvironments': true,\n",
              "              'skipTags': ['script', 'noscript', 'style', 'textarea', 'code'],\n",
              "              'displayAlign': 'center',\n",
              "            },\n",
              "            'HTML-CSS': {\n",
              "              'styles': {'.MathJax_Display': {'margin': 0}},\n",
              "              'linebreaks': {'automatic': true},\n",
              "              // Disable to prevent OTF font loading, which aren't part of our\n",
              "              // distribution.\n",
              "              'imageFont': null,\n",
              "            },\n",
              "            'messageStyle': 'none'\n",
              "          });\n",
              "          mathjax.Hub.Configured();\n",
              "        })();\n",
              "        </script>\n",
              "        "
            ],
            "text/plain": [
              "<IPython.core.display.HTML object>"
            ]
          },
          "metadata": {
            "tags": []
          }
        },
        {
          "output_type": "execute_result",
          "data": {
            "text/latex": "$$\\left ( \\frac{169.174723121897 s^{2} + 8559.76947615152 s + 85.5804966718933}{s^{2} - 0.614245374459803 s - 30.5644636647653}, \\quad \\frac{R \\left(33.75 s^{2} + 0.2 s - 220.725\\right) \\left(169.174723121897 s^{2} + 8559.76947615152 s + 85.5804966718933\\right)}{R \\left(33.75 s^{2} + 0.2 s - 220.725\\right) \\left(169.174723121897 s^{2} + 8559.76947615152 s + 85.5804966718933\\right) - \\left(- s^{2} + 0.614245374459803 s + 30.5644636647653\\right) \\left(1856.25 s^{3} + 37.625 s^{2} - 15450.61 s - 154.5075\\right)}\\right )$$",
            "text/plain": [
              "⎛                  2                                                          \n",
              "⎜169.174723121897⋅s  + 8559.76947615152⋅s + 85.5804966718933                  \n",
              "⎜───────────────────────────────────────────────────────────, ────────────────\n",
              "⎜         2                                                     ⎛       2     \n",
              "⎝        s  - 0.614245374459803⋅s - 30.5644636647653          R⋅⎝33.75⋅s  + 0.\n",
              "\n",
              "                                    ⎛       2                  ⎞ ⎛            \n",
              "                                  R⋅⎝33.75⋅s  + 0.2⋅s - 220.725⎠⋅⎝169.17472312\n",
              "──────────────────────────────────────────────────────────────────────────────\n",
              "             ⎞ ⎛                  2                                        ⎞  \n",
              "2⋅s - 220.725⎠⋅⎝169.174723121897⋅s  + 8559.76947615152⋅s + 85.5804966718933⎠ -\n",
              "\n",
              "      2                                        ⎞                              \n",
              "1897⋅s  + 8559.76947615152⋅s + 85.5804966718933⎠                              \n",
              "──────────────────────────────────────────────────────────────────────────────\n",
              " ⎛   2                                         ⎞ ⎛         3           2      \n",
              " ⎝- s  + 0.614245374459803⋅s + 30.5644636647653⎠⋅⎝1856.25⋅s  + 37.625⋅s  - 154\n",
              "\n",
              "                   ⎞\n",
              "                   ⎟\n",
              "───────────────────⎟\n",
              "                  ⎞⎟\n",
              "50.61⋅s - 154.5075⎠⎠"
            ]
          },
          "metadata": {
            "tags": []
          },
          "execution_count": 578
        }
      ]
    },
    {
      "cell_type": "code",
      "metadata": {
        "id": "TzVYThkfp-4t",
        "outputId": "e62a05c4-6b13-4532-bad9-5d00f80e4bda",
        "colab": {
          "base_uri": "https://localhost:8080/",
          "height": 47
        }
      },
      "source": [
        "# Goal: Find the sensitivity of the transfer function of our closed loop system to changes in the tire's radius R.\n",
        "\n",
        "STR = (TS.diff(R)*R / TS).simplify()\n",
        "STR"
      ],
      "execution_count": null,
      "outputs": [
        {
          "output_type": "display_data",
          "data": {
            "text/html": [
              "\n",
              "        <script src=\"https://www.gstatic.com/external_hosted/mathjax/latest/MathJax.js?config=TeX-AMS_HTML-full,Safe&delayStartupUntil=configured\"></script>\n",
              "        <script>\n",
              "          (() => {\n",
              "            const mathjax = window.MathJax;\n",
              "            mathjax.Hub.Config({\n",
              "            'tex2jax': {\n",
              "              'inlineMath': [['$', '$'], ['\\(', '\\)']],\n",
              "              'displayMath': [['$$', '$$'], ['\\[', '\\]']],\n",
              "              'processEscapes': true,\n",
              "              'processEnvironments': true,\n",
              "              'skipTags': ['script', 'noscript', 'style', 'textarea', 'code'],\n",
              "              'displayAlign': 'center',\n",
              "            },\n",
              "            'HTML-CSS': {\n",
              "              'styles': {'.MathJax_Display': {'margin': 0}},\n",
              "              'linebreaks': {'automatic': true},\n",
              "              // Disable to prevent OTF font loading, which aren't part of our\n",
              "              // distribution.\n",
              "              'imageFont': null,\n",
              "            },\n",
              "            'messageStyle': 'none'\n",
              "          });\n",
              "          mathjax.Hub.Configured();\n",
              "        })();\n",
              "        </script>\n",
              "        "
            ],
            "text/plain": [
              "<IPython.core.display.HTML object>"
            ]
          },
          "metadata": {
            "tags": []
          }
        },
        {
          "output_type": "execute_result",
          "data": {
            "text/latex": "$$- \\frac{\\left(- s^{2} + 0.614245374459803 s + 30.5644636647653\\right) \\left(1856.25 s^{3} + 37.625 s^{2} - 15450.61 s - 154.5075\\right)}{R \\left(33.75 s^{2} + 0.2 s - 220.725\\right) \\left(169.174723121897 s^{2} + 8559.76947615152 s + 85.5804966718933\\right) - \\left(- s^{2} + 0.614245374459803 s + 30.5644636647653\\right) \\left(1856.25 s^{3} + 37.625 s^{2} - 15450.61 s - 154.5075\\right)}$$",
            "text/plain": [
              "                                                ⎛   2                         \n",
              "                                               -⎝- s  + 0.614245374459803⋅s + \n",
              "──────────────────────────────────────────────────────────────────────────────\n",
              "  ⎛       2                  ⎞ ⎛                  2                           \n",
              "R⋅⎝33.75⋅s  + 0.2⋅s - 220.725⎠⋅⎝169.174723121897⋅s  + 8559.76947615152⋅s + 85.\n",
              "\n",
              "                ⎞ ⎛         3           2                        ⎞            \n",
              "30.5644636647653⎠⋅⎝1856.25⋅s  + 37.625⋅s  - 15450.61⋅s - 154.5075⎠            \n",
              "──────────────────────────────────────────────────────────────────────────────\n",
              "             ⎞   ⎛   2                                         ⎞ ⎛         3  \n",
              "5804966718933⎠ - ⎝- s  + 0.614245374459803⋅s + 30.5644636647653⎠⋅⎝1856.25⋅s  +\n",
              "\n",
              "                                   \n",
              "                                   \n",
              "───────────────────────────────────\n",
              "         2                        ⎞\n",
              " 37.625⋅s  - 15450.61⋅s - 154.5075⎠"
            ]
          },
          "metadata": {
            "tags": []
          },
          "execution_count": 579
        }
      ]
    },
    {
      "cell_type": "code",
      "metadata": {
        "id": "a5uxidPFqFPd",
        "outputId": "9e6f87bc-5b8b-4ac9-ceec-fdb46e1698cb",
        "colab": {
          "base_uri": "https://localhost:8080/",
          "height": 279
        }
      },
      "source": [
        "# Goal: Plot the sensitivity of the transfer function of our closed loop system to changes in the tire's radius R with varying frequency and radius.\n",
        "# Sensitivity is on the y axis and frequency is on the x axis.\n",
        "\n",
        "omegas = np.linspace(0,20,100)\n",
        "\n",
        "for r in (0,0.05,0.1,0.15,0.2):\n",
        "  STr = STR.subs(R,r).simplify()\n",
        "  y = [np.abs(N(STr.subs(s,omega*I))) for omega in omegas]\n",
        "  plt.plot(omegas, y,label=\"$R$ = %.2f\" % (r))\n",
        "plt.xlabel(\"$\\omega$\")\n",
        "plt.ylabel(\"$|S_R^T(i \\omega)|$\")\n",
        "plt.legend();"
      ],
      "execution_count": null,
      "outputs": [
        {
          "output_type": "display_data",
          "data": {
            "image/png": "[encoded data removed]",
            "text/plain": [
              "<Figure size 432x288 with 1 Axes>"
            ]
          },
          "metadata": {
            "tags": []
          }
        }
      ]
    },
    {
      "cell_type": "code",
      "metadata": {
        "id": "WWbviePaqIKX",
        "outputId": "85909bad-5d50-4bdd-9917-0eb1bf0979b2",
        "colab": {
          "base_uri": "https://localhost:8080/",
          "height": 280
        }
      },
      "source": [
        "# Goal: Plot the sensitivity of the transfer function of our closed loop system to changes in the tire's radius R with varying frequency and radius.\n",
        "# Sensitivity is on the y axis and radius is on the x axis.\n",
        "\n",
        "rs = np.linspace(0,0.25,100)\n",
        "\n",
        "for omega in (10,11,12,13,14):\n",
        "  STr = STR.subs(s,omega*I).simplify()\n",
        "  y = [np.abs(N(STr.subs(R,r))) for r in rs]\n",
        "  plt.plot(rs, y,label=\"$omega$ = %.2f\" % (omega))\n",
        "plt.xlabel(\"$r$\")\n",
        "plt.ylabel(\"$|S_R^T|$\")\n",
        "plt.legend();"
      ],
      "execution_count": null,
      "outputs": [
        {
          "output_type": "display_data",
          "data": {
            "image/png": "[encoded data removed]",
            "text/plain": [
              "<Figure size 432x288 with 1 Axes>"
            ]
          },
          "metadata": {
            "tags": []
          }
        }
      ]
    },
    {
      "cell_type": "markdown",
      "metadata": {
        "id": "v-0JqQ7NCKY9"
      },
      "source": [
        "## Task 6: Full State Feedback\n",
        "\n",
        "Determine whether the system is controllable. If it is, design a full state feedback controller to obtain the desired performance. Plot the impulse response of the controlled system\n",
        "with the linear model and the nonlinear model.  You may scale the impulse imput up or down if you feel it doesn't give a good characterization. \n",
        "\n",
        "You may use either pole placement or LQR (if we end up covering it in time).  If you pick pole placement make sure to explain your choice of poles.  If you pick LQR explain your method for picking weights even if it's just guess-and-check, where did you start and how did you adjust them to get what you wanted.  \n",
        "\n"
      ]
    },
    {
      "cell_type": "markdown",
      "metadata": {
        "id": "l6rX4PeCNj0j"
      },
      "source": [
        "## Controllability\n",
        "\n",
        "To determine if the system is controllable, we can find the controllability matrix $M$.\n",
        "\n",
        "$$M = [ B \\; AB \\; A^2 B]$$\n",
        "\n",
        "$$ M = \n",
        "\\begin{pmatrix}\n",
        "0.00455 & -6.520 \\cdot 10^{-5} & 0.008\\\\\n",
        "0 & 0.0030 & -6.142 \\cdot 10^{-5}\\\\\n",
        "0.0030 & -6.142 \\cdot 10^{-5} & 0.0252\\end{pmatrix}\n",
        "$$\n",
        "\n",
        "The rank of this matrix is $3$ which means matrix $M$ is full rank which tells us that the system is controllable.\n",
        "\n",
        "## Full State Feedback Controller\n",
        "\n",
        "When designing the FSFB controller, we first need to decide the poles. We picked the poles to be $-0.5, -0.6$, and $-0.7$. We picked these poles because they all need to be negative for the system to be stable. These poles are also further from the imaginary axis than the poles we used in the root locus design. This is because the poles further from the imaginary axis will give us a much faster system while remaining performant. We also avoided poles that were too far away from the imaginary axis because we wanted to keep overshoot to a minimum.\n",
        "\n",
        "Once we decided on the poles, we can use the `place` command to find the gain matrix $K$. We get that matrix $K$ is:\n",
        "\n",
        "$$\n",
        "K = \\begin{pmatrix} -9.86422018 & 3099.96279307 & 602.10744139 \\end{pmatrix}\n",
        "$$\n",
        "\n",
        "The system with a full state feedback controller can be defined as:\n",
        "\n",
        "$$\\dot x = (A-BK)x + Br$$\n",
        "$$y = Cx$$\n",
        "\n",
        "$$\n",
        "\\dot x = \n",
        "\\begin{pmatrix}\n",
        "0.0321 & -11.415 & -2.739\\\\\n",
        "0 & 0 & 1\\\\\n",
        "0.0214 & -1.070 & -1.832\n",
        "\\end{pmatrix} x\n",
        "+\n",
        "\\begin{pmatrix}\n",
        "0.0045 \\\\\n",
        "0 \\\\\n",
        "0.0030\n",
        "\\end{pmatrix} r\n",
        "$$\n",
        "$$y = \\begin{pmatrix} 1 & 0 & 0 \\end{pmatrix}$$\n",
        "\n",
        "## Linear Step and Impulse Response\n",
        "\n",
        "We can use the `odeint` function with the previous state space representation of our system to model a linear response to our system. The responses are plotted below. We can see that a full state feedback controller makes or system much more performant than the previous root locus controller. The inputs are scaled by $-56.5$ to give a more characteristic response. The linearized FSFB controller gives the step response a settling time of approximately $12.8 s$, a $0.0053\\%$ overshoot, and a settling response of $7.99$. An impulse input gives a max response of $1.310$.\n",
        "\n",
        "## Nonlinear Step and Impulse Response\n",
        "\n",
        "Rather than using the state space approximation for the plant, we can directly use the function equations to represent the nonlinear response to a step and impulse input. The plots of the step and impulse response are shown below. The inputs are again scaled by $-56.5$ to give a more characteristic response. The nonlinearized FSFB controller gives the step response a settling time of approximately $11.95 s$, a $0.0022\\%$ overshoot, and a settling response of $7.99$. An impulse input gives a max response of $1.319$. Since the linearized model is around the initial conditions of $\\dot p = 0, \\theta = 0, \\dot{\\theta} = 0$, deviations from these initial conditions will cause the nonlinear model to become unstable and not representative. For our full state feedback controller, we found the system to remain stable as long as all of the initial conditions are between $0.4$ and $-0.3$. Outside of this range of initial values, the nonlinear model shows a series of unstable sinusoids."
      ]
    },
    {
      "cell_type": "code",
      "metadata": {
        "id": "z-2xbw2F73_H",
        "outputId": "5e8bcda9-960e-4118-ab3c-1130b970c3af",
        "colab": {
          "base_uri": "https://localhost:8080/",
          "height": 78
        }
      },
      "source": [
        "#controllability\n",
        "\n",
        "def MatrixFromColumns(clist):\n",
        "    return Matrix(clist).reshape(\n",
        "        clist[0].shape[0], \n",
        "        len(clist)).transpose()\n",
        "\n",
        "# find the rank of the controllability matrix\n",
        "Mc = MatrixFromColumns([Beq, Aeq*Beq, Aeq**2*Beq])\n",
        "rankMc = Mc.rank()\n",
        "Mc, rankMc"
      ],
      "execution_count": null,
      "outputs": [
        {
          "output_type": "display_data",
          "data": {
            "text/html": [
              "\n",
              "        <script src=\"https://www.gstatic.com/external_hosted/mathjax/latest/MathJax.js?config=TeX-AMS_HTML-full,Safe&delayStartupUntil=configured\"></script>\n",
              "        <script>\n",
              "          (() => {\n",
              "            const mathjax = window.MathJax;\n",
              "            mathjax.Hub.Config({\n",
              "            'tex2jax': {\n",
              "              'inlineMath': [['$', '$'], ['\\(', '\\)']],\n",
              "              'displayMath': [['$$', '$$'], ['\\[', '\\]']],\n",
              "              'processEscapes': true,\n",
              "              'processEnvironments': true,\n",
              "              'skipTags': ['script', 'noscript', 'style', 'textarea', 'code'],\n",
              "              'displayAlign': 'center',\n",
              "            },\n",
              "            'HTML-CSS': {\n",
              "              'styles': {'.MathJax_Display': {'margin': 0}},\n",
              "              'linebreaks': {'automatic': true},\n",
              "              // Disable to prevent OTF font loading, which aren't part of our\n",
              "              // distribution.\n",
              "              'imageFont': null,\n",
              "            },\n",
              "            'messageStyle': 'none'\n",
              "          });\n",
              "          mathjax.Hub.Configured();\n",
              "        })();\n",
              "        </script>\n",
              "        "
            ],
            "text/plain": [
              "<IPython.core.display.HTML object>"
            ]
          },
          "metadata": {
            "tags": []
          }
        },
        {
          "output_type": "execute_result",
          "data": {
            "text/latex": "$$\\left ( \\left[\\begin{matrix}0.00454545454545455 & -6.51974288337925 \\cdot 10^{-5} & 0.00810841670454159\\\\0 & 0.00303030303030303 & -6.14223038465463 \\cdot 10^{-5}\\\\0.00303030303030303 & -6.14223038465463 \\cdot 10^{-5} & 0.0252241569385657\\end{matrix}\\right], \\quad 3\\right )$$",
            "text/plain": [
              "⎛⎡0.00454545454545455  -6.51974288337925e-5  0.00810841670454159 ⎤   ⎞\n",
              "⎜⎢                                                               ⎥   ⎟\n",
              "⎜⎢         0           0.00303030303030303   -6.14223038465463e-5⎥, 3⎟\n",
              "⎜⎢                                                               ⎥   ⎟\n",
              "⎝⎣0.00303030303030303  -6.14223038465463e-5   0.0252241569385657 ⎦   ⎠"
            ]
          },
          "metadata": {
            "tags": []
          },
          "execution_count": 582
        }
      ]
    },
    {
      "cell_type": "code",
      "metadata": {
        "id": "EzaB5SocjYI_",
        "outputId": "943e6130-a009-4731-c296-76877658376c",
        "colab": {
          "base_uri": "https://localhost:8080/",
          "height": 67
        }
      },
      "source": [
        "# Goal: solve the expressions for p double dot and theta double dot from the given two equations.\n",
        "# Rearrange the given two equations in terms of p double dot.\n",
        "pLn = (tau * R + m*ell*cos(theta)*thetaddot - c*pdot - m*ell*thetadot**2*sin(theta)) / (M + m)\n",
        "pRn = ((J + m*ell**2)*thetaddot + gamma*thetadot - m*g*ell*sin(theta)) / (m*ell*cos(theta))\n",
        "\n",
        "# Rearrange the given two equations in terms of theta double dot.\n",
        "tLn = ((M + m)*pddot + c*pdot + m*ell*thetadot**2*sin(theta)-tau*R)/(m*ell*cos(theta))\n",
        "tRn = (m*ell*cos(theta)*pddot - gamma*thetadot + m*g*ell*sin(theta)) / (J + m*ell**2)\n",
        "\n",
        "# Set the two equations in terms of p double dot equal to each other and use the \n",
        "# solve function to find the theta double dot. \n",
        "Tddotn = solve(pLn - pRn, thetaddot)\n",
        "\n",
        "# Set the two equations in terms of theta double dot equal to each other and use \n",
        "# the solve function to find the p double dot. \n",
        "Pddotn = solve(tLn - tRn, pddot)\n",
        "\n",
        "Pddotn, Tddotn"
      ],
      "execution_count": null,
      "outputs": [
        {
          "output_type": "display_data",
          "data": {
            "text/html": [
              "\n",
              "        <script src=\"https://www.gstatic.com/external_hosted/mathjax/latest/MathJax.js?config=TeX-AMS_HTML-full,Safe&delayStartupUntil=configured\"></script>\n",
              "        <script>\n",
              "          (() => {\n",
              "            const mathjax = window.MathJax;\n",
              "            mathjax.Hub.Config({\n",
              "            'tex2jax': {\n",
              "              'inlineMath': [['$', '$'], ['\\(', '\\)']],\n",
              "              'displayMath': [['$$', '$$'], ['\\[', '\\]']],\n",
              "              'processEscapes': true,\n",
              "              'processEnvironments': true,\n",
              "              'skipTags': ['script', 'noscript', 'style', 'textarea', 'code'],\n",
              "              'displayAlign': 'center',\n",
              "            },\n",
              "            'HTML-CSS': {\n",
              "              'styles': {'.MathJax_Display': {'margin': 0}},\n",
              "              'linebreaks': {'automatic': true},\n",
              "              // Disable to prevent OTF font loading, which aren't part of our\n",
              "              // distribution.\n",
              "              'imageFont': null,\n",
              "            },\n",
              "            'messageStyle': 'none'\n",
              "          });\n",
              "          mathjax.Hub.Configured();\n",
              "        })();\n",
              "        </script>\n",
              "        "
            ],
            "text/plain": [
              "<IPython.core.display.HTML object>"
            ]
          },
          "metadata": {
            "tags": []
          }
        },
        {
          "output_type": "execute_result",
          "data": {
            "text/latex": "$$\\left ( \\left [ \\frac{1}{J M + J m + M \\ell^{2} m + \\ell^{2} m^{2} \\sin^{2}{\\left (\\theta \\right )}} \\left(J R \\tau - J c \\dot{p} - J \\ell m \\dot{\\theta}^{2} \\sin{\\left (\\theta \\right )} + R \\ell^{2} m \\tau - c \\ell^{2} m \\dot{p} - \\ell^{3} m^{2} \\dot{\\theta}^{2} \\sin{\\left (\\theta \\right )} + \\frac{\\ell^{2} g}{2} m^{2} \\sin{\\left (2 \\theta \\right )} - \\ell \\gamma m \\dot{\\theta} \\cos{\\left (\\theta \\right )}\\right)\\right ], \\quad \\left [ \\frac{1}{J M + J m + M \\ell^{2} m + \\ell^{2} m^{2} \\sin^{2}{\\left (\\theta \\right )}} \\left(M \\ell g m \\sin{\\left (\\theta \\right )} - M \\gamma \\dot{\\theta} + R \\ell m \\tau \\cos{\\left (\\theta \\right )} - c \\ell m \\dot{p} \\cos{\\left (\\theta \\right )} - \\frac{\\ell^{2} m^{2}}{2} \\dot{\\theta}^{2} \\sin{\\left (2 \\theta \\right )} + \\ell g m^{2} \\sin{\\left (\\theta \\right )} - \\gamma m \\dot{\\theta}\\right)\\right ]\\right )$$",
            "text/plain": [
              "⎛⎡                                                                            \n",
              "⎜⎢                           2               2            2           3  2   2\n",
              "⎜⎢J⋅R⋅τ - J⋅c⋅ṗ - J⋅ell⋅m⋅θ̇ ⋅sin(θ) + R⋅ell ⋅m⋅τ - c⋅ell ⋅m⋅ṗ - ell ⋅m ⋅θ̇ \n",
              "⎜⎢                                                                            \n",
              "⎜⎢────────────────────────────────────────────────────────────────────────────\n",
              "⎜⎢                                                            2        2  2   \n",
              "⎝⎣                                           J⋅M + J⋅m + M⋅ell ⋅m + ell ⋅m ⋅si\n",
              "\n",
              "             2    2                             ⎤  ⎡                          \n",
              "          ell ⋅g⋅m ⋅sin(2⋅θ)                    ⎥  ⎢                          \n",
              "⋅sin(θ) + ────────────────── - ell⋅γ⋅m⋅θ̇⋅cos(θ)⎥  ⎢M⋅ell⋅g⋅m⋅sin(θ) - M⋅γ⋅θ̇ \n",
              "                  2                             ⎥  ⎢                          \n",
              "────────────────────────────────────────────────⎥, ⎢──────────────────────────\n",
              " 2                                              ⎥  ⎢                          \n",
              "n (θ)                                           ⎦  ⎣                          \n",
              "\n",
              "                                            2  2   2                          \n",
              "                                         ell ⋅m ⋅θ̇ ⋅sin(2⋅θ)          2      \n",
              "+ R⋅ell⋅m⋅τ⋅cos(θ) - c⋅ell⋅m⋅ṗ⋅cos(θ) - ──────────────────── + ell⋅g⋅m ⋅sin(θ\n",
              "                                                  2                           \n",
              "──────────────────────────────────────────────────────────────────────────────\n",
              "                             2        2  2    2                               \n",
              "            J⋅M + J⋅m + M⋅ell ⋅m + ell ⋅m ⋅sin (θ)                            \n",
              "\n",
              "          ⎤⎞\n",
              "          ⎥⎟\n",
              ") - γ⋅m⋅θ̇⎥⎟\n",
              "          ⎥⎟\n",
              "──────────⎥⎟\n",
              "          ⎥⎟\n",
              "          ⎦⎠"
            ]
          },
          "metadata": {
            "tags": []
          },
          "execution_count": 583
        }
      ]
    },
    {
      "cell_type": "code",
      "metadata": {
        "id": "HtSlkgsOmTDa",
        "outputId": "485c5e73-c1e9-46ef-b87c-8cd45379c194",
        "colab": {
          "base_uri": "https://localhost:8080/",
          "height": 67
        }
      },
      "source": [
        "# Goal: substitute the values of the given parameters in the equations for p double dot and theta double dot.\n",
        "\n",
        "P_ddotn = Pddotn[0].subs(M, 40).subs(m, 30).subs(ell, 0.75).subs(c, 0.7).subs(R, 0.25).subs(J, (0.75**2)*30).subs(gamma, 0.2).subs(g, 9.81)\n",
        "T_ddotn = Tddotn[0].subs(M, 40).subs(m, 30).subs(ell, 0.75).subs(c, 0.7).subs(R, 0.25).subs(J, (0.75**2)*30).subs(gamma, 0.2).subs(g, 9.81)\n",
        "P_ddotn, T_ddotn"
      ],
      "execution_count": null,
      "outputs": [
        {
          "output_type": "display_data",
          "data": {
            "text/html": [
              "\n",
              "        <script src=\"https://www.gstatic.com/external_hosted/mathjax/latest/MathJax.js?config=TeX-AMS_HTML-full,Safe&delayStartupUntil=configured\"></script>\n",
              "        <script>\n",
              "          (() => {\n",
              "            const mathjax = window.MathJax;\n",
              "            mathjax.Hub.Config({\n",
              "            'tex2jax': {\n",
              "              'inlineMath': [['$', '$'], ['\\(', '\\)']],\n",
              "              'displayMath': [['$$', '$$'], ['\\[', '\\]']],\n",
              "              'processEscapes': true,\n",
              "              'processEnvironments': true,\n",
              "              'skipTags': ['script', 'noscript', 'style', 'textarea', 'code'],\n",
              "              'displayAlign': 'center',\n",
              "            },\n",
              "            'HTML-CSS': {\n",
              "              'styles': {'.MathJax_Display': {'margin': 0}},\n",
              "              'linebreaks': {'automatic': true},\n",
              "              // Disable to prevent OTF font loading, which aren't part of our\n",
              "              // distribution.\n",
              "              'imageFont': null,\n",
              "            },\n",
              "            'messageStyle': 'none'\n",
              "          });\n",
              "          mathjax.Hub.Configured();\n",
              "        })();\n",
              "        </script>\n",
              "        "
            ],
            "text/plain": [
              "<IPython.core.display.HTML object>"
            ]
          },
          "metadata": {
            "tags": []
          }
        },
        {
          "output_type": "execute_result",
          "data": {
            "text/latex": "$$\\left ( \\frac{1}{506.25 \\sin^{2}{\\left (\\theta \\right )} + 1856.25} \\left(- 23.625 \\dot{p} + 8.4375 \\tau - 759.375 \\dot{\\theta}^{2} \\sin{\\left (\\theta \\right )} - 4.5 \\dot{\\theta} \\cos{\\left (\\theta \\right )} + 2483.15625 \\sin{\\left (2 \\theta \\right )}\\right), \\quad \\frac{1}{506.25 \\sin^{2}{\\left (\\theta \\right )} + 1856.25} \\left(- 15.75 \\dot{p} \\cos{\\left (\\theta \\right )} + 5.625 \\tau \\cos{\\left (\\theta \\right )} - 253.125 \\dot{\\theta}^{2} \\sin{\\left (2 \\theta \\right )} - 14.0 \\dot{\\theta} + 15450.75 \\sin{\\left (\\theta \\right )}\\right)\\right )$$",
            "text/plain": [
              "⎛                                  2                                          \n",
              "⎜-23.625⋅ṗ + 8.4375⋅τ - 759.375⋅θ̇ ⋅sin(θ) - 4.5⋅θ̇⋅cos(θ) + 2483.15625⋅sin(2\n",
              "⎜─────────────────────────────────────────────────────────────────────────────\n",
              "⎜                                      2                                      \n",
              "⎝                            506.25⋅sin (θ) + 1856.25                         \n",
              "\n",
              "                                                   2                          \n",
              "⋅θ)  -15.75⋅ṗ⋅cos(θ) + 5.625⋅τ⋅cos(θ) - 253.125⋅θ̇ ⋅sin(2⋅θ) - 14.0⋅θ̇ + 1545\n",
              "───, ─────────────────────────────────────────────────────────────────────────\n",
              "                                             2                                \n",
              "                                   506.25⋅sin (θ) + 1856.25                   \n",
              "\n",
              "           ⎞\n",
              "0.75⋅sin(θ)⎟\n",
              "───────────⎟\n",
              "           ⎟\n",
              "           ⎠"
            ]
          },
          "metadata": {
            "tags": []
          },
          "execution_count": 584
        }
      ]
    },
    {
      "cell_type": "code",
      "metadata": {
        "id": "HHSxUZJ38CkW",
        "outputId": "de6ca927-2e62-4266-f9e2-a95e79dca34f",
        "colab": {
          "base_uri": "https://localhost:8080/",
          "height": 34
        }
      },
      "source": [
        "f = Matrix([[P_ddotn],[thetadot],[T_ddotn]])\n",
        "An = np.array(Aeq).astype(np.float64)\n",
        "Bn = np.array(Beq).astype(np.float64)\n",
        "Cn = np.array(C).astype(np.float64)\n",
        "\n",
        "#poles for controller\n",
        "Cp1 = -0.5\n",
        "Cp2 = -0.6\n",
        "Cp3 = -0.7\n",
        "\n",
        "K = np.array(place(An, Bn, [Cp1, Cp2, Cp3]))\n",
        "K"
      ],
      "execution_count": null,
      "outputs": [
        {
          "output_type": "execute_result",
          "data": {
            "text/plain": [
              "array([[  -9.86422018, 3099.96279307,  602.10744139]])"
            ]
          },
          "metadata": {
            "tags": []
          },
          "execution_count": 585
        }
      ]
    },
    {
      "cell_type": "code",
      "metadata": {
        "id": "UX5GXc7y8h4j",
        "outputId": "dce86f7a-623d-4107-9da2-b67d54fae772",
        "colab": {
          "base_uri": "https://localhost:8080/",
          "height": 78
        }
      },
      "source": [
        "Ahat = Aeq-Beq*K\n",
        "Ahat"
      ],
      "execution_count": null,
      "outputs": [
        {
          "output_type": "display_data",
          "data": {
            "text/html": [
              "\n",
              "        <script src=\"https://www.gstatic.com/external_hosted/mathjax/latest/MathJax.js?config=TeX-AMS_HTML-full,Safe&delayStartupUntil=configured\"></script>\n",
              "        <script>\n",
              "          (() => {\n",
              "            const mathjax = window.MathJax;\n",
              "            mathjax.Hub.Config({\n",
              "            'tex2jax': {\n",
              "              'inlineMath': [['$', '$'], ['\\(', '\\)']],\n",
              "              'displayMath': [['$$', '$$'], ['\\[', '\\]']],\n",
              "              'processEscapes': true,\n",
              "              'processEnvironments': true,\n",
              "              'skipTags': ['script', 'noscript', 'style', 'textarea', 'code'],\n",
              "              'displayAlign': 'center',\n",
              "            },\n",
              "            'HTML-CSS': {\n",
              "              'styles': {'.MathJax_Display': {'margin': 0}},\n",
              "              'linebreaks': {'automatic': true},\n",
              "              // Disable to prevent OTF font loading, which aren't part of our\n",
              "              // distribution.\n",
              "              'imageFont': null,\n",
              "            },\n",
              "            'messageStyle': 'none'\n",
              "          });\n",
              "          mathjax.Hub.Configured();\n",
              "        })();\n",
              "        </script>\n",
              "        "
            ],
            "text/plain": [
              "<IPython.core.display.HTML object>"
            ]
          },
          "metadata": {
            "tags": []
          }
        },
        {
          "output_type": "execute_result",
          "data": {
            "text/latex": "$$\\left[\\begin{matrix}0.0321100917431408 & -11.4152854230385 & -2.7392762487265\\\\0 & 0 & 1\\\\0.0214067278287605 & -1.07019028202565 & -1.83211009174359\\end{matrix}\\right]$$",
            "text/plain": [
              "⎡0.0321100917431408  -11.4152854230385  -2.7392762487265 ⎤\n",
              "⎢                                                        ⎥\n",
              "⎢        0                   0                  1        ⎥\n",
              "⎢                                                        ⎥\n",
              "⎣0.0214067278287605  -1.07019028202565  -1.83211009174359⎦"
            ]
          },
          "metadata": {
            "tags": []
          },
          "execution_count": 586
        }
      ]
    },
    {
      "cell_type": "code",
      "metadata": {
        "id": "gnO3NpOnxQUt",
        "outputId": "f1a08b36-a1b8-4b95-bc07-f4306691a362",
        "colab": {
          "base_uri": "https://localhost:8080/",
          "height": 312
        }
      },
      "source": [
        "# Goal: Plot the linear step response\n",
        "def step_fn(t):\n",
        "  if t >= 0:\n",
        "    return 1 * -56.5\n",
        "  else:\n",
        "    return 0\n",
        "\n",
        "def ffn(x,t):\n",
        "  #extract plant dynamics and make it a column \n",
        "  x = np.array([np.array(x[:3])]).transpose()\n",
        "\n",
        "  #compute r\n",
        "  r = step_fn(t)\n",
        "\n",
        "  #compute f(x,t) from linearized state space\n",
        "  u = (r-K@x).item()\n",
        "  y = (Cn@x).item()\n",
        "  xdot = (An@x+Bn*u).flatten()\n",
        "\n",
        "  #return derivatives. \n",
        "  return [xdot[0],xdot[1],xdot[2]]\n",
        " \n",
        "#plot the response\n",
        "t = np.linspace(0,30,1000) \n",
        "x_of_t = spi.odeint(ffn,[0,0,0],t) # initial values\n",
        "plt.figure()\n",
        "plt.plot(t,x_of_t)\n",
        "plt.legend([\"y=x1\",\"x2\",\"x3\"])\n",
        "plt.xlabel(\"t\")\n",
        "plt.title(\"Linear Step Response\")"
      ],
      "execution_count": null,
      "outputs": [
        {
          "output_type": "execute_result",
          "data": {
            "text/plain": [
              "Text(0.5, 1.0, 'Linear Step Response')"
            ]
          },
          "metadata": {
            "tags": []
          },
          "execution_count": 587
        },
        {
          "output_type": "display_data",
          "data": {
            "image/png": "[encoded data removed]",
            "text/plain": [
              "<Figure size 432x288 with 1 Axes>"
            ]
          },
          "metadata": {
            "tags": []
          }
        }
      ]
    },
    {
      "cell_type": "code",
      "metadata": {
        "id": "3N9UeOW6AQz_",
        "outputId": "fab3f0ed-e050-4e41-b8e4-3c9eaa104ffa",
        "colab": {
          "base_uri": "https://localhost:8080/",
          "height": 85
        }
      },
      "source": [
        "print(\" Settling time = \", find_Ts(x_of_t[:,0], t, 1), \"\\n Overshoot = \", find_OS(x_of_t[:,0]), \"\\n Settling response = \", find_avg(x_of_t[:,0]), \"\\n Max response =\", max(x_of_t[:,0]))"
      ],
      "execution_count": null,
      "outputs": [
        {
          "output_type": "stream",
          "text": [
            " Settling time =  12.792792792792792 \n",
            " Overshoot =  5.2898995157395373e-05 \n",
            " Settling response =  7.99758338933246 \n",
            " Max response = 7.998006453457443\n"
          ],
          "name": "stdout"
        }
      ]
    },
    {
      "cell_type": "code",
      "metadata": {
        "id": "b1EWWqzQx2yO",
        "outputId": "129b2c27-5c17-4a3f-e2db-4d10c2c2ceb8",
        "colab": {
          "base_uri": "https://localhost:8080/",
          "height": 312
        }
      },
      "source": [
        "# Goal: Plot the linear impulse response\n",
        "def approx_impulse(t):\n",
        "    dt = 0.1\n",
        "    if (t >= 0 and t < dt):\n",
        "      return 1/dt * -56.5\n",
        "    else:\n",
        "      return 0\n",
        "\n",
        "def ffn(x,t ):\n",
        "  #extract plant dynamics and make it a column\n",
        "  x = np.array([np.array(x[:3])]).transpose()\n",
        "\n",
        "  #compute r\n",
        "  r = approx_impulse(t)\n",
        "\n",
        "  #compute f(x,t) from linearized state space\n",
        "  u = (r-K@x).item()\n",
        "  y = (Cn@x).item()\n",
        "  xdot = (An@x+Bn*u).flatten()\n",
        "\n",
        "  #return derivatives.\n",
        "  return [xdot[0],xdot[1],xdot[2]]\n",
        " \n",
        "#plot the response\n",
        "t = np.linspace(0,30,1000) \n",
        "x_of_t = spi.odeint(ffn,[0,0,0],t) #initial values\n",
        "plt.figure()\n",
        "plt.plot(t,x_of_t)\n",
        "plt.legend([\"y=x1\",\"x2\",\"x3\"])\n",
        "plt.xlabel(\"t\")\n",
        "plt.title(\"Linear Impulse Response\")"
      ],
      "execution_count": null,
      "outputs": [
        {
          "output_type": "execute_result",
          "data": {
            "text/plain": [
              "Text(0.5, 1.0, 'Linear Impulse Response')"
            ]
          },
          "metadata": {
            "tags": []
          },
          "execution_count": 589
        },
        {
          "output_type": "display_data",
          "data": {
            "image/png": "[encoded data removed]",
            "text/plain": [
              "<Figure size 432x288 with 1 Axes>"
            ]
          },
          "metadata": {
            "tags": []
          }
        }
      ]
    },
    {
      "cell_type": "code",
      "metadata": {
        "id": "YCAcGLClAPCZ",
        "outputId": "0d43f2b9-1ba2-4752-ff11-c0113a85b84c",
        "colab": {
          "base_uri": "https://localhost:8080/",
          "height": 34
        }
      },
      "source": [
        "print(\" Max response =\", max(x_of_t[:,0]))"
      ],
      "execution_count": null,
      "outputs": [
        {
          "output_type": "stream",
          "text": [
            " Max response = 1.3095764110496544\n"
          ],
          "name": "stdout"
        }
      ]
    },
    {
      "cell_type": "code",
      "metadata": {
        "id": "mpKooqp-yAVa",
        "outputId": "2fc79695-631b-44bc-b41b-b1b720b4ba46",
        "colab": {
          "base_uri": "https://localhost:8080/",
          "height": 312
        }
      },
      "source": [
        "# Goal: Plot the nonlinear step response\n",
        "def step_fn(t):\n",
        "  if t >= 0:\n",
        "    return 1 * -56.5\n",
        "  else:\n",
        "    return 0\n",
        "\n",
        "#make our nonlinear \"f(x1,x2,x3,u)\" into a function that evaluates to numbers\n",
        "fp = lambdify([pdot, theta, thetadot, tau],f,\"numpy\")\n",
        "\n",
        "def ffn(x,t):\n",
        "  #extract plant dynamics and make it a column\n",
        "  pdot,theta,thetadot = x[:3]\n",
        " \n",
        "  #compute r\n",
        "  r = step_fn(t)\n",
        "\n",
        "  #compute fp(x,u) from nonlinear functions\n",
        "  u = (r-K@x).item()\n",
        "  y = pdot\n",
        "  xdot = fp(pdot,theta,thetadot,u).flatten()\n",
        "  \n",
        "  #return derivatives\n",
        "  return [xdot[0],xdot[1],xdot[2]]\n",
        "\n",
        "#plot response\n",
        "t = np.linspace(0,30,1000) \n",
        "x_of_t = spi.odeint(ffn,[0,0,0],t) # initial values\n",
        "plt.figure()\n",
        "plt.plot(t,x_of_t)\n",
        "plt.legend([\"y=x1\",\"x2\",\"x3\"])\n",
        "plt.xlabel(\"time\") ;\n",
        "plt.title(\"Nonlinear Step Response\")"
      ],
      "execution_count": null,
      "outputs": [
        {
          "output_type": "execute_result",
          "data": {
            "text/plain": [
              "Text(0.5, 1.0, 'Nonlinear Step Response')"
            ]
          },
          "metadata": {
            "tags": []
          },
          "execution_count": 591
        },
        {
          "output_type": "display_data",
          "data": {
            "image/png": "[encoded data removed]",
            "text/plain": [
              "<Figure size 432x288 with 1 Axes>"
            ]
          },
          "metadata": {
            "tags": []
          }
        }
      ]
    },
    {
      "cell_type": "code",
      "metadata": {
        "id": "aZmFJjBhANzo",
        "outputId": "f6846f0b-b9ba-4c33-d53a-7495c92f9437",
        "colab": {
          "base_uri": "https://localhost:8080/",
          "height": 85
        }
      },
      "source": [
        "print(\" Settling time = \", find_Ts(x_of_t[:,0], t, 1), \"\\n Overshoot = \", find_OS(x_of_t[:,0]), \"\\n Settling response = \", find_avg(x_of_t[:,0]), \"\\n Max response =\", max(x_of_t[:,0]))"
      ],
      "execution_count": null,
      "outputs": [
        {
          "output_type": "stream",
          "text": [
            " Settling time =  11.951951951951951 \n",
            " Overshoot =  2.1884899899236623e-05 \n",
            " Settling response =  7.997860568581933 \n",
            " Max response = 7.998035600959884\n"
          ],
          "name": "stdout"
        }
      ]
    },
    {
      "cell_type": "code",
      "metadata": {
        "id": "OSHF9LoCyBuY",
        "outputId": "ffd92bd7-3af2-4656-aa61-cbc8734c38f0",
        "colab": {
          "base_uri": "https://localhost:8080/",
          "height": 312
        }
      },
      "source": [
        "# Goal: Plot the nonlinear impulse response\n",
        "def approx_impulse(t):\n",
        "    dt = 0.1\n",
        "    if (t >= 0 and t < dt):\n",
        "      return 1/dt * -56.5\n",
        "    else:\n",
        "      return 0\n",
        "\n",
        "#make our nonlinear \"f(x1,x2,x3,u)\" into a function that evaluates to numbers\n",
        "fp = lambdify([pdot, theta, thetadot, tau],f,\"numpy\")\n",
        "\n",
        "def ffn(x,t):\n",
        "  #extract plant dynamics and make it a column\n",
        "  pdot,theta,thetadot = x[:3] \n",
        " \n",
        "  #compute r\n",
        "  r = approx_impulse(t)\n",
        "\n",
        "  #compute fp(x,u) from nonlinear functions\n",
        "  u = (r-K@x).item()\n",
        "  y = pdot\n",
        "  yhat = (Cn@x).item()\n",
        "  xdot = fp(pdot,theta,thetadot,u).flatten()\n",
        "  \n",
        "  #return derivatives\n",
        "  return [xdot[0],xdot[1],xdot[2]]\n",
        "\n",
        "#plot response\n",
        "t = np.linspace(0,30,1000) \n",
        "x_of_t = spi.odeint(ffn,[0,0,0],t) #start at x=(0,0,0,0,0,0)^T\n",
        "plt.figure()\n",
        "plt.plot(t,x_of_t)\n",
        "plt.legend([\"y=x1\",\"x2\",\"x3\"])\n",
        "plt.xlabel(\"t\") ;\n",
        "plt.title(\"Nonlinear Impulse Response\")"
      ],
      "execution_count": null,
      "outputs": [
        {
          "output_type": "execute_result",
          "data": {
            "text/plain": [
              "Text(0.5, 1.0, 'Nonlinear Impulse Response')"
            ]
          },
          "metadata": {
            "tags": []
          },
          "execution_count": 593
        },
        {
          "output_type": "display_data",
          "data": {
            "image/png": "[encoded data removed]",
            "text/plain": [
              "<Figure size 432x288 with 1 Axes>"
            ]
          },
          "metadata": {
            "tags": []
          }
        }
      ]
    },
    {
      "cell_type": "code",
      "metadata": {
        "id": "kZX12jYHALU4",
        "outputId": "a751b025-e291-4b15-82cb-4a6ce061974a",
        "colab": {
          "base_uri": "https://localhost:8080/",
          "height": 34
        }
      },
      "source": [
        "print(\" Max response =\", max(x_of_t[:,0]))"
      ],
      "execution_count": null,
      "outputs": [
        {
          "output_type": "stream",
          "text": [
            " Max response = 1.3193090514929904\n"
          ],
          "name": "stdout"
        }
      ]
    },
    {
      "cell_type": "markdown",
      "metadata": {
        "id": "BoT80qsiCKY-"
      },
      "source": [
        "## Task 7: Observer Design\n",
        "\n",
        "a) While angle and angular velocity sensors exist, they do cost money.  Rather than paying for additional sensors, determine whether the system is observable (it is). If it is,\n",
        "design an observer for the system. Explain your choice of observer gains.\n",
        "\n",
        "b) Using your full state controller and the observer, plot the impulse response using the\n",
        "linear and the nonlinear model.  "
      ]
    },
    {
      "cell_type": "markdown",
      "metadata": {
        "id": "LOVAFm7ENqD9"
      },
      "source": [
        "## Observability\n",
        "\n",
        "To determine if the system is observable, we can find the observability matrix $O$.\n",
        "\n",
        "$$\n",
        "\\mathcal{O} = \\begin{pmatrix}\n",
        "C \\\\\n",
        "CA \\\\\n",
        "C A^2\n",
        "\\end{pmatrix}\n",
        "$$\n",
        "\n",
        "$$\n",
        "\\mathcal{O} = \n",
        "\\begin{pmatrix}1 & 0 & 0 \\\\\n",
        "-0.0127 & 2.675 & -0.00242 \\\\\n",
        "0.000183 & -0.0542 & 2.676\n",
        "\\end{pmatrix}\n",
        "$$\n",
        "\n",
        "The rank of this matrix is $3$ which tells us that the system is observable.\n",
        "\n",
        "## Full State Feedback Controller with Observer\n",
        "\n",
        "We can further develop our FSFB controller by adding an observer. We will use the same matrix $K$ from task 6. When building matrix $L$ for the observer, we picked poles at $-3, -4$, and $-5$. The poles picked as such because they need to be about five times larger than the dominant poles of the plant for the system to respond quickly, but without much overshoot. Using the `place` function, we can find Matrix $L$.\n",
        "\n",
        "$$\n",
        "L = \\begin{pmatrix}\n",
        "5.980 \\\\\n",
        "7.225 \\\\\n",
        "20.877 \\\\\n",
        "\\end{pmatrix}\n",
        "$$\n",
        "\n",
        "We can then find the full system state space representation to be:\n",
        "\n",
        "$$\\begin{align}\n",
        "\\begin{pmatrix}\n",
        "\\dot{x} \\\\\n",
        "\\dot{\\hat{x}}\n",
        "\\end{pmatrix} & = \n",
        "\\begin{pmatrix}\n",
        "A & -BK \\\\\n",
        "LC & A - BK - LC\n",
        "\\end{pmatrix} \\begin{pmatrix}\n",
        "x \\\\\n",
        "\\hat{x}\n",
        "\\end{pmatrix} + \\begin{pmatrix}\n",
        "B \\\\\n",
        "B\n",
        "\\end{pmatrix} r \\\\\n",
        "y & = ( \\; C \\;  0 \\; ) \\; \\begin{pmatrix}\n",
        "x \\\\\n",
        "\\hat{x}\n",
        "\\end{pmatrix}\n",
        "\\end{align}$$\n",
        "\n",
        "$$\\begin{align}\n",
        "\\begin{pmatrix}\n",
        "\\dot{x} \\\\\n",
        "\\dot{\\hat{x}}\n",
        "\\end{pmatrix} & = \n",
        "\\begin{pmatrix}-0.0127 & 2.675 & -0.0024 & 0.0311 & -13.596 & -2.266\\\\\n",
        "0 & 0 & 1 & 0 & 0 & 0\\\\\n",
        "-0.0085 & 8.323 & -0.0075 & 0.0207 & -9.064 & -1.511\\\\\n",
        "5.980 & 0 & 0 & -5.961 & -10.920 & -2.269\\\\\n",
        "7.225 & 0 & 0 & -7.225 & 0 & 1\\\\\n",
        "20.877 & 0 & 0 & -20.865 & -0.740 & -1.518\\end{pmatrix} \\begin{pmatrix}\n",
        "x \\\\\n",
        "\\hat{x}\n",
        "\\end{pmatrix} + \\begin{pmatrix}\n",
        "0.0045 \\\\\n",
        "0 \\\\\n",
        "0.0030 \\\\\n",
        "0.0045 \\\\\n",
        "0 \\\\\n",
        "0.0030\n",
        "\\end{pmatrix} r \\\\\n",
        "y & = ( \\; 1 \\; 0 \\; 0 \\; 0 \\; 0 \\; 0 \\; ) \\; \\begin{pmatrix}\n",
        "x \\\\\n",
        "\\hat{x}\n",
        "\\end{pmatrix}\n",
        "\\end{align}$$\n",
        "\n",
        "## Linear Step and Impulse Response\n",
        "\n",
        "We can use the `odeint` function with the previous state space representation of our system to model a linear response to our system. The responses are plotted below. We can see that a full state feedback controller makes or system much more performant than the previous root locus controller. The inputs are scaled by $-56.5$ to give a more characteristic response. The linearized FSFB controller with observer gives the step response a settling time of approximately $12.8 s$, a $0.0053\\%$ overshoot, and a settling response of $7.99$. An impulse input gives a max response of $1.310$.\n",
        "\n",
        "## Nonlinear Step and Impulse Response\n",
        "\n",
        "Rather than using the state space approximation for the plant, we can directly use the function equations to represent the nonlinear response to a step and impulse input. The plots of the step and impulse response are shown below. The inputs are again scaled by $-56.5$ to give a more characteristic response. The nonlinearized FSFB controller with observer gives the step response a settling time of approximately $12.73 s$, a $0.0047\\%$ overshoot, and a settling response of $7.99$. An impulse input gives a max response of $1.308$. Since the linearized model is around the initial conditions of $\\dot p = 0, \\theta = 0, \\dot{\\theta} = 0$, deviations from these initial conditions will cause the nonlinear model to become unstable and not representative. For our full state feedback controller, we found the system to remain stable as long as all of the initial conditions are between $0.1$ and $-0.1$. Outside of this range of initial values, the nonlinear model shows a single unstable peak response."
      ]
    },
    {
      "cell_type": "code",
      "metadata": {
        "id": "xzkzSAzX7-l7",
        "outputId": "52d35523-b728-4873-c09d-349c47bd5f7b",
        "colab": {
          "base_uri": "https://localhost:8080/",
          "height": 78
        }
      },
      "source": [
        "# Part (a)\n",
        "# observability: finding the observability matrix and rank to determine if the system is observable\n",
        "\n",
        "O = Matrix([C,C*Aeq,C*Aeq**2])\n",
        "rankO = O.rank()\n",
        "O, rankO"
      ],
      "execution_count": null,
      "outputs": [
        {
          "output_type": "display_data",
          "data": {
            "text/html": [
              "\n",
              "        <script src=\"https://www.gstatic.com/external_hosted/mathjax/latest/MathJax.js?config=TeX-AMS_HTML-full,Safe&delayStartupUntil=configured\"></script>\n",
              "        <script>\n",
              "          (() => {\n",
              "            const mathjax = window.MathJax;\n",
              "            mathjax.Hub.Config({\n",
              "            'tex2jax': {\n",
              "              'inlineMath': [['$', '$'], ['\\(', '\\)']],\n",
              "              'displayMath': [['$$', '$$'], ['\\[', '\\]']],\n",
              "              'processEscapes': true,\n",
              "              'processEnvironments': true,\n",
              "              'skipTags': ['script', 'noscript', 'style', 'textarea', 'code'],\n",
              "              'displayAlign': 'center',\n",
              "            },\n",
              "            'HTML-CSS': {\n",
              "              'styles': {'.MathJax_Display': {'margin': 0}},\n",
              "              'linebreaks': {'automatic': true},\n",
              "              // Disable to prevent OTF font loading, which aren't part of our\n",
              "              // distribution.\n",
              "              'imageFont': null,\n",
              "            },\n",
              "            'messageStyle': 'none'\n",
              "          });\n",
              "          mathjax.Hub.Configured();\n",
              "        })();\n",
              "        </script>\n",
              "        "
            ],
            "text/plain": [
              "<IPython.core.display.HTML object>"
            ]
          },
          "metadata": {
            "tags": []
          }
        },
        {
          "output_type": "execute_result",
          "data": {
            "text/latex": "$$\\left ( \\left[\\begin{matrix}1 & 0 & 0\\\\-0.0127272727272727 & 2.67545454545455 & -0.00242424242424242\\\\0.000182552800734619 & -0.0542297520661157 & 2.67550368329762\\end{matrix}\\right], \\quad 3\\right )$$",
            "text/plain": [
              "⎛⎡         1                     0                    0          ⎤   ⎞\n",
              "⎜⎢                                                               ⎥   ⎟\n",
              "⎜⎢-0.0127272727272727    2.67545454545455    -0.00242424242424242⎥, 3⎟\n",
              "⎜⎢                                                               ⎥   ⎟\n",
              "⎝⎣0.000182552800734619  -0.0542297520661157    2.67550368329762  ⎦   ⎠"
            ]
          },
          "metadata": {
            "tags": []
          },
          "execution_count": 595
        }
      ]
    },
    {
      "cell_type": "code",
      "metadata": {
        "id": "OC6MMH9u8I9_",
        "outputId": "dc913760-67f1-4462-8907-3b59ce186248",
        "colab": {
          "base_uri": "https://localhost:8080/",
          "height": 68
        }
      },
      "source": [
        "# Part (a)\n",
        "# poles for observer, use the place function to determine matrix L for the observer gains\n",
        "\n",
        "Op1 = -3\n",
        "Op2 = -4\n",
        "Op3 = -5\n",
        "\n",
        "L = np.array(np.transpose(place(np.transpose(An),np.transpose(Cn), [Op1, Op2, Op3])))\n",
        "L"
      ],
      "execution_count": null,
      "outputs": [
        {
          "output_type": "execute_result",
          "data": {
            "text/plain": [
              "array([[11.97973064],\n",
              "       [20.6985399 ],\n",
              "       [59.72748003]])"
            ]
          },
          "metadata": {
            "tags": []
          },
          "execution_count": 596
        }
      ]
    },
    {
      "cell_type": "code",
      "metadata": {
        "id": "UbUgdFB4zqlr",
        "outputId": "64638599-62d1-4094-e9a0-497d0b7d7779",
        "colab": {
          "base_uri": "https://localhost:8080/",
          "height": 78
        }
      },
      "source": [
        "# using the observer gain matrix L to determine the new state space representation for the system\n",
        "LC = L*C\n",
        "LC, Ahat - LC"
      ],
      "execution_count": null,
      "outputs": [
        {
          "output_type": "display_data",
          "data": {
            "text/html": [
              "\n",
              "        <script src=\"https://www.gstatic.com/external_hosted/mathjax/latest/MathJax.js?config=TeX-AMS_HTML-full,Safe&delayStartupUntil=configured\"></script>\n",
              "        <script>\n",
              "          (() => {\n",
              "            const mathjax = window.MathJax;\n",
              "            mathjax.Hub.Config({\n",
              "            'tex2jax': {\n",
              "              'inlineMath': [['$', '$'], ['\\(', '\\)']],\n",
              "              'displayMath': [['$$', '$$'], ['\\[', '\\]']],\n",
              "              'processEscapes': true,\n",
              "              'processEnvironments': true,\n",
              "              'skipTags': ['script', 'noscript', 'style', 'textarea', 'code'],\n",
              "              'displayAlign': 'center',\n",
              "            },\n",
              "            'HTML-CSS': {\n",
              "              'styles': {'.MathJax_Display': {'margin': 0}},\n",
              "              'linebreaks': {'automatic': true},\n",
              "              // Disable to prevent OTF font loading, which aren't part of our\n",
              "              // distribution.\n",
              "              'imageFont': null,\n",
              "            },\n",
              "            'messageStyle': 'none'\n",
              "          });\n",
              "          mathjax.Hub.Configured();\n",
              "        })();\n",
              "        </script>\n",
              "        "
            ],
            "text/plain": [
              "<IPython.core.display.HTML object>"
            ]
          },
          "metadata": {
            "tags": []
          }
        },
        {
          "output_type": "execute_result",
          "data": {
            "text/latex": "$$\\left ( \\left[\\begin{matrix}11.9797306397307 & 0 & 0\\\\20.698539898807 & 0 & 0\\\\59.7274800330873 & 0 & 0\\end{matrix}\\right], \\quad \\left[\\begin{matrix}-11.9476205479876 & -11.4152854230385 & -2.7392762487265\\\\-20.698539898807 & 0 & 1\\\\-59.7060733052585 & -1.07019028202565 & -1.83211009174359\\end{matrix}\\right]\\right )$$",
            "text/plain": [
              "⎛⎡11.9797306397307  0  0⎤  ⎡-11.9476205479876  -11.4152854230385  -2.739276248\n",
              "⎜⎢                      ⎥  ⎢                                                  \n",
              "⎜⎢20.698539898807   0  0⎥, ⎢-20.698539898807           0                  1   \n",
              "⎜⎢                      ⎥  ⎢                                                  \n",
              "⎝⎣59.7274800330873  0  0⎦  ⎣-59.7060733052585  -1.07019028202565  -1.832110091\n",
              "\n",
              "7265 ⎤⎞\n",
              "     ⎥⎟\n",
              "     ⎥⎟\n",
              "     ⎥⎟\n",
              "74359⎦⎠"
            ]
          },
          "metadata": {
            "tags": []
          },
          "execution_count": 597
        }
      ]
    },
    {
      "cell_type": "code",
      "metadata": {
        "id": "buhDiwPhYP9q",
        "outputId": "ab25b919-60c8-4ba9-cf75-602211ee41b8",
        "colab": {
          "base_uri": "https://localhost:8080/",
          "height": 312
        }
      },
      "source": [
        "# Part (b)\n",
        "# Goal: Plot the linear step response\n",
        "def ffn(x,t):\n",
        "  #extract plant and observer dynamics and make it a column \n",
        "  xp = np.array([np.array(x[:3])]).transpose() \n",
        "  xo = np.array([np.array(x[3:])]).transpose()\n",
        " \n",
        "  #compute r \n",
        "  r = step_fn(t) \n",
        "\n",
        "  #compute f(x,t) from linearized state space\n",
        "  u = (r-K@xo).item()\n",
        "  y = (Cn@xp).item()\n",
        "  yhat = (Cn@xo).item()\n",
        "  xpdot = (An@xp+Bn*u).flatten()\n",
        "  xodot = (An@xo+Bn*u+L*(y-yhat)).flatten()\n",
        "  \n",
        "  #return derivatives. \n",
        "  return [xpdot[0],xpdot[1],xpdot[2],xodot[0],xodot[1],xodot[2]]\n",
        "\n",
        "#plot the response\n",
        "t = np.linspace(0,30,1000) \n",
        "x_of_t = spi.odeint(ffn,[0,0,0,0,0,0],t) # initial conditions\n",
        "plt.figure()\n",
        "plt.plot(t,x_of_t)\n",
        "plt.title('Linear Step Response')\n",
        "plt.legend([\"y=x1\",\"x2\",\"x3\",\"x4\",\"x5\",\"x6\"])\n",
        "plt.xlabel(\"t\")"
      ],
      "execution_count": null,
      "outputs": [
        {
          "output_type": "execute_result",
          "data": {
            "text/plain": [
              "Text(0.5, 0, 't')"
            ]
          },
          "metadata": {
            "tags": []
          },
          "execution_count": 598
        },
        {
          "output_type": "display_data",
          "data": {
            "image/png": "[encoded data removed]",
            "text/plain": [
              "<Figure size 432x288 with 1 Axes>"
            ]
          },
          "metadata": {
            "tags": []
          }
        }
      ]
    },
    {
      "cell_type": "code",
      "metadata": {
        "id": "kDmnVbfeAJgG",
        "outputId": "96026169-88c2-4a9d-bff6-926092398f33",
        "colab": {
          "base_uri": "https://localhost:8080/",
          "height": 85
        }
      },
      "source": [
        "print(\" Settling time = \", find_Ts(x_of_t[:,0], t, 1), \"\\n Overshoot = \", find_OS(x_of_t[:,0]), \"\\n Settling response = \", find_avg(x_of_t[:,0]), \"\\n Max response =\", max(x_of_t[:,0]))"
      ],
      "execution_count": null,
      "outputs": [
        {
          "output_type": "stream",
          "text": [
            " Settling time =  12.792792792792792 \n",
            " Overshoot =  5.2898995157395373e-05 \n",
            " Settling response =  7.99758338933246 \n",
            " Max response = 7.998006453457443\n"
          ],
          "name": "stdout"
        }
      ]
    },
    {
      "cell_type": "code",
      "metadata": {
        "id": "g5itAAcge1jQ",
        "outputId": "dce1e2eb-9449-43f6-bb80-bf130011cf28",
        "colab": {
          "base_uri": "https://localhost:8080/",
          "height": 295
        }
      },
      "source": [
        "# Part (b)\n",
        "# Goal: Plot the linear impulse response\n",
        "def ffn(x,t):\n",
        "  #extract plant and observer dynamics and make it a column \n",
        "  xp = np.array([np.array(x[:3])]).transpose() \n",
        "  xo = np.array([np.array(x[3:])]).transpose()\n",
        " \n",
        "  #compute r \n",
        "  r = approx_impulse(t)\n",
        "\n",
        "  #compute f(x,t) from linearized state space\n",
        "  u = (r-K@xo).item()\n",
        "  y = (Cn@xp).item()\n",
        "  yhat = (Cn@xo).item()\n",
        "  xpdot = (An@xp+Bn*u).flatten()\n",
        "  xodot = (An@xo+Bn*u+L*(y-yhat)).flatten()\n",
        "  \n",
        "  #return derivatives. \n",
        "  return [xpdot[0],xpdot[1],xpdot[2],xodot[0],xodot[1],xodot[2]]\n",
        "\n",
        "# plot the response\n",
        "t = np.linspace(0,30,1000)\n",
        "x_of_t = spi.odeint(ffn,[0,0,0,0,0,0],t) # initial conditions\n",
        "plt.figure()\n",
        "plt.plot(t,x_of_t)\n",
        "plt.title('Linear Impulse Response')\n",
        "plt.legend([\"y=x1\",\"x2\",\"x3\",\"x4\",\"x5\",\"x6\"],)\n",
        "plt.xlabel(\"t\") ;"
      ],
      "execution_count": null,
      "outputs": [
        {
          "output_type": "display_data",
          "data": {
            "image/png": "[encoded data removed]",
            "text/plain": [
              "<Figure size 432x288 with 1 Axes>"
            ]
          },
          "metadata": {
            "tags": []
          }
        }
      ]
    },
    {
      "cell_type": "code",
      "metadata": {
        "id": "D_u91p4NAIBJ",
        "outputId": "a2880893-a22d-4df8-d232-5a37e19154b8",
        "colab": {
          "base_uri": "https://localhost:8080/",
          "height": 34
        }
      },
      "source": [
        "print(\" Max response =\", max(x_of_t[:,0]))"
      ],
      "execution_count": null,
      "outputs": [
        {
          "output_type": "stream",
          "text": [
            " Max response = 1.3095764110496544\n"
          ],
          "name": "stdout"
        }
      ]
    },
    {
      "cell_type": "code",
      "metadata": {
        "id": "2iCDBswvYi66",
        "outputId": "98ea2b0b-3e58-47bc-e81b-90a4707925e4",
        "colab": {
          "base_uri": "https://localhost:8080/",
          "height": 312
        }
      },
      "source": [
        "# Part (b)\n",
        "# Goal: Plot the nonlinear step response\n",
        "\n",
        "#make our nonlinear \"f(x1,x2,x3,u)\" into a function that evaluates to numbers\n",
        "f = Matrix([[P_ddotn],[thetadot],[T_ddotn]])\n",
        "fp = lambdify([pdot, theta, thetadot, tau],f,\"numpy\")\n",
        "\n",
        "#our \"f\" function ( defined by xdot = f(x,r)  )\n",
        "def ffn(x,t):\n",
        "  #extract plant and observer dynamics and make it a column \n",
        "  pdot,theta,thetadot = x[:3]\n",
        "  xo = np.array([np.array(x[3:])]).transpose()\n",
        " \n",
        "  #compute r \n",
        "  r = step_fn(t) \n",
        "\n",
        "  #compute output from controller\n",
        "  u = (r-K@xo).item()\n",
        "  y = pdot\n",
        "  yhat = (Cn@xo).item()\n",
        "   \n",
        "  #compute fp(x,u) from nonlinear functions\n",
        "  xpdot = fp(pdot,theta,thetadot,u).flatten()\n",
        "  xodot = (An@xo+Bn*u+L*(y-yhat)).flatten()\n",
        "  \n",
        "  #return derivatives. \n",
        "  return [xpdot[0],xpdot[1],xpdot[2],xodot[0],xodot[1],xodot[2]]\n",
        "\n",
        "# plot the response\n",
        "t = np.linspace(0,30,1000)\n",
        "x_of_t = spi.odeint(ffn,[0,0,0,0,0,0],t) # initial conditions\n",
        "plt.figure()\n",
        "plt.plot(t,x_of_t)\n",
        "plt.title('Nonlinear Step Response')\n",
        "plt.legend([\"y=x1\",\"x2\",\"x3\",\"x4\",\"x5\",\"x6\"],)\n",
        "plt.xlabel(\"t\")"
      ],
      "execution_count": null,
      "outputs": [
        {
          "output_type": "execute_result",
          "data": {
            "text/plain": [
              "Text(0.5, 0, 't')"
            ]
          },
          "metadata": {
            "tags": []
          },
          "execution_count": 602
        },
        {
          "output_type": "display_data",
          "data": {
            "image/png": "[encoded data removed]",
            "text/plain": [
              "<Figure size 432x288 with 1 Axes>"
            ]
          },
          "metadata": {
            "tags": []
          }
        }
      ]
    },
    {
      "cell_type": "code",
      "metadata": {
        "id": "QsYBzKN7AHLY",
        "outputId": "2347103c-69d7-413d-f54b-31458423b630",
        "colab": {
          "base_uri": "https://localhost:8080/",
          "height": 85
        }
      },
      "source": [
        "print(\" Settling time = \", find_Ts(x_of_t[:,0], t, 1), \"\\n Overshoot = \", find_OS(x_of_t[:,0]), \"\\n Settling response = \", find_avg(x_of_t[:,0]), \"\\n Max response =\", max(x_of_t[:,0]))"
      ],
      "execution_count": null,
      "outputs": [
        {
          "output_type": "stream",
          "text": [
            " Settling time =  12.732732732732732 \n",
            " Overshoot =  4.689187273087936e-05 \n",
            " Settling response =  7.9976377019872835 \n",
            " Max response = 7.998012726196553\n"
          ],
          "name": "stdout"
        }
      ]
    },
    {
      "cell_type": "code",
      "metadata": {
        "id": "9qoKyLwEoZyb",
        "outputId": "b403b88c-2786-46d1-959b-6c4741c413f8",
        "colab": {
          "base_uri": "https://localhost:8080/",
          "height": 312
        }
      },
      "source": [
        "# Part (b)\n",
        "# Goal: Plot the nonlinear impulse response\n",
        "\n",
        "#make our nonlinear \"f(x1,x2,x3,u)\" into a function that evaluates to numbers\n",
        "f = Matrix([[P_ddotn],[thetadot],[T_ddotn]])\n",
        "fp = lambdify([pdot, theta, thetadot, tau],f,\"numpy\")\n",
        "\n",
        "#our \"f\" function ( defined by xdot = f(x,r)  )\n",
        "def ffn(x,t):\n",
        "  #extract plant and observer dynamics and make it a column \n",
        "  pdot,theta,thetadot = x[:3]\n",
        "  xo = np.array([np.array(x[3:])]).transpose()\n",
        " \n",
        "  #compute r\n",
        "  r = approx_impulse(t) \n",
        "\n",
        "  #compute output from controller\n",
        "  u = (r-K@xo).item()\n",
        "  y = pdot\n",
        "  yhat = (Cn@xo).item()\n",
        "   \n",
        "  #compute fp(x,u) from nonlinear functions\n",
        "  xpdot = fp(pdot,theta,thetadot,u).flatten()\n",
        "  xodot = (An@xo+Bn*u+L*(y-yhat)).flatten()\n",
        "  \n",
        "  #return derivatives. \n",
        "  return [xpdot[0],xpdot[1],xpdot[2],xodot[0],xodot[1],xodot[2]]\n",
        "\n",
        "# plot the response\n",
        "t = np.linspace(0,30,1000) \n",
        "x_of_t = spi.odeint(ffn,[0,0,0,0,0,0],t) # initial conditions\n",
        "plt.figure()\n",
        "plt.plot(t,x_of_t)\n",
        "plt.title('Nonlinear Impulse Response')\n",
        "plt.legend([\"y=x1\",\"x2\",\"x3\",\"x4\",\"x5\",\"x6\"],)\n",
        "plt.xlabel(\"t\")"
      ],
      "execution_count": null,
      "outputs": [
        {
          "output_type": "execute_result",
          "data": {
            "text/plain": [
              "Text(0.5, 0, 't')"
            ]
          },
          "metadata": {
            "tags": []
          },
          "execution_count": 604
        },
        {
          "output_type": "display_data",
          "data": {
            "image/png": "[encoded data removed]",
            "text/plain": [
              "<Figure size 432x288 with 1 Axes>"
            ]
          },
          "metadata": {
            "tags": []
          }
        }
      ]
    },
    {
      "cell_type": "code",
      "metadata": {
        "id": "cVlXHFoXAE0R",
        "outputId": "420c8f65-1d93-4e91-ad34-179a90684dd7",
        "colab": {
          "base_uri": "https://localhost:8080/",
          "height": 34
        }
      },
      "source": [
        "print(\" Max response =\", max(x_of_t[:,0]))"
      ],
      "execution_count": null,
      "outputs": [
        {
          "output_type": "stream",
          "text": [
            " Max response = 1.3080537049083107\n"
          ],
          "name": "stdout"
        }
      ]
    },
    {
      "cell_type": "markdown",
      "metadata": {
        "id": "8fWrnZ5WJQH7"
      },
      "source": [
        "## Task 7.5: Disturbances and Noise\n",
        "### Linear Model\n",
        "The full state feedback controller with the observer design handles the disturbances much better than the root locus controller.\n",
        "\n",
        "A gust of wind does not affect the velocity of the scooter a lot. For step response with a gust of wind, the steady-state velocity of the scooter is $7.998 m/s$ and the percent overshoot is almost $0$% which is similar to the percent overshoot without the disturbance. For impulse response with a gust of wind, the maximum velocity of the scooter is $1.28 m/s$. As a result, we can see the disturbance of a gust of wind does not affect our system's performance that much.\n",
        "\n",
        "From our plots of step response and impulse response, climbing on a hill decreases the velocity of the scooter in general which is consistent with reality. For step response with a hill, the steady-state velocity of the scooter is $7.86 m/s$ and the percent overshoot is almost $0$%. For impulse response with a hill, the maximum velocity of the scooter is $1.26 m/s$. As a result, we can see that the disturbance of climbing on a hill affects our system performance by decreasing the velocity of the scooter. \n",
        "\n",
        "### Nonlinear Model\n",
        "For the nonlinear model, it still does not handle larger disturbances very well with the full state feedback controller with the observer design. However, the performance is still better than the root locus controller design."
      ]
    },
    {
      "cell_type": "code",
      "metadata": {
        "id": "Oe0coLYCM5-o",
        "outputId": "bad60e9c-4733-4f80-d057-06045dc6a7f2",
        "colab": {
          "base_uri": "https://localhost:8080/",
          "height": 312
        }
      },
      "source": [
        "# Goal: Plot the linear step response with step disturbance\n",
        "#our \"f\" function (defined by xdot = f(x,r))\n",
        "def ffn(x,t):\n",
        "  #extract plant and observer dynamics and make it a column \n",
        "  xp = np.array([np.array(x[:3])]).transpose() \n",
        "  xo = np.array([np.array(x[3:])]).transpose()\n",
        " \n",
        "  #compute r and d\n",
        "  r = step_fn(t)\n",
        "  d = 1  \n",
        "\n",
        "  #compute f(x,t) from linearized state space\n",
        "  u = (r-K@xo+d).item()\n",
        "  y = (Cn@xp).item()\n",
        "  yhat = (Cn@xo).item()\n",
        "  xpdot = (An@xp+Bn*u).flatten()\n",
        "  xodot = (An@xo+Bn*u+L*(y-yhat)).flatten()\n",
        "  \n",
        "  #return derivatives. \n",
        "  return [xpdot[0],xpdot[1],xpdot[2],xodot[0],xodot[1],xodot[2]]\n",
        "\n",
        "# plot response\n",
        "t = np.linspace(0,30,1000) \n",
        "x_of_t = spi.odeint(ffn,[0,0,0,0,0,0],t) # initial conditions\n",
        "plt.figure()\n",
        "plt.plot(t,x_of_t)\n",
        "plt.title('Linear Step Response with the Hill Disturbance')\n",
        "plt.legend([\"y=x1\",\"x2\",\"x3\",\"x4\",\"x5\",\"x6\"])\n",
        "plt.xlabel(\"t\")"
      ],
      "execution_count": null,
      "outputs": [
        {
          "output_type": "execute_result",
          "data": {
            "text/plain": [
              "Text(0.5, 0, 't')"
            ]
          },
          "metadata": {
            "tags": []
          },
          "execution_count": 606
        },
        {
          "output_type": "display_data",
          "data": {
            "image/png": "[encoded data removed]",
            "text/plain": [
              "<Figure size 432x288 with 1 Axes>"
            ]
          },
          "metadata": {
            "tags": []
          }
        }
      ]
    },
    {
      "cell_type": "code",
      "metadata": {
        "id": "OX22ScHjMESY",
        "outputId": "0b896f69-1598-4181-c1e7-5662f47df298",
        "colab": {
          "base_uri": "https://localhost:8080/",
          "height": 85
        }
      },
      "source": [
        "print(\" Settling time = \", find_Ts(x_of_t[:,0], t, 1), \"\\n Overshoot = \", find_OS(x_of_t[:,0]), \"\\n Settling response = \", find_avg(x_of_t[:,0]), \"\\n Max response =\", max(x_of_t[:,0]))"
      ],
      "execution_count": null,
      "outputs": [
        {
          "output_type": "stream",
          "text": [
            " Settling time =  12.792792792792792 \n",
            " Overshoot =  5.289904958223614e-05 \n",
            " Settling response =  7.8560332408324145 \n",
            " Max response = 7.856448817524341\n"
          ],
          "name": "stdout"
        }
      ]
    },
    {
      "cell_type": "code",
      "metadata": {
        "id": "Hszb9NVlNfiZ",
        "outputId": "552eb9ef-4df8-42dc-9391-f3ebcbe85ac2",
        "colab": {
          "base_uri": "https://localhost:8080/",
          "height": 312
        }
      },
      "source": [
        "# Goal: Plot the linear step response with impulse disturbance\n",
        "#our \"f\" function (defined by xdot = f(x,r))\n",
        "def ffn(x,t):\n",
        "  #extract plant and observer dynamics and make it a column \n",
        "  xp = np.array([np.array(x[:3])]).transpose() \n",
        "  xo = np.array([np.array(x[3:])]).transpose()\n",
        " \n",
        "  #compute r and d\n",
        "  r = step_fn(t)\n",
        "  d = approx_impulse(t) / -56.5\n",
        "\n",
        "  #compute f(x,t) from linearized state space\n",
        "  u = (r-K@xo+d).item()\n",
        "  y = (Cn@xp).item()\n",
        "  yhat = (Cn@xo).item()\n",
        "  xpdot = (An@xp+Bn*u).flatten()\n",
        "  xodot = (An@xo+Bn*u+L*(y-yhat)).flatten()\n",
        "  \n",
        "  #return derivatives. \n",
        "  return [xpdot[0],xpdot[1],xpdot[2],xodot[0],xodot[1],xodot[2]]\n",
        "\n",
        "# plot response\n",
        "t = np.linspace(0,30,1000) \n",
        "x_of_t = spi.odeint(ffn,[0,0,0,0,0,0],t) # initial conditions\n",
        "plt.figure()\n",
        "plt.plot(t,x_of_t)\n",
        "plt.title('Linear Step esponse with the  Disturbance')\n",
        "plt.legend([\"y=x1\",\"x2\",\"x3\",\"x4\",\"x5\",\"x6\"])\n",
        "plt.xlabel(\"t\")"
      ],
      "execution_count": null,
      "outputs": [
        {
          "output_type": "execute_result",
          "data": {
            "text/plain": [
              "Text(0.5, 0, 't')"
            ]
          },
          "metadata": {
            "tags": []
          },
          "execution_count": 608
        },
        {
          "output_type": "display_data",
          "data": {
            "image/png": "[encoded data removed]",
            "text/plain": [
              "<Figure size 432x288 with 1 Axes>"
            ]
          },
          "metadata": {
            "tags": []
          }
        }
      ]
    },
    {
      "cell_type": "code",
      "metadata": {
        "id": "2Z-qAe3t_440",
        "outputId": "cf5b3b7a-6dd2-42fc-f112-ff3c740ef631",
        "colab": {
          "base_uri": "https://localhost:8080/",
          "height": 85
        }
      },
      "source": [
        "print(\" Settling time = \", find_Ts(x_of_t[:,0], t, 1), \"\\n Overshoot = \", find_OS(x_of_t[:,0]), \"\\n Settling response = \", find_avg(x_of_t[:,0]), \"\\n Max response =\", max(x_of_t[:,0]))"
      ],
      "execution_count": null,
      "outputs": [
        {
          "output_type": "stream",
          "text": [
            " Settling time =  12.792792792792792 \n",
            " Overshoot =  5.3365950575476746e-05 \n",
            " Settling response =  7.997579283303169 \n",
            " Max response = 7.998006081723926\n"
          ],
          "name": "stdout"
        }
      ]
    },
    {
      "cell_type": "code",
      "metadata": {
        "id": "rVmpktRKUEQe",
        "outputId": "9ea3c68f-39cb-4a01-87c9-ae67ea707063",
        "colab": {
          "base_uri": "https://localhost:8080/",
          "height": 312
        }
      },
      "source": [
        "# Goal: Plot the linear impulse response with step disturbance\n",
        "\n",
        "#make our nonlinear \"f(x1,x2,x3,u)\" into a function that evaluates to numbers\n",
        "f = Matrix([[P_ddotn],[thetadot],[T_ddotn]])\n",
        "fp = lambdify([pdot, theta, thetadot, tau],f,\"numpy\")\n",
        "\n",
        "#our \"f\" function ( defined by xdot = f(x,r)  )\n",
        "def ffn(x,t):\n",
        "  #extract plant and observer dynamics and make it a column \n",
        "  pdot,theta,thetadot = x[:3]\n",
        "  xo = np.array([np.array(x[3:])]).transpose()\n",
        " \n",
        "  #compute r and d\n",
        "  r = approx_impulse(t)\n",
        "  d = step_fn(t) / -56.5\n",
        "\n",
        "  # compute output from controller\n",
        "  u = (r-K@xo+d).item()\n",
        "  y = pdot\n",
        "  yhat = (Cn@xo).item()\n",
        "   \n",
        "  #compute fp(x,u) nonlinear functions\n",
        "  xpdot = fp(pdot,theta,thetadot,u).flatten()\n",
        "  xodot = (An@xo+Bn*u+L*(y-yhat)).flatten()\n",
        "  \n",
        "  #return derivatives. \n",
        "  return [xpdot[0],xpdot[1],xpdot[2],xodot[0],xodot[1],xodot[2]]\n",
        " \n",
        "# plot response\n",
        "t = np.linspace(0,30,1000) \n",
        "x_of_t = spi.odeint(ffn,[0,0,0,0,0,0],t) # initial states\n",
        "plt.figure()\n",
        "plt.plot(t,x_of_t)\n",
        "plt.title('Linear Impulse Response with the Hill Disturbance')\n",
        "plt.legend([\"y=x1\",\"x2\",\"x3\",\"x4\",\"x5\",\"x6\"],)\n",
        "plt.xlabel(\"t\")"
      ],
      "execution_count": null,
      "outputs": [
        {
          "output_type": "execute_result",
          "data": {
            "text/plain": [
              "Text(0.5, 0, 't')"
            ]
          },
          "metadata": {
            "tags": []
          },
          "execution_count": 610
        },
        {
          "output_type": "display_data",
          "data": {
            "image/png": "[encoded data removed]",
            "text/plain": [
              "<Figure size 432x288 with 1 Axes>"
            ]
          },
          "metadata": {
            "tags": []
          }
        }
      ]
    },
    {
      "cell_type": "code",
      "metadata": {
        "id": "hbB22ZNz_r2d",
        "outputId": "7ff7bf0b-5710-4366-ec62-9a86706b8bf9",
        "colab": {
          "base_uri": "https://localhost:8080/",
          "height": 34
        }
      },
      "source": [
        "print(\" Max response =\", max(x_of_t[:,0]))"
      ],
      "execution_count": null,
      "outputs": [
        {
          "output_type": "stream",
          "text": [
            " Max response = 1.2648254227940314\n"
          ],
          "name": "stdout"
        }
      ]
    },
    {
      "cell_type": "code",
      "metadata": {
        "id": "UiuZg6e8Uz4h",
        "outputId": "6baa3781-872c-4908-a71a-a9ff10fa0e62",
        "colab": {
          "base_uri": "https://localhost:8080/",
          "height": 312
        }
      },
      "source": [
        "# Goal: Plot the linear impulse response with impulse disturbance\n",
        "\n",
        "#make our nonlinear \"f(x1,x2,x3,u)\" into a function that evaluates to numbers\n",
        "f = Matrix([[P_ddotn],[thetadot],[T_ddotn]])\n",
        "fp = lambdify([pdot, theta, thetadot, tau],f,\"numpy\")\n",
        "\n",
        "#our \"f\" function ( defined by xdot = f(x,r)  )\n",
        "def ffn(x,t):\n",
        "  #extract plant and observer dynamics and make it a column \n",
        "  pdot,theta,thetadot = x[:3]\n",
        "  xo = np.array([np.array(x[3:])]).transpose()\n",
        " \n",
        "  #compute r and d\n",
        "  r = approx_impulse(t)\n",
        "  d = approx_impulse(t) / -56.5\n",
        "\n",
        "  #compute output from controller\n",
        "  u = (r-K@xo+d).item()\n",
        "  y = pdot\n",
        "  yhat = (Cn@xo).item()\n",
        "   \n",
        "  #compute fp(x,u) from nonlinear function\n",
        "  xpdot = fp(pdot,theta,thetadot,u).flatten()\n",
        "  xodot = (An@xo+Bn*u+L*(y-yhat)).flatten()\n",
        "  \n",
        "  #return derivatives. \n",
        "  return [xpdot[0],xpdot[1],xpdot[2],xodot[0],xodot[1],xodot[2]]\n",
        " \n",
        "# plot response\n",
        "t = np.linspace(0,30,1000) \n",
        "x_of_t = spi.odeint(ffn,[0,0,0,0,0,0],t) # initial states\n",
        "plt.figure()\n",
        "plt.plot(t,x_of_t)\n",
        "plt.title('Linear Impulse Response with the Wind Disturbance')\n",
        "plt.legend([\"y=x1\",\"x2\",\"x3\",\"x4\",\"x5\",\"x6\"],)\n",
        "plt.xlabel(\"t\")"
      ],
      "execution_count": null,
      "outputs": [
        {
          "output_type": "execute_result",
          "data": {
            "text/plain": [
              "Text(0.5, 0, 't')"
            ]
          },
          "metadata": {
            "tags": []
          },
          "execution_count": 612
        },
        {
          "output_type": "display_data",
          "data": {
            "image/png": "[encoded data removed]",
            "text/plain": [
              "<Figure size 432x288 with 1 Axes>"
            ]
          },
          "metadata": {
            "tags": []
          }
        }
      ]
    },
    {
      "cell_type": "code",
      "metadata": {
        "id": "83aqYeTy_n3I",
        "outputId": "96ae6557-7d50-4b0c-b19a-6fb13a1c9a76",
        "colab": {
          "base_uri": "https://localhost:8080/",
          "height": 34
        }
      },
      "source": [
        "print(\" Max response =\", max(x_of_t[:,0]))"
      ],
      "execution_count": null,
      "outputs": [
        {
          "output_type": "stream",
          "text": [
            " Max response = 1.2849553284733315\n"
          ],
          "name": "stdout"
        }
      ]
    },
    {
      "cell_type": "code",
      "metadata": {
        "id": "ZT7KE65UMNRX",
        "outputId": "884206ca-6be4-4bcc-f8f0-1aed90c9ce1b",
        "colab": {
          "base_uri": "https://localhost:8080/",
          "height": 312
        }
      },
      "source": [
        "# Part (b)\n",
        "# Goal: Plot the nonlinear step response with the step disturbance\n",
        "\n",
        "#make our nonlinear \"f(x1,x2,x3,u)\" into a function that evaluates to numbers\n",
        "f = Matrix([[P_ddotn],[thetadot],[T_ddotn]])\n",
        "fp = lambdify([pdot, theta, thetadot, tau],f,\"numpy\")\n",
        "\n",
        "#our \"f\" function ( defined by xdot = f(x,r)  )\n",
        "def ffn(x,t):\n",
        "  #extract plant and observer dynamics and make it a column \n",
        "  pdot,theta,thetadot = x[:3]\n",
        "  xo = np.array([np.array(x[3:])]).transpose()\n",
        " \n",
        "  #compute r \n",
        "  r = step_fn(t) \n",
        "  dis = step_fn(t) / -56.5\n",
        "\n",
        "  #compute output from controller\n",
        "  u = (r-K@xo+dis).item()\n",
        "  y = pdot\n",
        "  yhat = (Cn@xo).item()\n",
        "   \n",
        "  #compute fp(x,u) from nonlinear functions\n",
        "  xpdot = fp(pdot,theta,thetadot,u).flatten()\n",
        "  xodot = (An@xo+Bn*u+L*(y-yhat)).flatten()\n",
        "  \n",
        "  #return derivatives. \n",
        "  return [xpdot[0],xpdot[1],xpdot[2],xodot[0],xodot[1],xodot[2]]\n",
        "\n",
        "# plot the response\n",
        "t = np.linspace(0,30,1000)\n",
        "x_of_t = spi.odeint(ffn,[0,0,0,0,0,0],t) # initial conditions\n",
        "plt.figure()\n",
        "plt.plot(t,x_of_t)\n",
        "plt.title('Nonlinear Step Response with the Hill Disturbance')\n",
        "plt.legend([\"y=x1\",\"x2\",\"x3\",\"x4\",\"x5\",\"x6\"],)\n",
        "plt.xlabel(\"t\")"
      ],
      "execution_count": null,
      "outputs": [
        {
          "output_type": "execute_result",
          "data": {
            "text/plain": [
              "Text(0.5, 0, 't')"
            ]
          },
          "metadata": {
            "tags": []
          },
          "execution_count": 614
        },
        {
          "output_type": "display_data",
          "data": {
            "image/png": "[encoded data removed]",
            "text/plain": [
              "<Figure size 432x288 with 1 Axes>"
            ]
          },
          "metadata": {
            "tags": []
          }
        }
      ]
    },
    {
      "cell_type": "code",
      "metadata": {
        "id": "hjNshC32Mb45",
        "outputId": "8247b979-aaf1-4aa6-a981-8d874a059c82",
        "colab": {
          "base_uri": "https://localhost:8080/",
          "height": 85
        }
      },
      "source": [
        "print(\" Settling time = \", find_Ts(x_of_t[:,0], t, 1), \"\\n Overshoot = \", find_OS(x_of_t[:,0]), \"\\n Settling response = \", find_avg(x_of_t[:,0]), \"\\n Max response =\", max(x_of_t[:,0]))"
      ],
      "execution_count": null,
      "outputs": [
        {
          "output_type": "stream",
          "text": [
            " Settling time =  12.732732732732732 \n",
            " Overshoot =  4.7100976622997804e-05 \n",
            " Settling response =  7.856084926621621 \n",
            " Max response = 7.856454955894098\n"
          ],
          "name": "stdout"
        }
      ]
    },
    {
      "cell_type": "code",
      "metadata": {
        "id": "6aUX9E2KMwSo",
        "outputId": "d2d1b091-5585-43dd-98d6-1e2e1d08f3cf",
        "colab": {
          "base_uri": "https://localhost:8080/",
          "height": 312
        }
      },
      "source": [
        "# Part (b)\n",
        "# Goal: Plot the nonlinear step response with the impulse disturbance\n",
        "\n",
        "#make our nonlinear \"f(x1,x2,x3,u)\" into a function that evaluates to numbers\n",
        "f = Matrix([[P_ddotn],[thetadot],[T_ddotn]])\n",
        "fp = lambdify([pdot, theta, thetadot, tau],f,\"numpy\")\n",
        "\n",
        "#our \"f\" function ( defined by xdot = f(x,r)  )\n",
        "def ffn(x,t):\n",
        "  #extract plant and observer dynamics and make it a column \n",
        "  pdot,theta,thetadot = x[:3]\n",
        "  xo = np.array([np.array(x[3:])]).transpose()\n",
        " \n",
        "  #compute r \n",
        "  r = step_fn(t) \n",
        "  dis = approx_impulse(t) / -56.5\n",
        "\n",
        "  #compute output from controller\n",
        "  u = (r-K@xo+dis).item()\n",
        "  y = pdot\n",
        "  yhat = (Cn@xo).item()\n",
        "   \n",
        "  #compute fp(x,u) from nonlinear functions\n",
        "  xpdot = fp(pdot,theta,thetadot,u).flatten()\n",
        "  xodot = (An@xo+Bn*u+L*(y-yhat)).flatten()\n",
        "  \n",
        "  #return derivatives. \n",
        "  return [xpdot[0],xpdot[1],xpdot[2],xodot[0],xodot[1],xodot[2]]\n",
        "\n",
        "# plot the response\n",
        "t = np.linspace(0,30,1000)\n",
        "x_of_t = spi.odeint(ffn,[0,0,0,0,0,0],t) # initial conditions\n",
        "plt.figure()\n",
        "plt.plot(t,x_of_t)\n",
        "plt.title('Nonlinear Step Response with the Wind Disturbance')\n",
        "plt.legend([\"y=x1\",\"x2\",\"x3\",\"x4\",\"x5\",\"x6\"],)\n",
        "plt.xlabel(\"t\")"
      ],
      "execution_count": null,
      "outputs": [
        {
          "output_type": "execute_result",
          "data": {
            "text/plain": [
              "Text(0.5, 0, 't')"
            ]
          },
          "metadata": {
            "tags": []
          },
          "execution_count": 616
        },
        {
          "output_type": "display_data",
          "data": {
            "image/png": "[encoded data removed]",
            "text/plain": [
              "<Figure size 432x288 with 1 Axes>"
            ]
          },
          "metadata": {
            "tags": []
          }
        }
      ]
    },
    {
      "cell_type": "code",
      "metadata": {
        "id": "fInndL7cM5OM",
        "outputId": "a8348c1f-5e64-4a0b-83dc-2d2139feb630",
        "colab": {
          "base_uri": "https://localhost:8080/",
          "height": 85
        }
      },
      "source": [
        "print(\" Settling time = \", find_Ts(x_of_t[:,0], t, 1), \"\\n Overshoot = \", find_OS(x_of_t[:,0]), \"\\n Settling response = \", find_avg(x_of_t[:,0]), \"\\n Max response =\", max(x_of_t[:,0]))"
      ],
      "execution_count": null,
      "outputs": [
        {
          "output_type": "stream",
          "text": [
            " Settling time =  12.762762762762762 \n",
            " Overshoot =  4.730828285046221e-05 \n",
            " Settling response =  7.997634007734026 \n",
            " Max response = 7.998012362065799\n"
          ],
          "name": "stdout"
        }
      ]
    },
    {
      "cell_type": "code",
      "metadata": {
        "id": "bcAsXNJ2NmaL",
        "outputId": "7e98d380-d26d-4793-ae09-d07751647343",
        "colab": {
          "base_uri": "https://localhost:8080/",
          "height": 312
        }
      },
      "source": [
        "# Goal: Plot the nonlinear impulse response with the step disturbance\n",
        "\n",
        "#make our nonlinear \"f(x1,x2,x3,u)\" into a function that evaluates to numbers\n",
        "f = Matrix([[P_ddotn],[thetadot],[T_ddotn]])\n",
        "fp = lambdify([pdot, theta, thetadot, tau],f,\"numpy\")\n",
        "\n",
        "#our \"f\" function ( defined by xdot = f(x,r)  )\n",
        "def ffn(x,t):\n",
        "  #extract plant and observer dynamics and make it a column \n",
        "  pdot,theta,thetadot = x[:3]\n",
        "  xo = np.array([np.array(x[3:])]).transpose()\n",
        " \n",
        "  #compute r and d\n",
        "  r = approx_impulse(t)\n",
        "  dis = step_fn(t) / -56.5\n",
        "\n",
        "  #compute output from controller\n",
        "  u = (r-K@xo+dis).item()\n",
        "  y = pdot\n",
        "  yhat = (Cn@xo).item()\n",
        "   \n",
        "  #compute fp(x,u) from nonlinear function\n",
        "  xpdot = fp(pdot,theta,thetadot,u).flatten()\n",
        "  xodot = (An@xo+Bn*u+L*(y-yhat)).flatten()\n",
        "  \n",
        "  #return derivatives. \n",
        "  return [xpdot[0],xpdot[1],xpdot[2],xodot[0],xodot[1],xodot[2]]\n",
        " \n",
        "# plot response\n",
        "t = np.linspace(0,30,1000) \n",
        "x_of_t = spi.odeint(ffn,[0,0,0,0,0,0],t) # initial states\n",
        "plt.figure()\n",
        "plt.plot(t,x_of_t)\n",
        "plt.title('Linear Impulse Response with the Wind Disturbance')\n",
        "plt.legend([\"y=x1\",\"x2\",\"x3\",\"x4\",\"x5\",\"x6\"],)\n",
        "plt.xlabel(\"t\")"
      ],
      "execution_count": null,
      "outputs": [
        {
          "output_type": "execute_result",
          "data": {
            "text/plain": [
              "Text(0.5, 0, 't')"
            ]
          },
          "metadata": {
            "tags": []
          },
          "execution_count": 618
        },
        {
          "output_type": "display_data",
          "data": {
            "image/png": "[encoded data removed]",
            "text/plain": [
              "<Figure size 432x288 with 1 Axes>"
            ]
          },
          "metadata": {
            "tags": []
          }
        }
      ]
    },
    {
      "cell_type": "code",
      "metadata": {
        "id": "94OiiaSTOBoV",
        "outputId": "6ea6523e-5521-4509-d6df-7bd96157ad42",
        "colab": {
          "base_uri": "https://localhost:8080/",
          "height": 34
        }
      },
      "source": [
        "print(\" Max response =\", max(x_of_t[:,0]))"
      ],
      "execution_count": null,
      "outputs": [
        {
          "output_type": "stream",
          "text": [
            " Max response = 1.2648254227940314\n"
          ],
          "name": "stdout"
        }
      ]
    },
    {
      "cell_type": "code",
      "metadata": {
        "id": "PnGYd6WzOVX-",
        "outputId": "1ed16c6a-b5a5-43b2-da26-9f00e6863729",
        "colab": {
          "base_uri": "https://localhost:8080/",
          "height": 312
        }
      },
      "source": [
        "# Goal: Plot the nonlinear impulse response with the impulse disturbance\n",
        "\n",
        "#make our nonlinear \"f(x1,x2,x3,u)\" into a function that evaluates to numbers\n",
        "f = Matrix([[P_ddotn],[thetadot],[T_ddotn]])\n",
        "fp = lambdify([pdot, theta, thetadot, tau],f,\"numpy\")\n",
        "\n",
        "#our \"f\" function ( defined by xdot = f(x,r)  )\n",
        "def ffn(x,t):\n",
        "  #extract plant and observer dynamics and make it a column \n",
        "  pdot,theta,thetadot = x[:3]\n",
        "  xo = np.array([np.array(x[3:])]).transpose()\n",
        " \n",
        "  #compute r and d\n",
        "  r = approx_impulse(t)\n",
        "  dis = approx_impulse(t) / -56.5\n",
        "\n",
        "  #compute output from controller\n",
        "  u = (r-K@xo+dis).item()\n",
        "  y = pdot\n",
        "  yhat = (Cn@xo).item()\n",
        "   \n",
        "  #compute fp(x,u) from nonlinear function\n",
        "  xpdot = fp(pdot,theta,thetadot,u).flatten()\n",
        "  xodot = (An@xo+Bn*u+L*(y-yhat)).flatten()\n",
        "  \n",
        "  #return derivatives. \n",
        "  return [xpdot[0],xpdot[1],xpdot[2],xodot[0],xodot[1],xodot[2]]\n",
        " \n",
        "# plot response\n",
        "t = np.linspace(0,30,1000) \n",
        "x_of_t = spi.odeint(ffn,[0,0,0,0,0,0],t) # initial states\n",
        "plt.figure()\n",
        "plt.plot(t,x_of_t)\n",
        "plt.title('Linear Impulse Response with the Wind Disturbance')\n",
        "plt.legend([\"y=x1\",\"x2\",\"x3\",\"x4\",\"x5\",\"x6\"],)\n",
        "plt.xlabel(\"t\")"
      ],
      "execution_count": null,
      "outputs": [
        {
          "output_type": "execute_result",
          "data": {
            "text/plain": [
              "Text(0.5, 0, 't')"
            ]
          },
          "metadata": {
            "tags": []
          },
          "execution_count": 620
        },
        {
          "output_type": "display_data",
          "data": {
            "image/png": "[encoded data removed]",
            "text/plain": [
              "<Figure size 432x288 with 1 Axes>"
            ]
          },
          "metadata": {
            "tags": []
          }
        }
      ]
    },
    {
      "cell_type": "code",
      "metadata": {
        "id": "aaLOQjJxObUQ",
        "outputId": "4148b20a-ce29-4c1c-d7ed-c45dae8a7a01",
        "colab": {
          "base_uri": "https://localhost:8080/",
          "height": 34
        }
      },
      "source": [
        "print(\" Max response =\", max(x_of_t[:,0]))"
      ],
      "execution_count": null,
      "outputs": [
        {
          "output_type": "stream",
          "text": [
            " Max response = 1.2849553284733315\n"
          ],
          "name": "stdout"
        }
      ]
    },
    {
      "cell_type": "code",
      "metadata": {
        "id": "oE8Icohx40dc",
        "outputId": "3fad6936-f817-4be1-d69b-d783098d6ba6",
        "colab": {
          "base_uri": "https://localhost:8080/",
          "height": 357
        }
      },
      "source": [
        "column1 = Matrix([Aeq,LC])\n",
        "column2 = Matrix([-Beq*K,Ahat-LC])\n",
        "Afsfb = MatrixFromColumns([column1[:,0],column1[:,1],column1[:,2],column2[:,0],column2[:,1],column2[:,2]])\n",
        "Bfsfb = Matrix([Beq,Beq])\n",
        "Cfsfb = Matrix([[1,0,0,0,0,0]])\n",
        "Dfsfb = Matrix([[0]])\n",
        "\n",
        "Afsfb = np.array(Afsfb).astype(np.float64)\n",
        "Bfsfb = np.array(Bfsfb).astype(np.float64)\n",
        "Cfsfb = np.array(Cfsfb).astype(np.float64)\n",
        "Dfsfb = np.array(Dfsfb).astype(np.float64)\n",
        "\n",
        "Afsfb, Bfsfb, Cfsfb, Dfsfb"
      ],
      "execution_count": null,
      "outputs": [
        {
          "output_type": "execute_result",
          "data": {
            "text/plain": [
              "(array([[-1.27272727e-02,  2.67545455e+00, -2.42424242e-03,\n",
              "          4.48373645e-02, -1.40907400e+01, -2.73685201e+00],\n",
              "        [ 0.00000000e+00,  0.00000000e+00,  1.00000000e+00,\n",
              "          0.00000000e+00,  0.00000000e+00,  0.00000000e+00],\n",
              "        [-8.48484848e-03,  8.32363636e+00, -7.54208754e-03,\n",
              "          2.98915763e-02, -9.39382665e+00, -1.82456800e+00],\n",
              "        [ 1.19797306e+01,  0.00000000e+00,  0.00000000e+00,\n",
              "         -1.19476205e+01, -1.14152854e+01, -2.73927625e+00],\n",
              "        [ 2.06985399e+01,  0.00000000e+00,  0.00000000e+00,\n",
              "         -2.06985399e+01,  0.00000000e+00,  1.00000000e+00],\n",
              "        [ 5.97274800e+01,  0.00000000e+00,  0.00000000e+00,\n",
              "         -5.97060733e+01, -1.07019028e+00, -1.83211009e+00]]),\n",
              " array([[0.00454545],\n",
              "        [0.        ],\n",
              "        [0.0030303 ],\n",
              "        [0.00454545],\n",
              "        [0.        ],\n",
              "        [0.0030303 ]]),\n",
              " array([[1., 0., 0., 0., 0., 0.]]),\n",
              " array([[0.]]))"
            ]
          },
          "metadata": {
            "tags": []
          },
          "execution_count": 622
        }
      ]
    },
    {
      "cell_type": "code",
      "metadata": {
        "id": "EK4nRgWJCVCy",
        "outputId": "7a2b5cb6-abcb-43eb-c8f3-928f86380fed",
        "colab": {
          "base_uri": "https://localhost:8080/",
          "height": 41
        }
      },
      "source": [
        "Tfsfb = ctrl.ss2tf(Afsfb,Bfsfb,Cfsfb,Dfsfb)\n",
        "Tfsfb"
      ],
      "execution_count": null,
      "outputs": [
        {
          "output_type": "execute_result",
          "data": {
            "text/latex": "$$\\frac{0.004545 s^5 + 0.05457 s^4 + 0.1842 s^3 - 0.08273 s^2 - 1.396 s - 1.784}{s^6 + 13.8 s^5 + 69.67 s^4 + 157.7 s^3 + 160.8 s^2 + 74.07 s + 12.6}$$",
            "text/plain": [
              "\n",
              "0.004545 s^5 + 0.05457 s^4 + 0.1842 s^3 - 0.08273 s^2 - 1.396 s - 1.784\n",
              "-----------------------------------------------------------------------\n",
              "  s^6 + 13.8 s^5 + 69.67 s^4 + 157.7 s^3 + 160.8 s^2 + 74.07 s + 12.6"
            ]
          },
          "metadata": {
            "tags": []
          },
          "execution_count": 623
        }
      ]
    },
    {
      "cell_type": "markdown",
      "metadata": {
        "id": "r4b7OLMyCKY_"
      },
      "source": [
        "## Task 8: Discretization (optional)\n",
        "\n",
        "Derive a discrete model of one of your controlled systems (either the root locus version, the full state feedback version, or the full state feedback with observer version).  Plot the magnitude of the eigenvalues of the closed loop system versus the sampling period. Determine maximum sampling period you can use with your controller that keeps the system stable."
      ]
    },
    {
      "cell_type": "markdown",
      "metadata": {
        "id": "ymnEtiluCKZB"
      },
      "source": [
        "## Task 9: Realism (optional)\n",
        "\n",
        "Our model is not perfect.  For one thing we're using an average child rider for parameters in our model.  How do any or all of your systems perform with larger or smaller riders?\n",
        "\n",
        "What other things are unrealistic or uncertain?  How does this effect the system?  What if there's a delay in your speed measurement?\n",
        "\n",
        "Answer as much of the above as you wish and include any other analysis you think is pertenant."
      ]
    },
    {
      "cell_type": "markdown",
      "metadata": {
        "id": "XkqSC9GoI_gw"
      },
      "source": [
        "#DOCUMENT CHANGE LOG:\n",
        "\n",
        "Incase any errors are caught and corrected this section will contain the change log\n",
        "\n",
        "5/20 2am: version - \"draft\": Released draft assignment.  \n",
        "5/20 8pm: 1.0 - fixed into.  Clarified sensitivity task."
      ]
    }
  ]
}